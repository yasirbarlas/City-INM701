{
 "cells": [
  {
   "cell_type": "markdown",
   "id": "741f21a5",
   "metadata": {
    "papermill": {
     "duration": 0.008412,
     "end_time": "2023-12-25T15:13:37.702766",
     "exception": false,
     "start_time": "2023-12-25T15:13:37.694354",
     "status": "completed"
    },
    "tags": []
   },
   "source": [
    "# INM701: Random Forests (Part 1, Original Data)\n",
    "\n",
    "We use scikit-learn to train and test a random forest model on a dataset of proteins and their secondary structures.\n",
    "\n",
    "This notebook is specifically for the original data without any oversampling. The validation phase is done for both the Entropy and Gini criteria.\n",
    "\n",
    "The work presented here is part of the coursework of the INM701 module at City, University of London. The Github repository can be found [here](https://github.com/yasirbarlas/City-INM701)."
   ]
  },
  {
   "cell_type": "markdown",
   "id": "b7bdffeb",
   "metadata": {
    "papermill": {
     "duration": 0.007319,
     "end_time": "2023-12-25T15:13:37.717933",
     "exception": false,
     "start_time": "2023-12-25T15:13:37.710614",
     "status": "completed"
    },
    "tags": []
   },
   "source": [
    "### Import Libraries"
   ]
  },
  {
   "cell_type": "code",
   "execution_count": 1,
   "id": "06565236",
   "metadata": {
    "execution": {
     "iopub.execute_input": "2023-12-25T15:13:37.735545Z",
     "iopub.status.busy": "2023-12-25T15:13:37.735046Z",
     "iopub.status.idle": "2023-12-25T15:13:38.234231Z",
     "shell.execute_reply": "2023-12-25T15:13:38.232652Z"
    },
    "papermill": {
     "duration": 0.511643,
     "end_time": "2023-12-25T15:13:38.237299",
     "exception": false,
     "start_time": "2023-12-25T15:13:37.725656",
     "status": "completed"
    },
    "tags": []
   },
   "outputs": [],
   "source": [
    "# Import Relevant Libraries\n",
    "import os\n",
    "import numpy as np\n",
    "import pandas as pd\n",
    "import random\n",
    "import matplotlib.pyplot as plt\n",
    "\n",
    "# Ignore warnings (making the work easier to read)\n",
    "import warnings\n",
    "warnings.filterwarnings(\"ignore\")"
   ]
  },
  {
   "cell_type": "markdown",
   "id": "fe501761",
   "metadata": {
    "papermill": {
     "duration": 0.008106,
     "end_time": "2023-12-25T15:13:38.253224",
     "exception": false,
     "start_time": "2023-12-25T15:13:38.245118",
     "status": "completed"
    },
    "tags": []
   },
   "source": [
    "### Import Dataset\n",
    "\n",
    "Refer to the 'eda-data-processing.ipynb' workbook for more detail on how this dataset was created."
   ]
  },
  {
   "cell_type": "code",
   "execution_count": 2,
   "id": "7c91c715",
   "metadata": {
    "execution": {
     "iopub.execute_input": "2023-12-25T15:13:38.271469Z",
     "iopub.status.busy": "2023-12-25T15:13:38.270778Z",
     "iopub.status.idle": "2023-12-25T15:13:38.421079Z",
     "shell.execute_reply": "2023-12-25T15:13:38.420193Z"
    },
    "papermill": {
     "duration": 0.162479,
     "end_time": "2023-12-25T15:13:38.423708",
     "exception": false,
     "start_time": "2023-12-25T15:13:38.261229",
     "status": "completed"
    },
    "tags": []
   },
   "outputs": [
    {
     "data": {
      "text/html": [
       "<div>\n",
       "<style scoped>\n",
       "    .dataframe tbody tr th:only-of-type {\n",
       "        vertical-align: middle;\n",
       "    }\n",
       "\n",
       "    .dataframe tbody tr th {\n",
       "        vertical-align: top;\n",
       "    }\n",
       "\n",
       "    .dataframe thead th {\n",
       "        text-align: right;\n",
       "    }\n",
       "</style>\n",
       "<table border=\"1\" class=\"dataframe\">\n",
       "  <thead>\n",
       "    <tr style=\"text-align: right;\">\n",
       "      <th></th>\n",
       "      <th>pdb_id</th>\n",
       "      <th>chain_code</th>\n",
       "      <th>seq</th>\n",
       "      <th>sst8</th>\n",
       "      <th>sst3</th>\n",
       "      <th>len</th>\n",
       "    </tr>\n",
       "  </thead>\n",
       "  <tbody>\n",
       "    <tr>\n",
       "      <th>0</th>\n",
       "      <td>1BXL</td>\n",
       "      <td>B</td>\n",
       "      <td>GQVGRQLAIIGDDINR</td>\n",
       "      <td>CCTTHHHHHHHHHTCC</td>\n",
       "      <td>CCCCHHHHHHHHHCCC</td>\n",
       "      <td>16</td>\n",
       "    </tr>\n",
       "    <tr>\n",
       "      <th>1</th>\n",
       "      <td>1D9K</td>\n",
       "      <td>P</td>\n",
       "      <td>GNSHRGAIEWEGIESG</td>\n",
       "      <td>CCEECCCCCCCCCCCC</td>\n",
       "      <td>CCEECCCCCCCCCCCC</td>\n",
       "      <td>16</td>\n",
       "    </tr>\n",
       "    <tr>\n",
       "      <th>2</th>\n",
       "      <td>1DPU</td>\n",
       "      <td>B</td>\n",
       "      <td>RIQRNKAAALLRLAAR</td>\n",
       "      <td>CCSSHHHHHHHHHHCC</td>\n",
       "      <td>CCCCHHHHHHHHHHCC</td>\n",
       "      <td>16</td>\n",
       "    </tr>\n",
       "    <tr>\n",
       "      <th>3</th>\n",
       "      <td>1DXP</td>\n",
       "      <td>C</td>\n",
       "      <td>KGSVVIVGRIILSGRK</td>\n",
       "      <td>CCCBEEEEEEEECCCC</td>\n",
       "      <td>CCCEEEEEEEEECCCC</td>\n",
       "      <td>16</td>\n",
       "    </tr>\n",
       "    <tr>\n",
       "      <th>4</th>\n",
       "      <td>1EJH</td>\n",
       "      <td>E</td>\n",
       "      <td>KQYDREFLLDFQFMPA</td>\n",
       "      <td>CCCCHHHHHTTSCCCC</td>\n",
       "      <td>CCCCHHHHHCCCCCCC</td>\n",
       "      <td>16</td>\n",
       "    </tr>\n",
       "    <tr>\n",
       "      <th>...</th>\n",
       "      <td>...</td>\n",
       "      <td>...</td>\n",
       "      <td>...</td>\n",
       "      <td>...</td>\n",
       "      <td>...</td>\n",
       "      <td>...</td>\n",
       "    </tr>\n",
       "    <tr>\n",
       "      <th>15267</th>\n",
       "      <td>6UUJ</td>\n",
       "      <td>A</td>\n",
       "      <td>GAMVPEGLAAASAAVEALTARLAAAHASAAPVITAVVPPAADPVSL...</td>\n",
       "      <td>CCCCCSTTHHHHHHHHHHHHHHHHHHHHSHHHHHSCCCSSSSHHHH...</td>\n",
       "      <td>CCCCCCCCHHHHHHHHHHHHHHHHHHHHCHHHHHCCCCCCCCHHHH...</td>\n",
       "      <td>100</td>\n",
       "    </tr>\n",
       "    <tr>\n",
       "      <th>15268</th>\n",
       "      <td>6V7M</td>\n",
       "      <td>A</td>\n",
       "      <td>MKVLWAALLVTFLAGCQAKVEQAVETEPEPELRQQTEWQSGQRWEL...</td>\n",
       "      <td>CCCCCCCCCCCCCCCCCCCCCCCCCCCCCCCCCCCCCCCCCCHHHH...</td>\n",
       "      <td>CCCCCCCCCCCCCCCCCCCCCCCCCCCCCCCCCCCCCCCCCCHHHH...</td>\n",
       "      <td>100</td>\n",
       "    </tr>\n",
       "    <tr>\n",
       "      <th>15269</th>\n",
       "      <td>6VQX</td>\n",
       "      <td>A</td>\n",
       "      <td>MKVPAFFAANILTIEQIIEAINNDGSAMTSAPEIAGYYAWDAATDA...</td>\n",
       "      <td>CCCCSSTTSSCCCHHHHHHHHHTTSCTTSCHHHHHHHHHHHHHHHS...</td>\n",
       "      <td>CCCCCCCCCCCCCHHHHHHHHHCCCCCCCCHHHHHHHHHHHHHHHC...</td>\n",
       "      <td>100</td>\n",
       "    </tr>\n",
       "    <tr>\n",
       "      <th>15270</th>\n",
       "      <td>6XVF</td>\n",
       "      <td>F</td>\n",
       "      <td>RWLEGIRKWYYNAAGFNKLGLMRDDTIHENDDVKEAIRRLPENLYN...</td>\n",
       "      <td>CCTHHHHHHHHHHHCGGGGTCCGGGSBCCCHHHHHHHHTSCHHHHH...</td>\n",
       "      <td>CCCHHHHHHHHHHHCHHHHCCCHHHCECCCHHHHHHHHCCCHHHHH...</td>\n",
       "      <td>100</td>\n",
       "    </tr>\n",
       "    <tr>\n",
       "      <th>15271</th>\n",
       "      <td>6YIE</td>\n",
       "      <td>B</td>\n",
       "      <td>VAKTNSLRRRKLASFLKDFDREVEIRIKQIESDRQNLLKEVDNLYN...</td>\n",
       "      <td>CCCCCCHHHHHHHHHHHHHHHHHHHHHHHHHHHHHHHHHHHHHHHH...</td>\n",
       "      <td>CCCCCCHHHHHHHHHHHHHHHHHHHHHHHHHHHHHHHHHHHHHHHH...</td>\n",
       "      <td>100</td>\n",
       "    </tr>\n",
       "  </tbody>\n",
       "</table>\n",
       "<p>15272 rows × 6 columns</p>\n",
       "</div>"
      ],
      "text/plain": [
       "      pdb_id chain_code                                                seq  \\\n",
       "0       1BXL          B                                   GQVGRQLAIIGDDINR   \n",
       "1       1D9K          P                                   GNSHRGAIEWEGIESG   \n",
       "2       1DPU          B                                   RIQRNKAAALLRLAAR   \n",
       "3       1DXP          C                                   KGSVVIVGRIILSGRK   \n",
       "4       1EJH          E                                   KQYDREFLLDFQFMPA   \n",
       "...      ...        ...                                                ...   \n",
       "15267   6UUJ          A  GAMVPEGLAAASAAVEALTARLAAAHASAAPVITAVVPPAADPVSL...   \n",
       "15268   6V7M          A  MKVLWAALLVTFLAGCQAKVEQAVETEPEPELRQQTEWQSGQRWEL...   \n",
       "15269   6VQX          A  MKVPAFFAANILTIEQIIEAINNDGSAMTSAPEIAGYYAWDAATDA...   \n",
       "15270   6XVF          F  RWLEGIRKWYYNAAGFNKLGLMRDDTIHENDDVKEAIRRLPENLYN...   \n",
       "15271   6YIE          B  VAKTNSLRRRKLASFLKDFDREVEIRIKQIESDRQNLLKEVDNLYN...   \n",
       "\n",
       "                                                    sst8  \\\n",
       "0                                       CCTTHHHHHHHHHTCC   \n",
       "1                                       CCEECCCCCCCCCCCC   \n",
       "2                                       CCSSHHHHHHHHHHCC   \n",
       "3                                       CCCBEEEEEEEECCCC   \n",
       "4                                       CCCCHHHHHTTSCCCC   \n",
       "...                                                  ...   \n",
       "15267  CCCCCSTTHHHHHHHHHHHHHHHHHHHHSHHHHHSCCCSSSSHHHH...   \n",
       "15268  CCCCCCCCCCCCCCCCCCCCCCCCCCCCCCCCCCCCCCCCCCHHHH...   \n",
       "15269  CCCCSSTTSSCCCHHHHHHHHHTTSCTTSCHHHHHHHHHHHHHHHS...   \n",
       "15270  CCTHHHHHHHHHHHCGGGGTCCGGGSBCCCHHHHHHHHTSCHHHHH...   \n",
       "15271  CCCCCCHHHHHHHHHHHHHHHHHHHHHHHHHHHHHHHHHHHHHHHH...   \n",
       "\n",
       "                                                    sst3  len  \n",
       "0                                       CCCCHHHHHHHHHCCC   16  \n",
       "1                                       CCEECCCCCCCCCCCC   16  \n",
       "2                                       CCCCHHHHHHHHHHCC   16  \n",
       "3                                       CCCEEEEEEEEECCCC   16  \n",
       "4                                       CCCCHHHHHCCCCCCC   16  \n",
       "...                                                  ...  ...  \n",
       "15267  CCCCCCCCHHHHHHHHHHHHHHHHHHHHCHHHHHCCCCCCCCHHHH...  100  \n",
       "15268  CCCCCCCCCCCCCCCCCCCCCCCCCCCCCCCCCCCCCCCCCCHHHH...  100  \n",
       "15269  CCCCCCCCCCCCCHHHHHHHHHCCCCCCCCHHHHHHHHHHHHHHHC...  100  \n",
       "15270  CCCHHHHHHHHHHHCHHHHCCCHHHCECCCHHHHHHHHCCCHHHHH...  100  \n",
       "15271  CCCCCCHHHHHHHHHHHHHHHHHHHHHHHHHHHHHHHHHHHHHHHH...  100  \n",
       "\n",
       "[15272 rows x 6 columns]"
      ]
     },
     "execution_count": 2,
     "metadata": {},
     "output_type": "execute_result"
    }
   ],
   "source": [
    "# Create a variable for the path to the directory containing the dataset (and where to work)\n",
    "path = \"/kaggle/input/protein-sequences-16-100\"\n",
    "\n",
    "# Create a variable containing the full path of the dataset\n",
    "dataset = os.path.join(path, \"prot-seq-filtered.csv\")\n",
    "\n",
    "# Create a Pandas DataFrame of the dataset (which is a .csv file)\n",
    "df = pd.read_csv(dataset, delimiter = \",\")\n",
    "\n",
    "df"
   ]
  },
  {
   "cell_type": "markdown",
   "id": "646a5786",
   "metadata": {
    "papermill": {
     "duration": 0.007892,
     "end_time": "2023-12-25T15:13:38.440099",
     "exception": false,
     "start_time": "2023-12-25T15:13:38.432207",
     "status": "completed"
    },
    "tags": []
   },
   "source": [
    "### Set Random Seed and $k$-mer Size\n",
    "\n",
    "We choose a seed for reproducibility and a sensible $k$-mer size."
   ]
  },
  {
   "cell_type": "code",
   "execution_count": 3,
   "id": "7ece840e",
   "metadata": {
    "execution": {
     "iopub.execute_input": "2023-12-25T15:13:38.459168Z",
     "iopub.status.busy": "2023-12-25T15:13:38.457973Z",
     "iopub.status.idle": "2023-12-25T15:13:38.463859Z",
     "shell.execute_reply": "2023-12-25T15:13:38.462756Z"
    },
    "papermill": {
     "duration": 0.018166,
     "end_time": "2023-12-25T15:13:38.466385",
     "exception": false,
     "start_time": "2023-12-25T15:13:38.448219",
     "status": "completed"
    },
    "tags": []
   },
   "outputs": [],
   "source": [
    "# k-mer size and seed choice\n",
    "\n",
    "kmer_size = 3\n",
    "randomer = 50\n",
    "\n",
    "# Random Seed\n",
    "random.seed(randomer)\n",
    "np.random.seed(randomer)"
   ]
  },
  {
   "cell_type": "markdown",
   "id": "923a0c30",
   "metadata": {
    "papermill": {
     "duration": 0.007959,
     "end_time": "2023-12-25T15:13:38.482545",
     "exception": false,
     "start_time": "2023-12-25T15:13:38.474586",
     "status": "completed"
    },
    "tags": []
   },
   "source": [
    "### Generate $k$-mers\n",
    "\n",
    "We convert our protein sequences in to $k$-mers, making the problem less computationally expensive. The choice of $k$ affects the performance of the model, with higher $k$ likely leading to less accurate models. This accuracy can vary based on much larger datasets, and with longer protein sequences.\n",
    "\n",
    "For example, the 3-mers for \"GQVGRQ\" are:\n",
    "\n",
    "GQV, QVG, VGR, GRQ"
   ]
  },
  {
   "cell_type": "code",
   "execution_count": 4,
   "id": "67b39ae5",
   "metadata": {
    "execution": {
     "iopub.execute_input": "2023-12-25T15:13:38.501752Z",
     "iopub.status.busy": "2023-12-25T15:13:38.501200Z",
     "iopub.status.idle": "2023-12-25T15:13:38.862396Z",
     "shell.execute_reply": "2023-12-25T15:13:38.861184Z"
    },
    "papermill": {
     "duration": 0.373745,
     "end_time": "2023-12-25T15:13:38.864872",
     "exception": false,
     "start_time": "2023-12-25T15:13:38.491127",
     "status": "completed"
    },
    "tags": []
   },
   "outputs": [
    {
     "name": "stdout",
     "output_type": "stream",
     "text": [
      "Maximum Protein Length: 100\n"
     ]
    },
    {
     "data": {
      "text/html": [
       "<div>\n",
       "<style scoped>\n",
       "    .dataframe tbody tr th:only-of-type {\n",
       "        vertical-align: middle;\n",
       "    }\n",
       "\n",
       "    .dataframe tbody tr th {\n",
       "        vertical-align: top;\n",
       "    }\n",
       "\n",
       "    .dataframe thead th {\n",
       "        text-align: right;\n",
       "    }\n",
       "</style>\n",
       "<table border=\"1\" class=\"dataframe\">\n",
       "  <thead>\n",
       "    <tr style=\"text-align: right;\">\n",
       "      <th></th>\n",
       "      <th>pdb_id</th>\n",
       "      <th>chain_code</th>\n",
       "      <th>seq</th>\n",
       "      <th>sst8</th>\n",
       "      <th>sst3</th>\n",
       "      <th>len</th>\n",
       "      <th>kmers</th>\n",
       "    </tr>\n",
       "  </thead>\n",
       "  <tbody>\n",
       "    <tr>\n",
       "      <th>0</th>\n",
       "      <td>1BXL</td>\n",
       "      <td>B</td>\n",
       "      <td>GQVGRQLAIIGDDINR</td>\n",
       "      <td>CCTTHHHHHHHHHTCC</td>\n",
       "      <td>CCCCHHHHHHHHHCCC</td>\n",
       "      <td>16</td>\n",
       "      <td>[GQV, QVG, VGR, GRQ, RQL, QLA, LAI, AII, IIG, ...</td>\n",
       "    </tr>\n",
       "    <tr>\n",
       "      <th>1</th>\n",
       "      <td>1D9K</td>\n",
       "      <td>P</td>\n",
       "      <td>GNSHRGAIEWEGIESG</td>\n",
       "      <td>CCEECCCCCCCCCCCC</td>\n",
       "      <td>CCEECCCCCCCCCCCC</td>\n",
       "      <td>16</td>\n",
       "      <td>[GNS, NSH, SHR, HRG, RGA, GAI, AIE, IEW, EWE, ...</td>\n",
       "    </tr>\n",
       "    <tr>\n",
       "      <th>2</th>\n",
       "      <td>1DPU</td>\n",
       "      <td>B</td>\n",
       "      <td>RIQRNKAAALLRLAAR</td>\n",
       "      <td>CCSSHHHHHHHHHHCC</td>\n",
       "      <td>CCCCHHHHHHHHHHCC</td>\n",
       "      <td>16</td>\n",
       "      <td>[RIQ, IQR, QRN, RNK, NKA, KAA, AAA, AAL, ALL, ...</td>\n",
       "    </tr>\n",
       "    <tr>\n",
       "      <th>3</th>\n",
       "      <td>1DXP</td>\n",
       "      <td>C</td>\n",
       "      <td>KGSVVIVGRIILSGRK</td>\n",
       "      <td>CCCBEEEEEEEECCCC</td>\n",
       "      <td>CCCEEEEEEEEECCCC</td>\n",
       "      <td>16</td>\n",
       "      <td>[KGS, GSV, SVV, VVI, VIV, IVG, VGR, GRI, RII, ...</td>\n",
       "    </tr>\n",
       "    <tr>\n",
       "      <th>4</th>\n",
       "      <td>1EJH</td>\n",
       "      <td>E</td>\n",
       "      <td>KQYDREFLLDFQFMPA</td>\n",
       "      <td>CCCCHHHHHTTSCCCC</td>\n",
       "      <td>CCCCHHHHHCCCCCCC</td>\n",
       "      <td>16</td>\n",
       "      <td>[KQY, QYD, YDR, DRE, REF, EFL, FLL, LLD, LDF, ...</td>\n",
       "    </tr>\n",
       "  </tbody>\n",
       "</table>\n",
       "</div>"
      ],
      "text/plain": [
       "  pdb_id chain_code               seq              sst8              sst3  \\\n",
       "0   1BXL          B  GQVGRQLAIIGDDINR  CCTTHHHHHHHHHTCC  CCCCHHHHHHHHHCCC   \n",
       "1   1D9K          P  GNSHRGAIEWEGIESG  CCEECCCCCCCCCCCC  CCEECCCCCCCCCCCC   \n",
       "2   1DPU          B  RIQRNKAAALLRLAAR  CCSSHHHHHHHHHHCC  CCCCHHHHHHHHHHCC   \n",
       "3   1DXP          C  KGSVVIVGRIILSGRK  CCCBEEEEEEEECCCC  CCCEEEEEEEEECCCC   \n",
       "4   1EJH          E  KQYDREFLLDFQFMPA  CCCCHHHHHTTSCCCC  CCCCHHHHHCCCCCCC   \n",
       "\n",
       "   len                                              kmers  \n",
       "0   16  [GQV, QVG, VGR, GRQ, RQL, QLA, LAI, AII, IIG, ...  \n",
       "1   16  [GNS, NSH, SHR, HRG, RGA, GAI, AIE, IEW, EWE, ...  \n",
       "2   16  [RIQ, IQR, QRN, RNK, NKA, KAA, AAA, AAL, ALL, ...  \n",
       "3   16  [KGS, GSV, SVV, VVI, VIV, IVG, VGR, GRI, RII, ...  \n",
       "4   16  [KQY, QYD, YDR, DRE, REF, EFL, FLL, LLD, LDF, ...  "
      ]
     },
     "execution_count": 4,
     "metadata": {},
     "output_type": "execute_result"
    }
   ],
   "source": [
    "# Define k-mer function (n-gram)\n",
    "def kmers(seq, k = kmer_size):\n",
    "    return ([seq[i:i + k] for i in range(len(seq) - k + 1)])\n",
    "\n",
    "# Apply the k-mer function to the amino acid sequences\n",
    "df[\"kmers\"] = df[\"seq\"].apply(kmers)\n",
    "\n",
    "# Find the maximum length of the sequences (we know from previously processing our dataset that it is 100)\n",
    "maxlen = max(df[\"len\"])\n",
    "print(\"Maximum Protein Length:\", maxlen)\n",
    "\n",
    "df.head()"
   ]
  },
  {
   "cell_type": "markdown",
   "id": "6b359c4c",
   "metadata": {
    "papermill": {
     "duration": 0.008744,
     "end_time": "2023-12-25T15:13:38.882780",
     "exception": false,
     "start_time": "2023-12-25T15:13:38.874036",
     "status": "completed"
    },
    "tags": []
   },
   "source": [
    "### Pre-processing and Padding\n",
    "\n",
    "We use the Tokenizer class to transform our protein sequences and secondary structures into sequences of integers, where each integer is an index of a token in a dictionary. A dictionary is made for our 3-mers, and another dictionary is made for our secondary structures. Padding is performed to make the length of each sequence equal."
   ]
  },
  {
   "cell_type": "code",
   "execution_count": 5,
   "id": "1af1e716",
   "metadata": {
    "execution": {
     "iopub.execute_input": "2023-12-25T15:13:38.902935Z",
     "iopub.status.busy": "2023-12-25T15:13:38.901683Z",
     "iopub.status.idle": "2023-12-25T15:13:56.116417Z",
     "shell.execute_reply": "2023-12-25T15:13:56.115103Z"
    },
    "papermill": {
     "duration": 17.228169,
     "end_time": "2023-12-25T15:13:56.119624",
     "exception": false,
     "start_time": "2023-12-25T15:13:38.891455",
     "status": "completed"
    },
    "tags": []
   },
   "outputs": [
    {
     "name": "stdout",
     "output_type": "stream",
     "text": [
      "CPU times: user 11.7 s, sys: 1.5 s, total: 13.2 s\n",
      "Wall time: 17.2 s\n"
     ]
    },
    {
     "data": {
      "text/plain": [
       "((15272, 100), (15272, 100))"
      ]
     },
     "execution_count": 5,
     "metadata": {},
     "output_type": "execute_result"
    }
   ],
   "source": [
    "%%time\n",
    "\n",
    "# We will use functions from Keras to pre-process our data to be used in the model\n",
    "from tensorflow.keras.preprocessing import sequence\n",
    "from tensorflow.keras.preprocessing.text import Tokenizer\n",
    "\n",
    "# Create Tokenizer class for protein sequences, without making them lowercase\n",
    "tok_x = Tokenizer(lower = False)\n",
    "# Fit Tokenizer on protein sequences (k-mers)\n",
    "tok_x.fit_on_texts(df[\"kmers\"].values)\n",
    "# Convert protein sequences into sequence of integers and pad where necessary\n",
    "X = tok_x.texts_to_sequences(df[\"kmers\"].values)\n",
    "X = sequence.pad_sequences(X, maxlen = maxlen, padding = \"post\")\n",
    "\n",
    "# Create Tokenizer class for secondary sequences, and treat every character (element) as a token\n",
    "tok_y = Tokenizer(char_level = True)\n",
    "# Fit Tokenizer on secondary structures\n",
    "tok_y.fit_on_texts(df[\"sst3\"].values)\n",
    "# Convert secondary structures into sequence of integers and pad where necessary\n",
    "y = tok_y.texts_to_sequences(df[\"sst3\"].values)\n",
    "y = sequence.pad_sequences(y, maxlen = maxlen, padding = \"post\")\n",
    "\n",
    "X.shape, y.shape"
   ]
  },
  {
   "cell_type": "markdown",
   "id": "d832db42",
   "metadata": {
    "papermill": {
     "duration": 0.008751,
     "end_time": "2023-12-25T15:13:56.137872",
     "exception": false,
     "start_time": "2023-12-25T15:13:56.129121",
     "status": "completed"
    },
    "tags": []
   },
   "source": [
    "### Training, Validation and Test Split\n",
    "\n",
    "We split our dataset into training, validation and test sets, where the training set is used to train the model. The validation set is used to choose a sensible model after it has been trained. The test set is used to test the performance of our final candidate model."
   ]
  },
  {
   "cell_type": "code",
   "execution_count": 6,
   "id": "8819e1bc",
   "metadata": {
    "execution": {
     "iopub.execute_input": "2023-12-25T15:13:56.159269Z",
     "iopub.status.busy": "2023-12-25T15:13:56.157515Z",
     "iopub.status.idle": "2023-12-25T15:13:57.148387Z",
     "shell.execute_reply": "2023-12-25T15:13:57.147157Z"
    },
    "papermill": {
     "duration": 1.004147,
     "end_time": "2023-12-25T15:13:57.150942",
     "exception": false,
     "start_time": "2023-12-25T15:13:56.146795",
     "status": "completed"
    },
    "tags": []
   },
   "outputs": [
    {
     "data": {
      "text/plain": [
       "((11454, 100),\n",
       " (11454, 100),\n",
       " (1272, 100),\n",
       " (1272, 100),\n",
       " (2546, 100),\n",
       " (2546, 100))"
      ]
     },
     "execution_count": 6,
     "metadata": {},
     "output_type": "execute_result"
    }
   ],
   "source": [
    "from sklearn.model_selection import train_test_split\n",
    "\n",
    "# Split the data into training, validation and test sets\n",
    "X_train, X_temp, y_train, y_temp = train_test_split(X, y, train_size = 3/4, test_size = 1/4, random_state = randomer)\n",
    "\n",
    "X_val, X_test, y_val, y_test = train_test_split(X_temp, y_temp, train_size = 1/3, test_size = 2/3, random_state = randomer)\n",
    "\n",
    "X_train.shape, y_train.shape, X_val.shape, y_val.shape, X_test.shape, y_test.shape"
   ]
  },
  {
   "cell_type": "code",
   "execution_count": 7,
   "id": "0b643c58",
   "metadata": {
    "execution": {
     "iopub.execute_input": "2023-12-25T15:13:57.172954Z",
     "iopub.status.busy": "2023-12-25T15:13:57.172453Z",
     "iopub.status.idle": "2023-12-25T15:13:57.181986Z",
     "shell.execute_reply": "2023-12-25T15:13:57.180755Z"
    },
    "papermill": {
     "duration": 0.023247,
     "end_time": "2023-12-25T15:13:57.184385",
     "exception": false,
     "start_time": "2023-12-25T15:13:57.161138",
     "status": "completed"
    },
    "tags": []
   },
   "outputs": [
    {
     "data": {
      "text/plain": [
       "(array([3272, 2093, 4483,  695,  203, 1554, 2110, 1956, 2856, 3513, 2841,\n",
       "        2369, 1917, 3529, 1159,  110, 1527,  943, 3428, 4868, 4080, 6729,\n",
       "        6249, 6991, 5684, 3603, 2648, 2493, 1682,  621, 1677, 1171, 2116,\n",
       "         692, 1320, 3613, 4117, 4087, 1683, 4427, 2159, 2269, 3387, 2341,\n",
       "        1270,  121,  365,  161, 2364, 2950, 4291, 5756, 4993, 4479, 3168,\n",
       "        3306, 4084, 5154,    0,    0,    0,    0,    0,    0,    0,    0,\n",
       "           0,    0,    0,    0,    0,    0,    0,    0,    0,    0,    0,\n",
       "           0,    0,    0,    0,    0,    0,    0,    0,    0,    0,    0,\n",
       "           0,    0,    0,    0,    0,    0,    0,    0,    0,    0,    0,\n",
       "           0], dtype=int32),\n",
       " array([1, 3, 3, 3, 1, 1, 1, 1, 1, 1, 3, 3, 3, 1, 1, 1, 1, 1, 1, 3, 3, 3,\n",
       "        3, 3, 3, 3, 1, 1, 3, 3, 3, 3, 3, 3, 3, 3, 3, 3, 3, 1, 1, 1, 1, 1,\n",
       "        1, 1, 1, 1, 3, 3, 3, 3, 3, 3, 1, 1, 1, 1, 1, 1, 0, 0, 0, 0, 0, 0,\n",
       "        0, 0, 0, 0, 0, 0, 0, 0, 0, 0, 0, 0, 0, 0, 0, 0, 0, 0, 0, 0, 0, 0,\n",
       "        0, 0, 0, 0, 0, 0, 0, 0, 0, 0, 0, 0], dtype=int32))"
      ]
     },
     "execution_count": 7,
     "metadata": {},
     "output_type": "execute_result"
    }
   ],
   "source": [
    "X_train[0], y_train[0]"
   ]
  },
  {
   "cell_type": "code",
   "execution_count": 8,
   "id": "0c4aed93",
   "metadata": {
    "execution": {
     "iopub.execute_input": "2023-12-25T15:13:57.205654Z",
     "iopub.status.busy": "2023-12-25T15:13:57.205194Z",
     "iopub.status.idle": "2023-12-25T15:13:58.881819Z",
     "shell.execute_reply": "2023-12-25T15:13:58.880511Z"
    },
    "papermill": {
     "duration": 1.691066,
     "end_time": "2023-12-25T15:13:58.885142",
     "exception": false,
     "start_time": "2023-12-25T15:13:57.194076",
     "status": "completed"
    },
    "tags": []
   },
   "outputs": [
    {
     "name": "stdout",
     "output_type": "stream",
     "text": [
      "Without Oversampling:\n",
      "Number in Class 0 : 408388 , 35.65461847389558 %\n",
      "Number in Class 1 : 366060 , 31.959140911471973 %\n",
      "Number in Class 2 : 239124 , 20.876898899947616 %\n",
      "Number in Class 3 : 131828 , 11.509341714684826 %\n"
     ]
    }
   ],
   "source": [
    "from sklearn.metrics import classification_report\n",
    "\n",
    "# Simple way to find out how many instances there are of each class\n",
    "report1 = classification_report(y_train.flatten(), y_train.flatten(), output_dict = True)\n",
    "\n",
    "print(\"Without Oversampling:\")\n",
    "for i in [\"0\",\"1\",\"2\",\"3\"]:\n",
    "    print(\"Number in Class\", i, \":\", report1[i][\"support\"], \",\", report1[i][\"support\"] * 100 / report1[\"weighted avg\"][\"support\"], \"%\")"
   ]
  },
  {
   "cell_type": "code",
   "execution_count": 9,
   "id": "553524f6",
   "metadata": {
    "execution": {
     "iopub.execute_input": "2023-12-25T15:13:58.908033Z",
     "iopub.status.busy": "2023-12-25T15:13:58.907550Z",
     "iopub.status.idle": "2023-12-25T15:13:58.916345Z",
     "shell.execute_reply": "2023-12-25T15:13:58.915073Z"
    },
    "papermill": {
     "duration": 0.023516,
     "end_time": "2023-12-25T15:13:58.918820",
     "exception": false,
     "start_time": "2023-12-25T15:13:58.895304",
     "status": "completed"
    },
    "tags": []
   },
   "outputs": [],
   "source": [
    "from collections import defaultdict\n",
    "\n",
    "# Function to visualise distribution of SST-3/SST-8 (taken from EDA workbook, adapted to arrays)\n",
    "def sst_visualise(array, ss_types, labels, ss_colours, title):\n",
    "    ss_counts = defaultdict(lambda: 0)\n",
    "\n",
    "    for row in array:\n",
    "        for element in row:\n",
    "            ss_counts[element] += 1\n",
    "\n",
    "    plt.bar(range(len(ss_types)), height = [ss_counts[ss] for ss in ss_types], tick_label = labels, edgecolor = \"black\", width = 0.75, zorder = 3, color = ss_colours)\n",
    "    plt.title(title)\n",
    "    plt.xlabel(\"Element\")\n",
    "    plt.ylabel(\"Frequency\")\n",
    "    plt.show()"
   ]
  },
  {
   "cell_type": "code",
   "execution_count": 10,
   "id": "19193451",
   "metadata": {
    "execution": {
     "iopub.execute_input": "2023-12-25T15:13:58.941793Z",
     "iopub.status.busy": "2023-12-25T15:13:58.941264Z",
     "iopub.status.idle": "2023-12-25T15:13:59.891703Z",
     "shell.execute_reply": "2023-12-25T15:13:59.890752Z"
    },
    "papermill": {
     "duration": 0.966522,
     "end_time": "2023-12-25T15:13:59.895340",
     "exception": false,
     "start_time": "2023-12-25T15:13:58.928818",
     "status": "completed"
    },
    "tags": []
   },
   "outputs": [
    {
     "data": {
      "image/png": "[encoded data removed]",
      "text/plain": [
       "<Figure size 640x480 with 1 Axes>"
      ]
     },
     "metadata": {},
     "output_type": "display_data"
    }
   ],
   "source": [
    "# Define elements for SST-3 and SST-8, and custom colours\n",
    "ss_types = list(set(np.ravel(y_train)))\n",
    "labels = [\"Padding\", \"C\", \"H\", \"E\"]\n",
    "ss_colours = [\"grey\", \"purple\", \"orange\", \"black\"]\n",
    "\n",
    "# Plot for training set distribution before oversampling\n",
    "sst_visualise(y_train, ss_types, labels, ss_colours, \"Secondary Structure Distribution (Training; Without Oversampling)\")"
   ]
  },
  {
   "cell_type": "markdown",
   "id": "4269b020",
   "metadata": {
    "papermill": {
     "duration": 0.010815,
     "end_time": "2023-12-25T15:13:59.921886",
     "exception": false,
     "start_time": "2023-12-25T15:13:59.911071",
     "status": "completed"
    },
    "tags": []
   },
   "source": [
    "### Import Classifier and Define Q3 Accuracy Metric\n",
    "\n",
    "We are interested in using random forests for multi-output classification, so we import the relevant functions from scikit-learn. Q3 accuracy is an important metric for assessing the accuracy of our models, as it excludes the padding class in its calculations (it is otherwise equivalent to 'accuracy_score' from scikit-learn)."
   ]
  },
  {
   "cell_type": "code",
   "execution_count": 11,
   "id": "1f3d03b7",
   "metadata": {
    "execution": {
     "iopub.execute_input": "2023-12-25T15:13:59.946442Z",
     "iopub.status.busy": "2023-12-25T15:13:59.945124Z",
     "iopub.status.idle": "2023-12-25T15:14:00.264084Z",
     "shell.execute_reply": "2023-12-25T15:14:00.262267Z"
    },
    "papermill": {
     "duration": 0.334785,
     "end_time": "2023-12-25T15:14:00.267227",
     "exception": false,
     "start_time": "2023-12-25T15:13:59.932442",
     "status": "completed"
    },
    "tags": []
   },
   "outputs": [],
   "source": [
    "# Import MultiOutputClassifier and RandomForestClassifier\n",
    "from sklearn.multioutput import MultiOutputClassifier\n",
    "from sklearn.ensemble import RandomForestClassifier\n",
    "\n",
    "# Create Q3 function using NumPy (accuracy of those other than zero, which is the padding)\n",
    "def q3_acc_numpy(y_true, y_pred):\n",
    "    mask = y_true > 0\n",
    "    q3 = np.equal(np.extract(mask, y_true), np.extract(mask, y_pred)).astype(float)\n",
    "    return np.sum(q3) / q3.shape[0]"
   ]
  },
  {
   "cell_type": "markdown",
   "id": "0c210454",
   "metadata": {
    "papermill": {
     "duration": 0.012549,
     "end_time": "2023-12-25T15:14:00.291174",
     "exception": false,
     "start_time": "2023-12-25T15:14:00.278625",
     "status": "completed"
    },
    "tags": []
   },
   "source": [
    "### Investigate Suitable Number of Trees\n",
    "\n",
    "We want to maximise the Q3 accuracy. It is difficult to test large numbers of trees, whilst trying to minimise the computational expense. A sensible range for the number of trees is chosen as [1, 60].\n",
    "\n",
    "We test the performance of both the Entropy and Gini criteria to determine which of these provides better results."
   ]
  },
  {
   "cell_type": "markdown",
   "id": "6f57e6b3",
   "metadata": {
    "papermill": {
     "duration": 0.01242,
     "end_time": "2023-12-25T15:14:00.315238",
     "exception": false,
     "start_time": "2023-12-25T15:14:00.302818",
     "status": "completed"
    },
    "tags": []
   },
   "source": [
    "#### Without Oversampling"
   ]
  },
  {
   "cell_type": "code",
   "execution_count": 12,
   "id": "b15f2d75",
   "metadata": {
    "execution": {
     "iopub.execute_input": "2023-12-25T15:14:00.339582Z",
     "iopub.status.busy": "2023-12-25T15:14:00.339018Z",
     "iopub.status.idle": "2023-12-26T00:32:28.387331Z",
     "shell.execute_reply": "2023-12-26T00:32:28.386038Z"
    },
    "papermill": {
     "duration": 33508.063782,
     "end_time": "2023-12-26T00:32:28.390166",
     "exception": false,
     "start_time": "2023-12-25T15:14:00.326384",
     "status": "completed"
    },
    "tags": []
   },
   "outputs": [
    {
     "name": "stdout",
     "output_type": "stream",
     "text": [
      "[0.5326931589042443, 0.5653617272414302, 0.5813947769635568, 0.5877268479811144, 0.6030467712585452, 0.6043623665961737, 0.6111370678207839, 0.6154281217724881, 0.6188216200265578, 0.6197560615747799, 0.6241823636453057, 0.6259651797570452, 0.6294570402793488, 0.6322357743569567, 0.634473515959278, 0.634989917867506, 0.6377440613780554, 0.6371661830521812, 0.6394162199380318, 0.6392809718192102, 0.6409408350956574, 0.6418260955097624, 0.643092509713274, 0.6437564550238528, 0.6445187626026656, 0.6459081296414695, 0.646190921162642, 0.6472852013967442, 0.6486745684355482, 0.6483917769143757, 0.6486253873014312, 0.6492524467614224, 0.6493262184625977, 0.649547533566124, 0.65058033738258, 0.6506418138002262, 0.6518098657355038, 0.6520065902719717, 0.6522893817931441, 0.6532730044754832, 0.653518910146068, 0.6538631780848866, 0.6534451384448925, 0.6547361432154626, 0.65429351300841, 0.65429351300841, 0.6547730290660503, 0.6547238479319333, 0.6555476319283923, 0.6554369743766292, 0.6554246790930999, 0.6559164904342694, 0.6564943687601436, 0.6575763537107165, 0.6572812669060148, 0.657293562189544, 0.657133723503664, 0.6577361923965966, 0.6574288103083658, 0.657293562189544]\n",
      "[0.5298160625584026, 0.5660994442531845, 0.5793906457482909, 0.5871612649387695, 0.6012393645797472, 0.605050902473811, 0.6095263856784537, 0.6161166576501255, 0.619350317218315, 0.6224856145182708, 0.6251045099099986, 0.6266906014852702, 0.6285840751487729, 0.6305513205134511, 0.6324816800275415, 0.6342644961392809, 0.6361702650863129, 0.6367235528451286, 0.6375842226921753, 0.638444892539222, 0.640301480352137, 0.641592485122707, 0.6424900408203413, 0.6435843210544435, 0.6443466286332563, 0.6455269758520632, 0.6460064919097034, 0.6464614174002853, 0.6471130674273349, 0.6480598042590863, 0.648563910883785, 0.6491663797767177, 0.6494737618649487, 0.6504573845472876, 0.6511213298578665, 0.6516746176166822, 0.6502852505778783, 0.6517852751684454, 0.651920523287267, 0.6526459450154921, 0.652178724241381, 0.6531131657896031, 0.6533836620272464, 0.6541582648895884, 0.6541213790390007, 0.6548345054836965, 0.6552894309742783, 0.655891899867211, 0.6564205970589682, 0.656408301775439, 0.6563099395072051, 0.657084542369547, 0.6576132395613042, 0.6576378301283627, 0.657551763143658, 0.6582157084542369, 0.6583017754389416, 0.6572320857718978, 0.6575025820095411, 0.6579820980671814]\n"
     ]
    },
    {
     "data": {
      "image/png": "[encoded data removed]",
      "text/plain": [
       "<Figure size 640x480 with 1 Axes>"
      ]
     },
     "metadata": {},
     "output_type": "display_data"
    },
    {
     "name": "stdout",
     "output_type": "stream",
     "text": [
      "CPU times: user 9h 17min 18s, sys: 25.9 s, total: 9h 17min 44s\n",
      "Wall time: 9h 18min 28s\n"
     ]
    }
   ],
   "source": [
    "%%time\n",
    "\n",
    "# Without Oversampling\n",
    "\n",
    "criteria = [\"entropy\", \"gini\"]\n",
    "\n",
    "# Loop over the two criteria\n",
    "for criterion_ in criteria:\n",
    "    accuracy_data = []\n",
    "    nums = []\n",
    "    \n",
    "    # Loop over every number of trees\n",
    "    for i in range(1, 61):\n",
    "        # Define model\n",
    "        rf_model = MultiOutputClassifier(RandomForestClassifier(n_estimators = i, criterion = criterion_, random_state = randomer))\n",
    "        # Fit training set to model\n",
    "        rf_model.fit(X_train, y_train)\n",
    "        # Use model to predict the validation set classes (elements)\n",
    "        y_pred = rf_model.predict(X_val)\n",
    "        # Calculate Q3 accuracy of prediction and append to 'accuracy_data'\n",
    "        accuracy = q3_acc_numpy(y_val.flatten(), y_pred.flatten())\n",
    "        accuracy_data.append(accuracy)\n",
    "        nums.append(i)\n",
    "    \n",
    "    print(accuracy_data)\n",
    "    \n",
    "    plt.plot(nums, accuracy_data, label = criterion_)\n",
    "    \n",
    "plt.title(\"Accuracy Based on Number of Trees (Without Oversampling)\")\n",
    "plt.xlabel(\"Number of Trees (n_estimators)\")\n",
    "plt.ylabel(\"Q3 Accuracy\")\n",
    "plt.legend()\n",
    "plt.savefig(\"no_oversamp_rf.pdf\")\n",
    "plt.show()"
   ]
  },
  {
   "cell_type": "markdown",
   "id": "49a14250",
   "metadata": {
    "papermill": {
     "duration": 0.012179,
     "end_time": "2023-12-26T00:32:28.414288",
     "exception": false,
     "start_time": "2023-12-26T00:32:28.402109",
     "status": "completed"
    },
    "tags": []
   },
   "source": [
    "### Set Hyperparameters"
   ]
  },
  {
   "cell_type": "code",
   "execution_count": 13,
   "id": "bdb3762c",
   "metadata": {
    "execution": {
     "iopub.execute_input": "2023-12-26T00:32:28.440303Z",
     "iopub.status.busy": "2023-12-26T00:32:28.439347Z",
     "iopub.status.idle": "2023-12-26T00:32:28.445082Z",
     "shell.execute_reply": "2023-12-26T00:32:28.444184Z"
    },
    "papermill": {
     "duration": 0.021396,
     "end_time": "2023-12-26T00:32:28.447273",
     "exception": false,
     "start_time": "2023-12-26T00:32:28.425877",
     "status": "completed"
    },
    "tags": []
   },
   "outputs": [],
   "source": [
    "# Number of trees, criterion to measure split quality\n",
    "\n",
    "num_estimators = 60\n",
    "crit_ = \"gini\""
   ]
  },
  {
   "cell_type": "markdown",
   "id": "28d88fb2",
   "metadata": {
    "papermill": {
     "duration": 0.011502,
     "end_time": "2023-12-26T00:32:28.470769",
     "exception": false,
     "start_time": "2023-12-26T00:32:28.459267",
     "status": "completed"
    },
    "tags": []
   },
   "source": [
    "### Results of Chosen Model (Without Oversampling)\n",
    "\n",
    "We train our final chosen model and test it on our test set. We also compare the results between training on the oversampled data against training on the original data."
   ]
  },
  {
   "cell_type": "code",
   "execution_count": 14,
   "id": "236d2185",
   "metadata": {
    "execution": {
     "iopub.execute_input": "2023-12-26T00:32:28.496406Z",
     "iopub.status.busy": "2023-12-26T00:32:28.495898Z",
     "iopub.status.idle": "2023-12-26T00:40:16.331238Z",
     "shell.execute_reply": "2023-12-26T00:40:16.329217Z"
    },
    "papermill": {
     "duration": 467.865143,
     "end_time": "2023-12-26T00:40:16.347602",
     "exception": false,
     "start_time": "2023-12-26T00:32:28.482459",
     "status": "completed"
    },
    "tags": []
   },
   "outputs": [
    {
     "name": "stdout",
     "output_type": "stream",
     "text": [
      "CPU times: user 7min 45s, sys: 1.72 s, total: 7min 47s\n",
      "Wall time: 7min 47s\n"
     ]
    }
   ],
   "source": [
    "%%time\n",
    "\n",
    "# We determine that the following is a suitable model based on the above (without oversampling), using hyperparameters\n",
    "\n",
    "# Original Data Model\n",
    "\n",
    "rf_model1 = MultiOutputClassifier(RandomForestClassifier(n_estimators = num_estimators, criterion = crit_, random_state = randomer))\n",
    "rf_model1.fit(X_train, y_train)\n",
    "y_pred1 = rf_model1.predict(X_test)"
   ]
  },
  {
   "cell_type": "code",
   "execution_count": 15,
   "id": "eacc7a84",
   "metadata": {
    "execution": {
     "iopub.execute_input": "2023-12-26T00:40:16.378244Z",
     "iopub.status.busy": "2023-12-26T00:40:16.377733Z",
     "iopub.status.idle": "2023-12-26T00:40:17.328315Z",
     "shell.execute_reply": "2023-12-26T00:40:17.326785Z"
    },
    "papermill": {
     "duration": 0.96979,
     "end_time": "2023-12-26T00:40:17.331298",
     "exception": false,
     "start_time": "2023-12-26T00:40:16.361508",
     "status": "completed"
    },
    "tags": []
   },
   "outputs": [
    {
     "name": "stdout",
     "output_type": "stream",
     "text": [
      "===== Without Oversampling =====\n",
      "\n",
      "Default Accuracy: 0.7764925373134328\n",
      "Q3 Accuracy: 0.6518738758580186\n",
      "\n",
      "               precision    recall  f1-score   support\n",
      "\n",
      "     Padding   0.999803  0.999989  0.999896     91142\n",
      "           C   0.637774  0.824154  0.719083     80377\n",
      "           H   0.635853  0.573471  0.603053     53940\n",
      "           E   0.858241  0.321815  0.468104     29141\n",
      "\n",
      "    accuracy                       0.776493    254600\n",
      "   macro avg   0.782918  0.679857  0.697534    254600\n",
      "weighted avg   0.792201  0.776493  0.766300    254600\n",
      "\n"
     ]
    },
    {
     "data": {
      "image/png": "[encoded data removed]",
      "text/plain": [
       "<Figure size 640x480 with 2 Axes>"
      ]
     },
     "metadata": {},
     "output_type": "display_data"
    }
   ],
   "source": [
    "# Class labels as a dictionary, {0: \"Padding\", 1: \"C\", 2: \"H\", 3: \"E\"}\n",
    "\n",
    "from sklearn.metrics import accuracy_score, confusion_matrix, ConfusionMatrixDisplay\n",
    "\n",
    "print(\"===== Without Oversampling =====\\n\")\n",
    "\n",
    "# Output useful metrics\n",
    "\n",
    "print(f\"Default Accuracy: {accuracy_score(y_test.flatten(), y_pred1.flatten())}\")\n",
    "print(f\"Q3 Accuracy: {q3_acc_numpy(y_test.flatten(), y_pred1.flatten())}\")\n",
    "print(\"\\n\", classification_report(y_test.flatten(), y_pred1.flatten(), target_names = [\"Padding\", \"C\", \"H\", \"E\"], digits = 6))\n",
    "\n",
    "# Create and display confusion matrix\n",
    "\n",
    "cm1 = confusion_matrix(y_test.flatten(), y_pred1.flatten())\n",
    "disp1 = ConfusionMatrixDisplay(confusion_matrix = cm1, display_labels = [\"Padding\", \"C\", \"H\", \"E\"])\n",
    "disp1.plot()\n",
    "disp1.figure_.savefig(\"disp1.pdf\")\n",
    "plt.show()"
   ]
  },
  {
   "cell_type": "code",
   "execution_count": null,
   "id": "e73e7867",
   "metadata": {
    "papermill": {
     "duration": 0.013303,
     "end_time": "2023-12-26T00:40:17.358473",
     "exception": false,
     "start_time": "2023-12-26T00:40:17.345170",
     "status": "completed"
    },
    "tags": []
   },
   "outputs": [],
   "source": []
  }
 ],
 "metadata": {
  "kaggle": {
   "accelerator": "none",
   "dataSources": [
    {
     "datasetId": 4213466,
     "sourceId": 7268634,
     "sourceType": "datasetVersion"
    }
   ],
   "dockerImageVersionId": 30626,
   "isGpuEnabled": false,
   "isInternetEnabled": true,
   "language": "python",
   "sourceType": "notebook"
  },
  "kernelspec": {
   "display_name": "Python 3 (ipykernel)",
   "language": "python",
   "name": "python3"
  },
  "language_info": {
   "codemirror_mode": {
    "name": "ipython",
    "version": 3
   },
   "file_extension": ".py",
   "mimetype": "text/x-python",
   "name": "python",
   "nbconvert_exporter": "python",
   "pygments_lexer": "ipython3",
   "version": "3.10.13"
  },
  "papermill": {
   "default_parameters": {},
   "duration": 34006.996944,
   "end_time": "2023-12-26T00:40:20.988810",
   "environment_variables": {},
   "exception": null,
   "input_path": "__notebook__.ipynb",
   "output_path": "__notebook__.ipynb",
   "parameters": {},
   "start_time": "2023-12-25T15:13:33.991866",
   "version": "2.4.0"
  }
 },
 "nbformat": 4,
 "nbformat_minor": 5
}

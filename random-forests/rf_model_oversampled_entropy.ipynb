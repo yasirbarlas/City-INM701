{
 "cells": [
  {
   "cell_type": "markdown",
   "id": "2aeb43ca",
   "metadata": {
    "papermill": {
     "duration": 0.006426,
     "end_time": "2023-12-26T14:04:00.914245",
     "exception": false,
     "start_time": "2023-12-26T14:04:00.907819",
     "status": "completed"
    },
    "tags": []
   },
   "source": [
    "# INM701: Random Forests (Part 2, Oversampled Data, Entropy)\n",
    "\n",
    "We use scikit-learn to train and test a random forest model on a dataset of proteins and their secondary structures.\n",
    "\n",
    "This notebook is specifically for the oversampled data. The validation phase is done only for the Entropy criterion.\n",
    "\n",
    "The work presented here is part of the coursework of the INM701 module at City, University of London. The Github repository can be found [here](https://github.com/yasirbarlas/City-INM701)."
   ]
  },
  {
   "cell_type": "markdown",
   "id": "a2195097",
   "metadata": {
    "papermill": {
     "duration": 0.005543,
     "end_time": "2023-12-26T14:04:00.925597",
     "exception": false,
     "start_time": "2023-12-26T14:04:00.920054",
     "status": "completed"
    },
    "tags": []
   },
   "source": [
    "### Import Libraries"
   ]
  },
  {
   "cell_type": "code",
   "execution_count": 1,
   "id": "2b17c196",
   "metadata": {
    "execution": {
     "iopub.execute_input": "2023-12-26T14:04:00.938742Z",
     "iopub.status.busy": "2023-12-26T14:04:00.938361Z",
     "iopub.status.idle": "2023-12-26T14:04:01.256767Z",
     "shell.execute_reply": "2023-12-26T14:04:01.254900Z"
    },
    "papermill": {
     "duration": 0.328084,
     "end_time": "2023-12-26T14:04:01.259434",
     "exception": false,
     "start_time": "2023-12-26T14:04:00.931350",
     "status": "completed"
    },
    "tags": []
   },
   "outputs": [],
   "source": [
    "# Import Relevant Libraries\n",
    "import os\n",
    "import numpy as np\n",
    "import pandas as pd\n",
    "import random\n",
    "import matplotlib.pyplot as plt\n",
    "\n",
    "# Ignore warnings (making the work easier to read)\n",
    "import warnings\n",
    "warnings.filterwarnings(\"ignore\")"
   ]
  },
  {
   "cell_type": "markdown",
   "id": "2e2a78b0",
   "metadata": {
    "papermill": {
     "duration": 0.005736,
     "end_time": "2023-12-26T14:04:01.271345",
     "exception": false,
     "start_time": "2023-12-26T14:04:01.265609",
     "status": "completed"
    },
    "tags": []
   },
   "source": [
    "### Import Dataset\n",
    "\n",
    "Refer to the 'eda-data-processing.ipynb' workbook for more detail on how this dataset was created."
   ]
  },
  {
   "cell_type": "code",
   "execution_count": 2,
   "id": "9ffb1ab6",
   "metadata": {
    "execution": {
     "iopub.execute_input": "2023-12-26T14:04:01.285312Z",
     "iopub.status.busy": "2023-12-26T14:04:01.284797Z",
     "iopub.status.idle": "2023-12-26T14:04:01.436601Z",
     "shell.execute_reply": "2023-12-26T14:04:01.435306Z"
    },
    "papermill": {
     "duration": 0.162305,
     "end_time": "2023-12-26T14:04:01.439492",
     "exception": false,
     "start_time": "2023-12-26T14:04:01.277187",
     "status": "completed"
    },
    "tags": []
   },
   "outputs": [
    {
     "data": {
      "text/html": [
       "<div>\n",
       "<style scoped>\n",
       "    .dataframe tbody tr th:only-of-type {\n",
       "        vertical-align: middle;\n",
       "    }\n",
       "\n",
       "    .dataframe tbody tr th {\n",
       "        vertical-align: top;\n",
       "    }\n",
       "\n",
       "    .dataframe thead th {\n",
       "        text-align: right;\n",
       "    }\n",
       "</style>\n",
       "<table border=\"1\" class=\"dataframe\">\n",
       "  <thead>\n",
       "    <tr style=\"text-align: right;\">\n",
       "      <th></th>\n",
       "      <th>pdb_id</th>\n",
       "      <th>chain_code</th>\n",
       "      <th>seq</th>\n",
       "      <th>sst8</th>\n",
       "      <th>sst3</th>\n",
       "      <th>len</th>\n",
       "    </tr>\n",
       "  </thead>\n",
       "  <tbody>\n",
       "    <tr>\n",
       "      <th>0</th>\n",
       "      <td>1BXL</td>\n",
       "      <td>B</td>\n",
       "      <td>GQVGRQLAIIGDDINR</td>\n",
       "      <td>CCTTHHHHHHHHHTCC</td>\n",
       "      <td>CCCCHHHHHHHHHCCC</td>\n",
       "      <td>16</td>\n",
       "    </tr>\n",
       "    <tr>\n",
       "      <th>1</th>\n",
       "      <td>1D9K</td>\n",
       "      <td>P</td>\n",
       "      <td>GNSHRGAIEWEGIESG</td>\n",
       "      <td>CCEECCCCCCCCCCCC</td>\n",
       "      <td>CCEECCCCCCCCCCCC</td>\n",
       "      <td>16</td>\n",
       "    </tr>\n",
       "    <tr>\n",
       "      <th>2</th>\n",
       "      <td>1DPU</td>\n",
       "      <td>B</td>\n",
       "      <td>RIQRNKAAALLRLAAR</td>\n",
       "      <td>CCSSHHHHHHHHHHCC</td>\n",
       "      <td>CCCCHHHHHHHHHHCC</td>\n",
       "      <td>16</td>\n",
       "    </tr>\n",
       "    <tr>\n",
       "      <th>3</th>\n",
       "      <td>1DXP</td>\n",
       "      <td>C</td>\n",
       "      <td>KGSVVIVGRIILSGRK</td>\n",
       "      <td>CCCBEEEEEEEECCCC</td>\n",
       "      <td>CCCEEEEEEEEECCCC</td>\n",
       "      <td>16</td>\n",
       "    </tr>\n",
       "    <tr>\n",
       "      <th>4</th>\n",
       "      <td>1EJH</td>\n",
       "      <td>E</td>\n",
       "      <td>KQYDREFLLDFQFMPA</td>\n",
       "      <td>CCCCHHHHHTTSCCCC</td>\n",
       "      <td>CCCCHHHHHCCCCCCC</td>\n",
       "      <td>16</td>\n",
       "    </tr>\n",
       "    <tr>\n",
       "      <th>...</th>\n",
       "      <td>...</td>\n",
       "      <td>...</td>\n",
       "      <td>...</td>\n",
       "      <td>...</td>\n",
       "      <td>...</td>\n",
       "      <td>...</td>\n",
       "    </tr>\n",
       "    <tr>\n",
       "      <th>15267</th>\n",
       "      <td>6UUJ</td>\n",
       "      <td>A</td>\n",
       "      <td>GAMVPEGLAAASAAVEALTARLAAAHASAAPVITAVVPPAADPVSL...</td>\n",
       "      <td>CCCCCSTTHHHHHHHHHHHHHHHHHHHHSHHHHHSCCCSSSSHHHH...</td>\n",
       "      <td>CCCCCCCCHHHHHHHHHHHHHHHHHHHHCHHHHHCCCCCCCCHHHH...</td>\n",
       "      <td>100</td>\n",
       "    </tr>\n",
       "    <tr>\n",
       "      <th>15268</th>\n",
       "      <td>6V7M</td>\n",
       "      <td>A</td>\n",
       "      <td>MKVLWAALLVTFLAGCQAKVEQAVETEPEPELRQQTEWQSGQRWEL...</td>\n",
       "      <td>CCCCCCCCCCCCCCCCCCCCCCCCCCCCCCCCCCCCCCCCCCHHHH...</td>\n",
       "      <td>CCCCCCCCCCCCCCCCCCCCCCCCCCCCCCCCCCCCCCCCCCHHHH...</td>\n",
       "      <td>100</td>\n",
       "    </tr>\n",
       "    <tr>\n",
       "      <th>15269</th>\n",
       "      <td>6VQX</td>\n",
       "      <td>A</td>\n",
       "      <td>MKVPAFFAANILTIEQIIEAINNDGSAMTSAPEIAGYYAWDAATDA...</td>\n",
       "      <td>CCCCSSTTSSCCCHHHHHHHHHTTSCTTSCHHHHHHHHHHHHHHHS...</td>\n",
       "      <td>CCCCCCCCCCCCCHHHHHHHHHCCCCCCCCHHHHHHHHHHHHHHHC...</td>\n",
       "      <td>100</td>\n",
       "    </tr>\n",
       "    <tr>\n",
       "      <th>15270</th>\n",
       "      <td>6XVF</td>\n",
       "      <td>F</td>\n",
       "      <td>RWLEGIRKWYYNAAGFNKLGLMRDDTIHENDDVKEAIRRLPENLYN...</td>\n",
       "      <td>CCTHHHHHHHHHHHCGGGGTCCGGGSBCCCHHHHHHHHTSCHHHHH...</td>\n",
       "      <td>CCCHHHHHHHHHHHCHHHHCCCHHHCECCCHHHHHHHHCCCHHHHH...</td>\n",
       "      <td>100</td>\n",
       "    </tr>\n",
       "    <tr>\n",
       "      <th>15271</th>\n",
       "      <td>6YIE</td>\n",
       "      <td>B</td>\n",
       "      <td>VAKTNSLRRRKLASFLKDFDREVEIRIKQIESDRQNLLKEVDNLYN...</td>\n",
       "      <td>CCCCCCHHHHHHHHHHHHHHHHHHHHHHHHHHHHHHHHHHHHHHHH...</td>\n",
       "      <td>CCCCCCHHHHHHHHHHHHHHHHHHHHHHHHHHHHHHHHHHHHHHHH...</td>\n",
       "      <td>100</td>\n",
       "    </tr>\n",
       "  </tbody>\n",
       "</table>\n",
       "<p>15272 rows × 6 columns</p>\n",
       "</div>"
      ],
      "text/plain": [
       "      pdb_id chain_code                                                seq  \\\n",
       "0       1BXL          B                                   GQVGRQLAIIGDDINR   \n",
       "1       1D9K          P                                   GNSHRGAIEWEGIESG   \n",
       "2       1DPU          B                                   RIQRNKAAALLRLAAR   \n",
       "3       1DXP          C                                   KGSVVIVGRIILSGRK   \n",
       "4       1EJH          E                                   KQYDREFLLDFQFMPA   \n",
       "...      ...        ...                                                ...   \n",
       "15267   6UUJ          A  GAMVPEGLAAASAAVEALTARLAAAHASAAPVITAVVPPAADPVSL...   \n",
       "15268   6V7M          A  MKVLWAALLVTFLAGCQAKVEQAVETEPEPELRQQTEWQSGQRWEL...   \n",
       "15269   6VQX          A  MKVPAFFAANILTIEQIIEAINNDGSAMTSAPEIAGYYAWDAATDA...   \n",
       "15270   6XVF          F  RWLEGIRKWYYNAAGFNKLGLMRDDTIHENDDVKEAIRRLPENLYN...   \n",
       "15271   6YIE          B  VAKTNSLRRRKLASFLKDFDREVEIRIKQIESDRQNLLKEVDNLYN...   \n",
       "\n",
       "                                                    sst8  \\\n",
       "0                                       CCTTHHHHHHHHHTCC   \n",
       "1                                       CCEECCCCCCCCCCCC   \n",
       "2                                       CCSSHHHHHHHHHHCC   \n",
       "3                                       CCCBEEEEEEEECCCC   \n",
       "4                                       CCCCHHHHHTTSCCCC   \n",
       "...                                                  ...   \n",
       "15267  CCCCCSTTHHHHHHHHHHHHHHHHHHHHSHHHHHSCCCSSSSHHHH...   \n",
       "15268  CCCCCCCCCCCCCCCCCCCCCCCCCCCCCCCCCCCCCCCCCCHHHH...   \n",
       "15269  CCCCSSTTSSCCCHHHHHHHHHTTSCTTSCHHHHHHHHHHHHHHHS...   \n",
       "15270  CCTHHHHHHHHHHHCGGGGTCCGGGSBCCCHHHHHHHHTSCHHHHH...   \n",
       "15271  CCCCCCHHHHHHHHHHHHHHHHHHHHHHHHHHHHHHHHHHHHHHHH...   \n",
       "\n",
       "                                                    sst3  len  \n",
       "0                                       CCCCHHHHHHHHHCCC   16  \n",
       "1                                       CCEECCCCCCCCCCCC   16  \n",
       "2                                       CCCCHHHHHHHHHHCC   16  \n",
       "3                                       CCCEEEEEEEEECCCC   16  \n",
       "4                                       CCCCHHHHHCCCCCCC   16  \n",
       "...                                                  ...  ...  \n",
       "15267  CCCCCCCCHHHHHHHHHHHHHHHHHHHHCHHHHHCCCCCCCCHHHH...  100  \n",
       "15268  CCCCCCCCCCCCCCCCCCCCCCCCCCCCCCCCCCCCCCCCCCHHHH...  100  \n",
       "15269  CCCCCCCCCCCCCHHHHHHHHHCCCCCCCCHHHHHHHHHHHHHHHC...  100  \n",
       "15270  CCCHHHHHHHHHHHCHHHHCCCHHHCECCCHHHHHHHHCCCHHHHH...  100  \n",
       "15271  CCCCCCHHHHHHHHHHHHHHHHHHHHHHHHHHHHHHHHHHHHHHHH...  100  \n",
       "\n",
       "[15272 rows x 6 columns]"
      ]
     },
     "execution_count": 2,
     "metadata": {},
     "output_type": "execute_result"
    }
   ],
   "source": [
    "# Create a variable for the path to the directory containing the dataset (and where to work)\n",
    "path = \"/kaggle/input/protein-sequences-16-100\"\n",
    "\n",
    "# Create a variable containing the full path of the dataset\n",
    "dataset = os.path.join(path, \"prot-seq-filtered.csv\")\n",
    "\n",
    "# Create a Pandas DataFrame of the dataset (which is a .csv file)\n",
    "df = pd.read_csv(dataset, delimiter = \",\")\n",
    "\n",
    "df"
   ]
  },
  {
   "cell_type": "markdown",
   "id": "ea44b143",
   "metadata": {
    "papermill": {
     "duration": 0.006193,
     "end_time": "2023-12-26T14:04:01.452274",
     "exception": false,
     "start_time": "2023-12-26T14:04:01.446081",
     "status": "completed"
    },
    "tags": []
   },
   "source": [
    "### Set Random Seed and $k$-mer Size\n",
    "\n",
    "We choose a seed for reproducibility and a sensible $k$-mer size."
   ]
  },
  {
   "cell_type": "code",
   "execution_count": 3,
   "id": "915a8dcc",
   "metadata": {
    "execution": {
     "iopub.execute_input": "2023-12-26T14:04:01.467006Z",
     "iopub.status.busy": "2023-12-26T14:04:01.466203Z",
     "iopub.status.idle": "2023-12-26T14:04:01.472291Z",
     "shell.execute_reply": "2023-12-26T14:04:01.471573Z"
    },
    "papermill": {
     "duration": 0.01609,
     "end_time": "2023-12-26T14:04:01.474703",
     "exception": false,
     "start_time": "2023-12-26T14:04:01.458613",
     "status": "completed"
    },
    "tags": []
   },
   "outputs": [],
   "source": [
    "# k-mer size and seed choice\n",
    "\n",
    "kmer_size = 3\n",
    "randomer = 50\n",
    "\n",
    "# Random Seed\n",
    "random.seed(randomer)\n",
    "np.random.seed(randomer)"
   ]
  },
  {
   "cell_type": "markdown",
   "id": "0b0366ba",
   "metadata": {
    "papermill": {
     "duration": 0.006253,
     "end_time": "2023-12-26T14:04:01.487538",
     "exception": false,
     "start_time": "2023-12-26T14:04:01.481285",
     "status": "completed"
    },
    "tags": []
   },
   "source": [
    "### Generate $k$-mers\n",
    "\n",
    "We convert our protein sequences in to $k$-mers, making the problem less computationally expensive. The choice of $k$ affects the performance of the model, with higher $k$ likely leading to less accurate models. This accuracy can vary based on much larger datasets, and with longer protein sequences.\n",
    "\n",
    "For example, the 3-mers for \"GQVGRQ\" are:\n",
    "\n",
    "GQV, QVG, VGR, GRQ"
   ]
  },
  {
   "cell_type": "code",
   "execution_count": 4,
   "id": "1c0b50cb",
   "metadata": {
    "execution": {
     "iopub.execute_input": "2023-12-26T14:04:01.502344Z",
     "iopub.status.busy": "2023-12-26T14:04:01.501687Z",
     "iopub.status.idle": "2023-12-26T14:04:01.734766Z",
     "shell.execute_reply": "2023-12-26T14:04:01.733302Z"
    },
    "papermill": {
     "duration": 0.244652,
     "end_time": "2023-12-26T14:04:01.738457",
     "exception": false,
     "start_time": "2023-12-26T14:04:01.493805",
     "status": "completed"
    },
    "tags": []
   },
   "outputs": [
    {
     "name": "stdout",
     "output_type": "stream",
     "text": [
      "Maximum Protein Length: 100\n"
     ]
    },
    {
     "data": {
      "text/html": [
       "<div>\n",
       "<style scoped>\n",
       "    .dataframe tbody tr th:only-of-type {\n",
       "        vertical-align: middle;\n",
       "    }\n",
       "\n",
       "    .dataframe tbody tr th {\n",
       "        vertical-align: top;\n",
       "    }\n",
       "\n",
       "    .dataframe thead th {\n",
       "        text-align: right;\n",
       "    }\n",
       "</style>\n",
       "<table border=\"1\" class=\"dataframe\">\n",
       "  <thead>\n",
       "    <tr style=\"text-align: right;\">\n",
       "      <th></th>\n",
       "      <th>pdb_id</th>\n",
       "      <th>chain_code</th>\n",
       "      <th>seq</th>\n",
       "      <th>sst8</th>\n",
       "      <th>sst3</th>\n",
       "      <th>len</th>\n",
       "      <th>kmers</th>\n",
       "    </tr>\n",
       "  </thead>\n",
       "  <tbody>\n",
       "    <tr>\n",
       "      <th>0</th>\n",
       "      <td>1BXL</td>\n",
       "      <td>B</td>\n",
       "      <td>GQVGRQLAIIGDDINR</td>\n",
       "      <td>CCTTHHHHHHHHHTCC</td>\n",
       "      <td>CCCCHHHHHHHHHCCC</td>\n",
       "      <td>16</td>\n",
       "      <td>[GQV, QVG, VGR, GRQ, RQL, QLA, LAI, AII, IIG, ...</td>\n",
       "    </tr>\n",
       "    <tr>\n",
       "      <th>1</th>\n",
       "      <td>1D9K</td>\n",
       "      <td>P</td>\n",
       "      <td>GNSHRGAIEWEGIESG</td>\n",
       "      <td>CCEECCCCCCCCCCCC</td>\n",
       "      <td>CCEECCCCCCCCCCCC</td>\n",
       "      <td>16</td>\n",
       "      <td>[GNS, NSH, SHR, HRG, RGA, GAI, AIE, IEW, EWE, ...</td>\n",
       "    </tr>\n",
       "    <tr>\n",
       "      <th>2</th>\n",
       "      <td>1DPU</td>\n",
       "      <td>B</td>\n",
       "      <td>RIQRNKAAALLRLAAR</td>\n",
       "      <td>CCSSHHHHHHHHHHCC</td>\n",
       "      <td>CCCCHHHHHHHHHHCC</td>\n",
       "      <td>16</td>\n",
       "      <td>[RIQ, IQR, QRN, RNK, NKA, KAA, AAA, AAL, ALL, ...</td>\n",
       "    </tr>\n",
       "    <tr>\n",
       "      <th>3</th>\n",
       "      <td>1DXP</td>\n",
       "      <td>C</td>\n",
       "      <td>KGSVVIVGRIILSGRK</td>\n",
       "      <td>CCCBEEEEEEEECCCC</td>\n",
       "      <td>CCCEEEEEEEEECCCC</td>\n",
       "      <td>16</td>\n",
       "      <td>[KGS, GSV, SVV, VVI, VIV, IVG, VGR, GRI, RII, ...</td>\n",
       "    </tr>\n",
       "    <tr>\n",
       "      <th>4</th>\n",
       "      <td>1EJH</td>\n",
       "      <td>E</td>\n",
       "      <td>KQYDREFLLDFQFMPA</td>\n",
       "      <td>CCCCHHHHHTTSCCCC</td>\n",
       "      <td>CCCCHHHHHCCCCCCC</td>\n",
       "      <td>16</td>\n",
       "      <td>[KQY, QYD, YDR, DRE, REF, EFL, FLL, LLD, LDF, ...</td>\n",
       "    </tr>\n",
       "  </tbody>\n",
       "</table>\n",
       "</div>"
      ],
      "text/plain": [
       "  pdb_id chain_code               seq              sst8              sst3  \\\n",
       "0   1BXL          B  GQVGRQLAIIGDDINR  CCTTHHHHHHHHHTCC  CCCCHHHHHHHHHCCC   \n",
       "1   1D9K          P  GNSHRGAIEWEGIESG  CCEECCCCCCCCCCCC  CCEECCCCCCCCCCCC   \n",
       "2   1DPU          B  RIQRNKAAALLRLAAR  CCSSHHHHHHHHHHCC  CCCCHHHHHHHHHHCC   \n",
       "3   1DXP          C  KGSVVIVGRIILSGRK  CCCBEEEEEEEECCCC  CCCEEEEEEEEECCCC   \n",
       "4   1EJH          E  KQYDREFLLDFQFMPA  CCCCHHHHHTTSCCCC  CCCCHHHHHCCCCCCC   \n",
       "\n",
       "   len                                              kmers  \n",
       "0   16  [GQV, QVG, VGR, GRQ, RQL, QLA, LAI, AII, IIG, ...  \n",
       "1   16  [GNS, NSH, SHR, HRG, RGA, GAI, AIE, IEW, EWE, ...  \n",
       "2   16  [RIQ, IQR, QRN, RNK, NKA, KAA, AAA, AAL, ALL, ...  \n",
       "3   16  [KGS, GSV, SVV, VVI, VIV, IVG, VGR, GRI, RII, ...  \n",
       "4   16  [KQY, QYD, YDR, DRE, REF, EFL, FLL, LLD, LDF, ...  "
      ]
     },
     "execution_count": 4,
     "metadata": {},
     "output_type": "execute_result"
    }
   ],
   "source": [
    "# Define k-mer function (n-gram)\n",
    "def kmers(seq, k = kmer_size):\n",
    "    return ([seq[i:i + k] for i in range(len(seq) - k + 1)])\n",
    "\n",
    "# Apply the k-mer function to the amino acid sequences\n",
    "df[\"kmers\"] = df[\"seq\"].apply(kmers)\n",
    "\n",
    "# Find the maximum length of the sequences (we know from previously processing our dataset that it is 100)\n",
    "maxlen = max(df[\"len\"])\n",
    "print(\"Maximum Protein Length:\", maxlen)\n",
    "\n",
    "df.head()"
   ]
  },
  {
   "cell_type": "markdown",
   "id": "92189149",
   "metadata": {
    "papermill": {
     "duration": 0.006414,
     "end_time": "2023-12-26T14:04:01.751733",
     "exception": false,
     "start_time": "2023-12-26T14:04:01.745319",
     "status": "completed"
    },
    "tags": []
   },
   "source": [
    "### Pre-processing and Padding\n",
    "\n",
    "We use the Tokenizer class to transform our protein sequences and secondary structures into sequences of integers, where each integer is an index of a token in a dictionary. A dictionary is made for our 3-mers, and another dictionary is made for our secondary structures. Padding is performed to make the length of each sequence equal."
   ]
  },
  {
   "cell_type": "code",
   "execution_count": 5,
   "id": "85311058",
   "metadata": {
    "execution": {
     "iopub.execute_input": "2023-12-26T14:04:01.768073Z",
     "iopub.status.busy": "2023-12-26T14:04:01.767741Z",
     "iopub.status.idle": "2023-12-26T14:04:17.226101Z",
     "shell.execute_reply": "2023-12-26T14:04:17.224276Z"
    },
    "papermill": {
     "duration": 15.469049,
     "end_time": "2023-12-26T14:04:17.228506",
     "exception": false,
     "start_time": "2023-12-26T14:04:01.759457",
     "status": "completed"
    },
    "tags": []
   },
   "outputs": [
    {
     "name": "stdout",
     "output_type": "stream",
     "text": [
      "CPU times: user 9.07 s, sys: 1.66 s, total: 10.7 s\n",
      "Wall time: 15.4 s\n"
     ]
    },
    {
     "data": {
      "text/plain": [
       "((15272, 100), (15272, 100))"
      ]
     },
     "execution_count": 5,
     "metadata": {},
     "output_type": "execute_result"
    }
   ],
   "source": [
    "%%time\n",
    "\n",
    "# We will use functions from Keras to pre-process our data to be used in the model\n",
    "from tensorflow.keras.preprocessing import sequence\n",
    "from tensorflow.keras.preprocessing.text import Tokenizer\n",
    "\n",
    "# Create Tokenizer class for protein sequences, without making them lowercase\n",
    "tok_x = Tokenizer(lower = False)\n",
    "# Fit Tokenizer on protein sequences (k-mers)\n",
    "tok_x.fit_on_texts(df[\"kmers\"].values)\n",
    "# Convert protein sequences into sequence of integers and pad where necessary\n",
    "X = tok_x.texts_to_sequences(df[\"kmers\"].values)\n",
    "X = sequence.pad_sequences(X, maxlen = maxlen, padding = \"post\")\n",
    "\n",
    "# Create Tokenizer class for secondary sequences, and treat every character (element) as a token\n",
    "tok_y = Tokenizer(char_level = True)\n",
    "# Fit Tokenizer on secondary structures\n",
    "tok_y.fit_on_texts(df[\"sst3\"].values)\n",
    "# Convert secondary structures into sequence of integers and pad where necessary\n",
    "y = tok_y.texts_to_sequences(df[\"sst3\"].values)\n",
    "y = sequence.pad_sequences(y, maxlen = maxlen, padding = \"post\")\n",
    "\n",
    "X.shape, y.shape"
   ]
  },
  {
   "cell_type": "markdown",
   "id": "ac10e03b",
   "metadata": {
    "papermill": {
     "duration": 0.007591,
     "end_time": "2023-12-26T14:04:17.243392",
     "exception": false,
     "start_time": "2023-12-26T14:04:17.235801",
     "status": "completed"
    },
    "tags": []
   },
   "source": [
    "### Training, Validation and Test Split\n",
    "\n",
    "We split our dataset into training, validation and test sets, where the training set is used to train the model. The validation set is used to choose a sensible model after it has been trained. The test set is used to test the performance of our final candidate model."
   ]
  },
  {
   "cell_type": "code",
   "execution_count": 6,
   "id": "fca534d7",
   "metadata": {
    "execution": {
     "iopub.execute_input": "2023-12-26T14:04:17.259505Z",
     "iopub.status.busy": "2023-12-26T14:04:17.258816Z",
     "iopub.status.idle": "2023-12-26T14:04:18.258163Z",
     "shell.execute_reply": "2023-12-26T14:04:18.256747Z"
    },
    "papermill": {
     "duration": 1.010591,
     "end_time": "2023-12-26T14:04:18.260838",
     "exception": false,
     "start_time": "2023-12-26T14:04:17.250247",
     "status": "completed"
    },
    "tags": []
   },
   "outputs": [
    {
     "data": {
      "text/plain": [
       "((11454, 100),\n",
       " (11454, 100),\n",
       " (1272, 100),\n",
       " (1272, 100),\n",
       " (2546, 100),\n",
       " (2546, 100))"
      ]
     },
     "execution_count": 6,
     "metadata": {},
     "output_type": "execute_result"
    }
   ],
   "source": [
    "from sklearn.model_selection import train_test_split\n",
    "\n",
    "# Split the data into training, validation and test sets\n",
    "X_train, X_temp, y_train, y_temp = train_test_split(X, y, train_size = 3/4, test_size = 1/4, random_state = randomer)\n",
    "\n",
    "X_val, X_test, y_val, y_test = train_test_split(X_temp, y_temp, train_size = 1/3, test_size = 2/3, random_state = randomer)\n",
    "\n",
    "X_train.shape, y_train.shape, X_val.shape, y_val.shape, X_test.shape, y_test.shape"
   ]
  },
  {
   "cell_type": "code",
   "execution_count": 7,
   "id": "dd575b28",
   "metadata": {
    "execution": {
     "iopub.execute_input": "2023-12-26T14:04:18.276775Z",
     "iopub.status.busy": "2023-12-26T14:04:18.276356Z",
     "iopub.status.idle": "2023-12-26T14:04:18.284670Z",
     "shell.execute_reply": "2023-12-26T14:04:18.283589Z"
    },
    "papermill": {
     "duration": 0.01862,
     "end_time": "2023-12-26T14:04:18.286725",
     "exception": false,
     "start_time": "2023-12-26T14:04:18.268105",
     "status": "completed"
    },
    "tags": []
   },
   "outputs": [
    {
     "data": {
      "text/plain": [
       "(array([3272, 2093, 4483,  695,  203, 1554, 2110, 1956, 2856, 3513, 2841,\n",
       "        2369, 1917, 3529, 1159,  110, 1527,  943, 3428, 4868, 4080, 6729,\n",
       "        6249, 6991, 5684, 3603, 2648, 2493, 1682,  621, 1677, 1171, 2116,\n",
       "         692, 1320, 3613, 4117, 4087, 1683, 4427, 2159, 2269, 3387, 2341,\n",
       "        1270,  121,  365,  161, 2364, 2950, 4291, 5756, 4993, 4479, 3168,\n",
       "        3306, 4084, 5154,    0,    0,    0,    0,    0,    0,    0,    0,\n",
       "           0,    0,    0,    0,    0,    0,    0,    0,    0,    0,    0,\n",
       "           0,    0,    0,    0,    0,    0,    0,    0,    0,    0,    0,\n",
       "           0,    0,    0,    0,    0,    0,    0,    0,    0,    0,    0,\n",
       "           0], dtype=int32),\n",
       " array([1, 3, 3, 3, 1, 1, 1, 1, 1, 1, 3, 3, 3, 1, 1, 1, 1, 1, 1, 3, 3, 3,\n",
       "        3, 3, 3, 3, 1, 1, 3, 3, 3, 3, 3, 3, 3, 3, 3, 3, 3, 1, 1, 1, 1, 1,\n",
       "        1, 1, 1, 1, 3, 3, 3, 3, 3, 3, 1, 1, 1, 1, 1, 1, 0, 0, 0, 0, 0, 0,\n",
       "        0, 0, 0, 0, 0, 0, 0, 0, 0, 0, 0, 0, 0, 0, 0, 0, 0, 0, 0, 0, 0, 0,\n",
       "        0, 0, 0, 0, 0, 0, 0, 0, 0, 0, 0, 0], dtype=int32))"
      ]
     },
     "execution_count": 7,
     "metadata": {},
     "output_type": "execute_result"
    }
   ],
   "source": [
    "X_train[0], y_train[0]"
   ]
  },
  {
   "cell_type": "markdown",
   "id": "68d35160",
   "metadata": {
    "papermill": {
     "duration": 0.006869,
     "end_time": "2023-12-26T14:04:18.300981",
     "exception": false,
     "start_time": "2023-12-26T14:04:18.294112",
     "status": "completed"
    },
    "tags": []
   },
   "source": [
    "### Oversampling Method\n",
    "\n",
    "In \"Oversampling 1\", we extract protein sequences where class 3 (E) is the majority class in the corresponding secondary structure. This way, we aren't increasing class 1 (C) at a faster rate, which is the majority class in the overall dataset (see 'eda-data-processing.ipynb' in the repository). There are 24 of these based on our threshold, and we append these to X_train and y_train (with variables now called nx_ar and ny_ar respectively) 350 times.\n",
    "\n",
    "In \"Oversampling 2\", we extract protein sequences where class 2 (H) is the majority class in the corresponding secondary structure. There are 42 of these based on our threshold, and we append these 110 times.\n",
    "\n",
    "In \"Oversampling 3\", we extract protein sequences where class 0 (the padding) is sufficiently high. We do this so that class 0 is not heavily less represented in comparison to the other classes. There are 677 of these based on our threshold, and we append these 3 times.\n",
    "\n",
    "We shuffle the resulting dataset as appropriate."
   ]
  },
  {
   "cell_type": "code",
   "execution_count": 8,
   "id": "e583ff89",
   "metadata": {
    "execution": {
     "iopub.execute_input": "2023-12-26T14:04:18.316750Z",
     "iopub.status.busy": "2023-12-26T14:04:18.316351Z",
     "iopub.status.idle": "2023-12-26T14:04:18.320932Z",
     "shell.execute_reply": "2023-12-26T14:04:18.319860Z"
    },
    "papermill": {
     "duration": 0.015693,
     "end_time": "2023-12-26T14:04:18.323617",
     "exception": false,
     "start_time": "2023-12-26T14:04:18.307924",
     "status": "completed"
    },
    "tags": []
   },
   "outputs": [],
   "source": [
    "# Duplicate training set\n",
    "nx_ar = X_train\n",
    "ny_ar = y_train"
   ]
  },
  {
   "cell_type": "code",
   "execution_count": 9,
   "id": "deac4c39",
   "metadata": {
    "execution": {
     "iopub.execute_input": "2023-12-26T14:04:18.340387Z",
     "iopub.status.busy": "2023-12-26T14:04:18.339998Z",
     "iopub.status.idle": "2023-12-26T14:04:30.546372Z",
     "shell.execute_reply": "2023-12-26T14:04:30.544505Z"
    },
    "papermill": {
     "duration": 12.217517,
     "end_time": "2023-12-26T14:04:30.548848",
     "exception": false,
     "start_time": "2023-12-26T14:04:18.331331",
     "status": "completed"
    },
    "tags": []
   },
   "outputs": [
    {
     "name": "stdout",
     "output_type": "stream",
     "text": [
      "24\n",
      "(19854, 100) (19854, 100)\n",
      "CPU times: user 6.65 s, sys: 5.54 s, total: 12.2 s\n",
      "Wall time: 12.2 s\n"
     ]
    }
   ],
   "source": [
    "%%time\n",
    "\n",
    "# Oversampling 1\n",
    "\n",
    "x_o1 = []\n",
    "y_o1 = []\n",
    "\n",
    "for i, y in enumerate(y_train):\n",
    "    if (np.sum(y == 3) / len(y)) >= 0.6:\n",
    "        x_o1.append(X_train[i])\n",
    "        y_o1.append(y)\n",
    "        \n",
    "print(len(x_o1))\n",
    "\n",
    "for i in range(0, 350):\n",
    "    for i, x in enumerate(x_o1):\n",
    "        nx_ar = np.vstack((nx_ar, x))\n",
    "        ny_ar = np.vstack((ny_ar, y_o1[i]))\n",
    "\n",
    "print(nx_ar.shape, ny_ar.shape)"
   ]
  },
  {
   "cell_type": "code",
   "execution_count": 10,
   "id": "df30749a",
   "metadata": {
    "execution": {
     "iopub.execute_input": "2023-12-26T14:04:30.565058Z",
     "iopub.status.busy": "2023-12-26T14:04:30.564731Z",
     "iopub.status.idle": "2023-12-26T14:04:42.457495Z",
     "shell.execute_reply": "2023-12-26T14:04:42.455952Z"
    },
    "papermill": {
     "duration": 11.903924,
     "end_time": "2023-12-26T14:04:42.460311",
     "exception": false,
     "start_time": "2023-12-26T14:04:30.556387",
     "status": "completed"
    },
    "tags": []
   },
   "outputs": [
    {
     "name": "stdout",
     "output_type": "stream",
     "text": [
      "42\n",
      "(24474, 100) (24474, 100)\n",
      "CPU times: user 5.75 s, sys: 6.13 s, total: 11.9 s\n",
      "Wall time: 11.9 s\n"
     ]
    }
   ],
   "source": [
    "%%time\n",
    "\n",
    "# Oversampling 2\n",
    "\n",
    "x_o2 = []\n",
    "y_o2 = []\n",
    "\n",
    "for i, y in enumerate(y_train):\n",
    "    if (np.sum(y == 2) / len(y)) >= 0.8:\n",
    "        x_o2.append(X_train[i])\n",
    "        y_o2.append(y)\n",
    "\n",
    "print(len(x_o2))\n",
    "\n",
    "for i in range(0, 110):\n",
    "    for i, x in enumerate(x_o2):\n",
    "        nx_ar = np.vstack((nx_ar, x))\n",
    "        ny_ar = np.vstack((ny_ar, y_o2[i]))\n",
    "\n",
    "print(nx_ar.shape, ny_ar.shape)"
   ]
  },
  {
   "cell_type": "code",
   "execution_count": 11,
   "id": "da054e96",
   "metadata": {
    "execution": {
     "iopub.execute_input": "2023-12-26T14:04:42.477620Z",
     "iopub.status.busy": "2023-12-26T14:04:42.477221Z",
     "iopub.status.idle": "2023-12-26T14:04:48.373604Z",
     "shell.execute_reply": "2023-12-26T14:04:48.372163Z"
    },
    "papermill": {
     "duration": 5.907523,
     "end_time": "2023-12-26T14:04:48.376021",
     "exception": false,
     "start_time": "2023-12-26T14:04:42.468498",
     "status": "completed"
    },
    "tags": []
   },
   "outputs": [
    {
     "name": "stdout",
     "output_type": "stream",
     "text": [
      "677\n",
      "(26505, 100) (26505, 100)\n",
      "CPU times: user 2.97 s, sys: 2.92 s, total: 5.89 s\n",
      "Wall time: 5.89 s\n"
     ]
    }
   ],
   "source": [
    "%%time\n",
    "\n",
    "# Oversampling 3\n",
    "\n",
    "x_o3 = []\n",
    "y_o3 = []\n",
    "\n",
    "for i, y in enumerate(y_train):\n",
    "    if (np.sum(y == 0) / len(y)) >= 0.8:\n",
    "        x_o3.append(X_train[i])\n",
    "        y_o3.append(y)\n",
    "\n",
    "print(len(x_o3))\n",
    "\n",
    "for i in range(0, 3):\n",
    "    for i, x in enumerate(x_o3):\n",
    "        nx_ar = np.vstack((nx_ar, x))\n",
    "        ny_ar = np.vstack((ny_ar, y_o3[i]))\n",
    "\n",
    "print(nx_ar.shape, ny_ar.shape)"
   ]
  },
  {
   "cell_type": "code",
   "execution_count": 12,
   "id": "a65d1e55",
   "metadata": {
    "execution": {
     "iopub.execute_input": "2023-12-26T14:04:48.393160Z",
     "iopub.status.busy": "2023-12-26T14:04:48.392749Z",
     "iopub.status.idle": "2023-12-26T14:04:48.408824Z",
     "shell.execute_reply": "2023-12-26T14:04:48.407689Z"
    },
    "papermill": {
     "duration": 0.026617,
     "end_time": "2023-12-26T14:04:48.410792",
     "exception": false,
     "start_time": "2023-12-26T14:04:48.384175",
     "status": "completed"
    },
    "tags": []
   },
   "outputs": [
    {
     "data": {
      "text/plain": [
       "(array([[ 937, 2726, 3010, ...,    0,    0,    0],\n",
       "        [5611, 1463,  625, ...,    0,    0,    0],\n",
       "        [3720, 2259, 1591, ...,    0,    0,    0],\n",
       "        ...,\n",
       "        [ 731,    3, 1281, ...,    0,    0,    0],\n",
       "        [1021, 2009, 4556, ...,    0,    0,    0],\n",
       "        [ 817, 1738, 1553, ...,    0,    0,    0]], dtype=int32),\n",
       " array([[1, 1, 1, ..., 0, 0, 0],\n",
       "        [1, 3, 3, ..., 0, 0, 0],\n",
       "        [1, 1, 1, ..., 0, 0, 0],\n",
       "        ...,\n",
       "        [1, 1, 1, ..., 0, 0, 0],\n",
       "        [1, 1, 1, ..., 0, 0, 0],\n",
       "        [1, 1, 1, ..., 0, 0, 0]], dtype=int32))"
      ]
     },
     "execution_count": 12,
     "metadata": {},
     "output_type": "execute_result"
    }
   ],
   "source": [
    "# Repeat seed (if needed)\n",
    "np.random.seed(randomer)\n",
    "\n",
    "# Generate random indices (we want to shuffle our training set)\n",
    "indices = np.random.permutation(len(nx_ar))\n",
    "\n",
    "# Shuffle both arrays using the same indices\n",
    "X_train_new = nx_ar[indices]\n",
    "y_train_new = ny_ar[indices]\n",
    "\n",
    "X_train_new, y_train_new"
   ]
  },
  {
   "cell_type": "code",
   "execution_count": 13,
   "id": "a2b16b24",
   "metadata": {
    "execution": {
     "iopub.execute_input": "2023-12-26T14:04:48.428943Z",
     "iopub.status.busy": "2023-12-26T14:04:48.428599Z",
     "iopub.status.idle": "2023-12-26T14:04:51.725000Z",
     "shell.execute_reply": "2023-12-26T14:04:51.723297Z"
    },
    "papermill": {
     "duration": 3.309057,
     "end_time": "2023-12-26T14:04:51.727680",
     "exception": false,
     "start_time": "2023-12-26T14:04:48.418623",
     "status": "completed"
    },
    "tags": []
   },
   "outputs": [
    {
     "name": "stdout",
     "output_type": "stream",
     "text": [
      "Without Oversampling:\n",
      "Number in Class 0 : 408388 , 35.65461847389558 %\n",
      "Number in Class 1 : 366060 , 31.959140911471973 %\n",
      "Number in Class 2 : 239124 , 20.876898899947616 %\n",
      "Number in Class 3 : 131828 , 11.509341714684826 %\n",
      "\n",
      "With Oversampling:\n",
      "Number in Class 0 : 649924 , 24.520807394831163 %\n",
      "Number in Class 1 : 705695 , 26.624976419543483 %\n",
      "Number in Class 2 : 645468 , 24.35268817204301 %\n",
      "Number in Class 3 : 649413 , 24.501528013582345 %\n"
     ]
    }
   ],
   "source": [
    "from sklearn.metrics import classification_report\n",
    "\n",
    "# Simple way to find out how many instances there are of each class\n",
    "report1 = classification_report(y_train.flatten(), y_train.flatten(), output_dict = True)\n",
    "report2 = classification_report(y_train_new.flatten(), y_train_new.flatten(), output_dict = True)\n",
    "\n",
    "print(\"Without Oversampling:\")\n",
    "for i in [\"0\",\"1\",\"2\",\"3\"]:\n",
    "    print(\"Number in Class\", i, \":\", report1[i][\"support\"], \",\", report1[i][\"support\"] * 100 / report1[\"weighted avg\"][\"support\"], \"%\")\n",
    "    \n",
    "print(\"\\nWith Oversampling:\")\n",
    "for i in [\"0\",\"1\",\"2\",\"3\"]:\n",
    "    print(\"Number in Class\", i, \":\", report2[i][\"support\"], \",\", report2[i][\"support\"] * 100 / report2[\"weighted avg\"][\"support\"], \"%\")"
   ]
  },
  {
   "cell_type": "code",
   "execution_count": 14,
   "id": "e3d59324",
   "metadata": {
    "execution": {
     "iopub.execute_input": "2023-12-26T14:04:51.745356Z",
     "iopub.status.busy": "2023-12-26T14:04:51.744972Z",
     "iopub.status.idle": "2023-12-26T14:04:51.751761Z",
     "shell.execute_reply": "2023-12-26T14:04:51.750657Z"
    },
    "papermill": {
     "duration": 0.018503,
     "end_time": "2023-12-26T14:04:51.754288",
     "exception": false,
     "start_time": "2023-12-26T14:04:51.735785",
     "status": "completed"
    },
    "tags": []
   },
   "outputs": [],
   "source": [
    "from collections import defaultdict\n",
    "\n",
    "# Function to visualise distribution of SST-3/SST-8 (taken from EDA workbook, adapted to arrays)\n",
    "def sst_visualise(array, ss_types, labels, ss_colours, title):\n",
    "    ss_counts = defaultdict(lambda: 0)\n",
    "\n",
    "    for row in array:\n",
    "        for element in row:\n",
    "            ss_counts[element] += 1\n",
    "\n",
    "    plt.bar(range(len(ss_types)), height = [ss_counts[ss] for ss in ss_types], tick_label = labels, edgecolor = \"black\", width = 0.75, zorder = 3, color = ss_colours)\n",
    "    plt.title(title)\n",
    "    plt.xlabel(\"Element\")\n",
    "    plt.ylabel(\"Frequency\")\n",
    "    plt.show()"
   ]
  },
  {
   "cell_type": "code",
   "execution_count": 15,
   "id": "19f45225",
   "metadata": {
    "execution": {
     "iopub.execute_input": "2023-12-26T14:04:51.772290Z",
     "iopub.status.busy": "2023-12-26T14:04:51.771898Z",
     "iopub.status.idle": "2023-12-26T14:04:52.843049Z",
     "shell.execute_reply": "2023-12-26T14:04:52.842195Z"
    },
    "papermill": {
     "duration": 1.082808,
     "end_time": "2023-12-26T14:04:52.845351",
     "exception": false,
     "start_time": "2023-12-26T14:04:51.762543",
     "status": "completed"
    },
    "tags": []
   },
   "outputs": [
    {
     "data": {
      "image/png": "[encoded data removed]",
      "text/plain": [
       "<Figure size 640x480 with 1 Axes>"
      ]
     },
     "metadata": {},
     "output_type": "display_data"
    },
    {
     "data": {
      "image/png": "[encoded data removed]",
      "text/plain": [
       "<Figure size 640x480 with 1 Axes>"
      ]
     },
     "metadata": {},
     "output_type": "display_data"
    }
   ],
   "source": [
    "# Define elements for SST-3 and SST-8, and custom colours\n",
    "ss_types = list(set(np.ravel(y_train)))\n",
    "labels = [\"Padding\", \"C\", \"H\", \"E\"]\n",
    "ss_colours = [\"grey\", \"purple\", \"orange\", \"black\"]\n",
    "\n",
    "# Plot for training set distribution before oversampling\n",
    "sst_visualise(y_train, ss_types, labels, ss_colours, \"Secondary Structure Distribution (Training; Without Oversampling)\")\n",
    "\n",
    "# Plot for training set distribution after oversampling\n",
    "sst_visualise(y_train_new, ss_types, labels, ss_colours, \"Secondary Structure Distribution (Training; With Oversampling)\")"
   ]
  },
  {
   "cell_type": "markdown",
   "id": "6a82ec36",
   "metadata": {
    "papermill": {
     "duration": 0.008434,
     "end_time": "2023-12-26T14:04:52.862791",
     "exception": false,
     "start_time": "2023-12-26T14:04:52.854357",
     "status": "completed"
    },
    "tags": []
   },
   "source": [
    "### Import Classifier and Define Q3 Accuracy Metric\n",
    "\n",
    "We are interested in using random forests for multi-output classification, so we import the relevant functions from scikit-learn. Q3 accuracy is an important metric for assessing the accuracy of our models, as it excludes the padding class in its calculations (it is otherwise equivalent to 'accuracy_score' from scikit-learn)."
   ]
  },
  {
   "cell_type": "code",
   "execution_count": 16,
   "id": "55b6cfba",
   "metadata": {
    "execution": {
     "iopub.execute_input": "2023-12-26T14:04:52.882855Z",
     "iopub.status.busy": "2023-12-26T14:04:52.881488Z",
     "iopub.status.idle": "2023-12-26T14:04:53.147932Z",
     "shell.execute_reply": "2023-12-26T14:04:53.146755Z"
    },
    "papermill": {
     "duration": 0.27878,
     "end_time": "2023-12-26T14:04:53.150293",
     "exception": false,
     "start_time": "2023-12-26T14:04:52.871513",
     "status": "completed"
    },
    "tags": []
   },
   "outputs": [],
   "source": [
    "# Import MultiOutputClassifier and RandomForestClassifier\n",
    "from sklearn.multioutput import MultiOutputClassifier\n",
    "from sklearn.ensemble import RandomForestClassifier\n",
    "\n",
    "# Create Q3 function using NumPy (accuracy of those other than zero, which is the padding)\n",
    "def q3_acc_numpy(y_true, y_pred):\n",
    "    mask = y_true > 0\n",
    "    q3 = np.equal(np.extract(mask, y_true), np.extract(mask, y_pred)).astype(float)\n",
    "    return np.sum(q3) / q3.shape[0]"
   ]
  },
  {
   "cell_type": "markdown",
   "id": "2af7f989",
   "metadata": {
    "papermill": {
     "duration": 0.008406,
     "end_time": "2023-12-26T14:04:53.167636",
     "exception": false,
     "start_time": "2023-12-26T14:04:53.159230",
     "status": "completed"
    },
    "tags": []
   },
   "source": [
    "### Investigate Suitable Number of Trees\n",
    "\n",
    "We want to maximise the Q3 accuracy. It is difficult to test large numbers of trees, whilst trying to minimise the computational expense. A sensible range for the number of trees is chosen as [1, 60].\n",
    "\n",
    "We test the performance of the Entropy criterion here, with the Gini criterion verified in another notebook found in the Github repository."
   ]
  },
  {
   "cell_type": "markdown",
   "id": "a06eca41",
   "metadata": {
    "papermill": {
     "duration": 0.008161,
     "end_time": "2023-12-26T14:04:53.184436",
     "exception": false,
     "start_time": "2023-12-26T14:04:53.176275",
     "status": "completed"
    },
    "tags": []
   },
   "source": [
    "#### With Oversampling"
   ]
  },
  {
   "cell_type": "code",
   "execution_count": 17,
   "id": "6f8ba531",
   "metadata": {
    "execution": {
     "iopub.execute_input": "2023-12-26T14:04:53.266109Z",
     "iopub.status.busy": "2023-12-26T14:04:53.265736Z",
     "iopub.status.idle": "2023-12-26T19:58:29.446320Z",
     "shell.execute_reply": "2023-12-26T19:58:29.445342Z"
    },
    "papermill": {
     "duration": 21216.196797,
     "end_time": "2023-12-26T19:58:29.448371",
     "exception": false,
     "start_time": "2023-12-26T14:04:53.251574",
     "status": "completed"
    },
    "tags": []
   },
   "outputs": [
    {
     "name": "stdout",
     "output_type": "stream",
     "text": [
      "[0.5259184576796341, 0.5595214675650421, 0.576550435253037, 0.5828333251364777, 0.5997762258397679, 0.6011410023115134, 0.6056779619338022, 0.6133379235725176, 0.6157600944277775, 0.6187601436089116, 0.6220429843112182, 0.6225347956523878, 0.6238012098558993, 0.6278463581370186, 0.6289406383711208, 0.6304652535287464, 0.6328136526828309, 0.6326169281463631, 0.6342522008557517, 0.6359858358333743, 0.6366743717110117, 0.6379653764815817, 0.6392809718192102, 0.6403383662027247, 0.641235921900359, 0.6410883784980081, 0.6418629813603501, 0.6412973983180053, 0.6428466040426892, 0.6436826833226774, 0.6442851522156101, 0.644899916392072, 0.6444572861850194, 0.6461786258791128, 0.6462892834308759, 0.6474081542320366, 0.6468917523238086, 0.6473097919638027, 0.6478630797226184, 0.6486376825849605, 0.6488467024049575, 0.6487975212708406, 0.6491049033590715, 0.6498672109378842, 0.649756553386121, 0.6502975458614075, 0.6502114788767029, 0.6506541090837554, 0.6503836128461122, 0.6506541090837554, 0.6511828062755127, 0.651613141199036, 0.6520434761225594, 0.652178724241381, 0.652953327103723, 0.6525967638813751, 0.6524738110460827, 0.6522524959425564, 0.6528426695519599, 0.6535557959966557]\n"
     ]
    },
    {
     "data": {
      "image/png": "[encoded data removed]",
      "text/plain": [
       "<Figure size 640x480 with 1 Axes>"
      ]
     },
     "metadata": {},
     "output_type": "display_data"
    },
    {
     "name": "stdout",
     "output_type": "stream",
     "text": [
      "CPU times: user 5h 53min 21s, sys: 11.2 s, total: 5h 53min 32s\n",
      "Wall time: 5h 53min 36s\n"
     ]
    }
   ],
   "source": [
    "%%time\n",
    "\n",
    "# With Oversampling\n",
    "\n",
    "criteria = [\"entropy\"]\n",
    "\n",
    "# Loop over the two criteria\n",
    "for criterion_ in criteria:\n",
    "    accuracy_data = []\n",
    "    nums = []\n",
    "    \n",
    "    # Loop over every number of trees\n",
    "    for i in range(1, 61):\n",
    "        # Define model\n",
    "        rf_model = MultiOutputClassifier(RandomForestClassifier(n_estimators = i, criterion = criterion_, random_state = randomer))\n",
    "        # Fit training set to model\n",
    "        rf_model.fit(X_train_new, y_train_new)\n",
    "        # Use model to predict the validation set classes (elements)\n",
    "        y_pred = rf_model.predict(X_val)\n",
    "        # Calculate Q3 accuracy of prediction and append to 'accuracy_data'\n",
    "        accuracy = q3_acc_numpy(y_val.flatten(), y_pred.flatten())\n",
    "        accuracy_data.append(accuracy)\n",
    "        nums.append(i)\n",
    "    \n",
    "    print(accuracy_data)\n",
    "    \n",
    "    plt.plot(nums, accuracy_data, label = criterion_)\n",
    "    \n",
    "plt.title(\"Accuracy Based on Number of Trees (With Oversampling)\")\n",
    "plt.xlabel(\"Number of Trees (n_estimators)\")\n",
    "plt.ylabel(\"Q3 Accuracy\")\n",
    "plt.legend()\n",
    "plt.savefig(\"oversamp_rf.pdf\")\n",
    "plt.show()"
   ]
  },
  {
   "cell_type": "markdown",
   "id": "03db576f",
   "metadata": {
    "papermill": {
     "duration": 0.008846,
     "end_time": "2023-12-26T19:58:29.466996",
     "exception": false,
     "start_time": "2023-12-26T19:58:29.458150",
     "status": "completed"
    },
    "tags": []
   },
   "source": [
    "### Set Hyperparameters"
   ]
  },
  {
   "cell_type": "code",
   "execution_count": 18,
   "id": "39912c98",
   "metadata": {
    "execution": {
     "iopub.execute_input": "2023-12-26T19:58:29.487235Z",
     "iopub.status.busy": "2023-12-26T19:58:29.486603Z",
     "iopub.status.idle": "2023-12-26T19:58:29.491738Z",
     "shell.execute_reply": "2023-12-26T19:58:29.490342Z"
    },
    "papermill": {
     "duration": 0.01747,
     "end_time": "2023-12-26T19:58:29.493600",
     "exception": false,
     "start_time": "2023-12-26T19:58:29.476130",
     "status": "completed"
    },
    "tags": []
   },
   "outputs": [],
   "source": [
    "# Number of trees, criterion to measure split quality\n",
    "\n",
    "num_estimators = 60\n",
    "crit_ = \"entropy\""
   ]
  },
  {
   "cell_type": "markdown",
   "id": "12e123e1",
   "metadata": {
    "papermill": {
     "duration": 0.008708,
     "end_time": "2023-12-26T19:58:29.511923",
     "exception": false,
     "start_time": "2023-12-26T19:58:29.503215",
     "status": "completed"
    },
    "tags": []
   },
   "source": [
    "### $k$-Fold Cross-Validation (Oversampled Data)\n",
    "\n",
    "We perform $k$-fold cross-validation on our oversampled data to determine if the accuracy is approximately equal for different subsets of the data."
   ]
  },
  {
   "cell_type": "code",
   "execution_count": 19,
   "id": "610e2ab3",
   "metadata": {
    "execution": {
     "iopub.execute_input": "2023-12-26T19:58:29.531651Z",
     "iopub.status.busy": "2023-12-26T19:58:29.531317Z",
     "iopub.status.idle": "2023-12-26T20:44:00.788648Z",
     "shell.execute_reply": "2023-12-26T20:44:00.787721Z"
    },
    "papermill": {
     "duration": 2731.278848,
     "end_time": "2023-12-26T20:44:00.799784",
     "exception": false,
     "start_time": "2023-12-26T19:58:29.520936",
     "status": "completed"
    },
    "tags": []
   },
   "outputs": [
    {
     "name": "stdout",
     "output_type": "stream",
     "text": [
      "Fold #1, Training Size: 21204, Validation Size: 5301\n",
      "Q3 Accuracy: 0.8717\n",
      "Fold #2, Training Size: 21204, Validation Size: 5301\n",
      "Q3 Accuracy: 0.8724\n",
      "Fold #3, Training Size: 21204, Validation Size: 5301\n",
      "Q3 Accuracy: 0.8743\n",
      "Fold #4, Training Size: 21204, Validation Size: 5301\n",
      "Q3 Accuracy: 0.8724\n",
      "Fold #5, Training Size: 21204, Validation Size: 5301\n",
      "Q3 Accuracy: 0.8722\n",
      "CPU times: user 45min 29s, sys: 1.65 s, total: 45min 30s\n",
      "Wall time: 45min 31s\n"
     ]
    }
   ],
   "source": [
    "%%time\n",
    "\n",
    "# k-Fold Cross-Validation\n",
    "\n",
    "from sklearn.model_selection import KFold\n",
    "\n",
    "# Define model based on hyperparameters\n",
    "\n",
    "rf_model = MultiOutputClassifier(RandomForestClassifier(n_estimators = num_estimators, criterion = crit_, random_state = randomer))\n",
    "\n",
    "# Define 5-fold class\n",
    "\n",
    "kf = KFold(n_splits = 5, shuffle = True, random_state = randomer)\n",
    "fold = 1\n",
    "\n",
    "# Start 5-fold CV, using oversampled data\n",
    "\n",
    "for train_i, validate_i in kf.split(X_train_new, y_train_new):\n",
    "    # Fit training subset to model\n",
    "    rf_model.fit(X_train_new[train_i], y_train_new[train_i])\n",
    "    # Define validation subset\n",
    "    y_tester = y_train_new[validate_i]\n",
    "    # Use model to predict validation subset\n",
    "    y_preder = rf_model.predict(X_train_new[validate_i])\n",
    "    # Output fold number and relevant statistics, including accuracy\n",
    "    print(f\"Fold #{fold}, Training Size: {len(X_train_new[train_i])}, Validation Size: {len(X_train_new[validate_i])}\")\n",
    "    print(f\"Q3 Accuracy: {round(q3_acc_numpy(y_tester.flatten(), y_preder.flatten()), 4)}\")\n",
    "    # Move to next fold\n",
    "    fold += 1"
   ]
  },
  {
   "cell_type": "markdown",
   "id": "8b2319f1",
   "metadata": {
    "papermill": {
     "duration": 0.008925,
     "end_time": "2023-12-26T20:44:00.818709",
     "exception": false,
     "start_time": "2023-12-26T20:44:00.809784",
     "status": "completed"
    },
    "tags": []
   },
   "source": [
    "### Results of Chosen Model (With Oversampling)\n",
    "\n",
    "We train our final chosen model and test it on our test set. We also compare the results between training on the oversampled data against training on the original data."
   ]
  },
  {
   "cell_type": "code",
   "execution_count": 20,
   "id": "a3c1749b",
   "metadata": {
    "execution": {
     "iopub.execute_input": "2023-12-26T20:44:00.838980Z",
     "iopub.status.busy": "2023-12-26T20:44:00.838384Z",
     "iopub.status.idle": "2023-12-26T20:55:39.547899Z",
     "shell.execute_reply": "2023-12-26T20:55:39.546868Z"
    },
    "papermill": {
     "duration": 698.730908,
     "end_time": "2023-12-26T20:55:39.558792",
     "exception": false,
     "start_time": "2023-12-26T20:44:00.827884",
     "status": "completed"
    },
    "tags": []
   },
   "outputs": [
    {
     "name": "stdout",
     "output_type": "stream",
     "text": [
      "CPU times: user 11min 38s, sys: 406 ms, total: 11min 38s\n",
      "Wall time: 11min 38s\n"
     ]
    }
   ],
   "source": [
    "%%time\n",
    "\n",
    "# We determine that the following is a suitable model based on the above (with oversampling), using hyperparameters\n",
    "\n",
    "# Oversampled Data Model\n",
    "\n",
    "rf_model2 = MultiOutputClassifier(RandomForestClassifier(n_estimators = num_estimators, criterion = crit_, random_state = randomer))\n",
    "rf_model2.fit(X_train_new, y_train_new)\n",
    "y_pred2 = rf_model2.predict(X_test)"
   ]
  },
  {
   "cell_type": "code",
   "execution_count": 21,
   "id": "183dbfd1",
   "metadata": {
    "execution": {
     "iopub.execute_input": "2023-12-26T20:55:39.580257Z",
     "iopub.status.busy": "2023-12-26T20:55:39.579913Z",
     "iopub.status.idle": "2023-12-26T20:55:40.108772Z",
     "shell.execute_reply": "2023-12-26T20:55:40.107626Z"
    },
    "papermill": {
     "duration": 0.542602,
     "end_time": "2023-12-26T20:55:40.111188",
     "exception": false,
     "start_time": "2023-12-26T20:55:39.568586",
     "status": "completed"
    },
    "tags": []
   },
   "outputs": [
    {
     "name": "stdout",
     "output_type": "stream",
     "text": [
      "===== With Oversampling =====\n",
      "\n",
      "Default Accuracy: 0.773095051060487\n",
      "Q3 Accuracy: 0.6465819965985146\n",
      "\n",
      "               precision    recall  f1-score   support\n",
      "\n",
      "     Padding   0.999814  0.999989  0.999901     91142\n",
      "           C   0.629942  0.829653  0.716134     80377\n",
      "           H   0.633700  0.551428  0.589708     53940\n",
      "           E   0.869810  0.317765  0.465479     29141\n",
      "\n",
      "    accuracy                       0.773095    254600\n",
      "   macro avg   0.783316  0.674709  0.692806    254600\n",
      "weighted avg   0.790600  0.773095  0.762243    254600\n",
      "\n"
     ]
    },
    {
     "data": {
      "image/png": "[encoded data removed]",
      "text/plain": [
       "<Figure size 640x480 with 2 Axes>"
      ]
     },
     "metadata": {},
     "output_type": "display_data"
    }
   ],
   "source": [
    "# Class labels as a dictionary, {0: \"Padding\", 1: \"C\", 2: \"H\", 3: \"E\"}\n",
    "\n",
    "from sklearn.metrics import accuracy_score, confusion_matrix, ConfusionMatrixDisplay\n",
    "\n",
    "print(\"===== With Oversampling =====\\n\")\n",
    "\n",
    "# Output useful metrics\n",
    "\n",
    "print(f\"Default Accuracy: {accuracy_score(y_test.flatten(), y_pred2.flatten())}\")\n",
    "print(f\"Q3 Accuracy: {q3_acc_numpy(y_test.flatten(), y_pred2.flatten())}\")\n",
    "print(\"\\n\", classification_report(y_test.flatten(), y_pred2.flatten(), target_names = [\"Padding\", \"C\", \"H\", \"E\"], digits = 6))\n",
    "\n",
    "# Create and display confusion matrix\n",
    "\n",
    "cm2 = confusion_matrix(y_test.flatten(), y_pred2.flatten())\n",
    "disp2 = ConfusionMatrixDisplay(confusion_matrix = cm2, display_labels = [\"Padding\", \"C\", \"H\", \"E\"])\n",
    "disp2.plot()\n",
    "disp2.figure_.savefig(\"disp2.pdf\")\n",
    "plt.show()"
   ]
  },
  {
   "cell_type": "code",
   "execution_count": null,
   "id": "68a46fd4",
   "metadata": {
    "papermill": {
     "duration": 0.08486,
     "end_time": "2023-12-26T20:55:40.206916",
     "exception": false,
     "start_time": "2023-12-26T20:55:40.122056",
     "status": "completed"
    },
    "tags": []
   },
   "outputs": [],
   "source": []
  }
 ],
 "metadata": {
  "kaggle": {
   "accelerator": "none",
   "dataSources": [
    {
     "datasetId": 4213466,
     "sourceId": 7268634,
     "sourceType": "datasetVersion"
    },
    {
     "datasetId": 4220194,
     "sourceId": 7278765,
     "sourceType": "datasetVersion"
    }
   ],
   "dockerImageVersionId": 30626,
   "isGpuEnabled": false,
   "isInternetEnabled": true,
   "language": "python",
   "sourceType": "notebook"
  },
  "kernelspec": {
   "display_name": "Python 3 (ipykernel)",
   "language": "python",
   "name": "python3"
  },
  "language_info": {
   "codemirror_mode": {
    "name": "ipython",
    "version": 3
   },
   "file_extension": ".py",
   "mimetype": "text/x-python",
   "name": "python",
   "nbconvert_exporter": "python",
   "pygments_lexer": "ipython3",
   "version": "3.10.13"
  },
  "papermill": {
   "default_parameters": {},
   "duration": 24703.776213,
   "end_time": "2023-12-26T20:55:41.978737",
   "environment_variables": {},
   "exception": null,
   "input_path": "__notebook__.ipynb",
   "output_path": "__notebook__.ipynb",
   "parameters": {},
   "start_time": "2023-12-26T14:03:58.202524",
   "version": "2.4.0"
  }
 },
 "nbformat": 4,
 "nbformat_minor": 5
}

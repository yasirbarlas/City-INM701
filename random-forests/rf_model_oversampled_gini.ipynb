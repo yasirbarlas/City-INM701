{
 "cells": [
  {
   "cell_type": "markdown",
   "id": "b6192508",
   "metadata": {
    "papermill": {
     "duration": 0.010783,
     "end_time": "2023-12-26T14:06:19.571548",
     "exception": false,
     "start_time": "2023-12-26T14:06:19.560765",
     "status": "completed"
    },
    "tags": []
   },
   "source": [
    "# INM701: Random Forests (Part 2, Oversampled Data, Gini)\n",
    "\n",
    "We use scikit-learn to train and test a random forest model on a dataset of proteins and their secondary structures.\n",
    "\n",
    "This notebook is specifically for the oversampled data. The validation phase is done only for the Gini criterion.\n",
    "\n",
    "The work presented here is part of the coursework of the INM701 module at City, University of London. The Github repository can be found [here](https://github.com/yasirbarlas/City-INM701)."
   ]
  },
  {
   "cell_type": "markdown",
   "id": "9d608898",
   "metadata": {
    "papermill": {
     "duration": 0.009622,
     "end_time": "2023-12-26T14:06:19.591472",
     "exception": false,
     "start_time": "2023-12-26T14:06:19.581850",
     "status": "completed"
    },
    "tags": []
   },
   "source": [
    "### Import Libraries"
   ]
  },
  {
   "cell_type": "code",
   "execution_count": 1,
   "id": "6aa1973e",
   "metadata": {
    "execution": {
     "iopub.execute_input": "2023-12-26T14:06:19.613987Z",
     "iopub.status.busy": "2023-12-26T14:06:19.613474Z",
     "iopub.status.idle": "2023-12-26T14:06:20.806931Z",
     "shell.execute_reply": "2023-12-26T14:06:20.805190Z"
    },
    "papermill": {
     "duration": 1.209221,
     "end_time": "2023-12-26T14:06:20.810671",
     "exception": false,
     "start_time": "2023-12-26T14:06:19.601450",
     "status": "completed"
    },
    "tags": []
   },
   "outputs": [],
   "source": [
    "# Import Relevant Libraries\n",
    "import os\n",
    "import numpy as np\n",
    "import pandas as pd\n",
    "import random\n",
    "import matplotlib.pyplot as plt\n",
    "\n",
    "# Ignore warnings (making the work easier to read)\n",
    "import warnings\n",
    "warnings.filterwarnings(\"ignore\")"
   ]
  },
  {
   "cell_type": "markdown",
   "id": "a7dfa471",
   "metadata": {
    "papermill": {
     "duration": 0.013183,
     "end_time": "2023-12-26T14:06:20.839627",
     "exception": false,
     "start_time": "2023-12-26T14:06:20.826444",
     "status": "completed"
    },
    "tags": []
   },
   "source": [
    "### Import Dataset\n",
    "\n",
    "Refer to the 'eda-data-processing.ipynb' workbook for more detail on how this dataset was created."
   ]
  },
  {
   "cell_type": "code",
   "execution_count": 2,
   "id": "49014278",
   "metadata": {
    "execution": {
     "iopub.execute_input": "2023-12-26T14:06:20.867160Z",
     "iopub.status.busy": "2023-12-26T14:06:20.865975Z",
     "iopub.status.idle": "2023-12-26T14:06:21.053595Z",
     "shell.execute_reply": "2023-12-26T14:06:21.051913Z"
    },
    "papermill": {
     "duration": 0.205532,
     "end_time": "2023-12-26T14:06:21.056726",
     "exception": false,
     "start_time": "2023-12-26T14:06:20.851194",
     "status": "completed"
    },
    "tags": []
   },
   "outputs": [
    {
     "data": {
      "text/html": [
       "<div>\n",
       "<style scoped>\n",
       "    .dataframe tbody tr th:only-of-type {\n",
       "        vertical-align: middle;\n",
       "    }\n",
       "\n",
       "    .dataframe tbody tr th {\n",
       "        vertical-align: top;\n",
       "    }\n",
       "\n",
       "    .dataframe thead th {\n",
       "        text-align: right;\n",
       "    }\n",
       "</style>\n",
       "<table border=\"1\" class=\"dataframe\">\n",
       "  <thead>\n",
       "    <tr style=\"text-align: right;\">\n",
       "      <th></th>\n",
       "      <th>pdb_id</th>\n",
       "      <th>chain_code</th>\n",
       "      <th>seq</th>\n",
       "      <th>sst8</th>\n",
       "      <th>sst3</th>\n",
       "      <th>len</th>\n",
       "    </tr>\n",
       "  </thead>\n",
       "  <tbody>\n",
       "    <tr>\n",
       "      <th>0</th>\n",
       "      <td>1BXL</td>\n",
       "      <td>B</td>\n",
       "      <td>GQVGRQLAIIGDDINR</td>\n",
       "      <td>CCTTHHHHHHHHHTCC</td>\n",
       "      <td>CCCCHHHHHHHHHCCC</td>\n",
       "      <td>16</td>\n",
       "    </tr>\n",
       "    <tr>\n",
       "      <th>1</th>\n",
       "      <td>1D9K</td>\n",
       "      <td>P</td>\n",
       "      <td>GNSHRGAIEWEGIESG</td>\n",
       "      <td>CCEECCCCCCCCCCCC</td>\n",
       "      <td>CCEECCCCCCCCCCCC</td>\n",
       "      <td>16</td>\n",
       "    </tr>\n",
       "    <tr>\n",
       "      <th>2</th>\n",
       "      <td>1DPU</td>\n",
       "      <td>B</td>\n",
       "      <td>RIQRNKAAALLRLAAR</td>\n",
       "      <td>CCSSHHHHHHHHHHCC</td>\n",
       "      <td>CCCCHHHHHHHHHHCC</td>\n",
       "      <td>16</td>\n",
       "    </tr>\n",
       "    <tr>\n",
       "      <th>3</th>\n",
       "      <td>1DXP</td>\n",
       "      <td>C</td>\n",
       "      <td>KGSVVIVGRIILSGRK</td>\n",
       "      <td>CCCBEEEEEEEECCCC</td>\n",
       "      <td>CCCEEEEEEEEECCCC</td>\n",
       "      <td>16</td>\n",
       "    </tr>\n",
       "    <tr>\n",
       "      <th>4</th>\n",
       "      <td>1EJH</td>\n",
       "      <td>E</td>\n",
       "      <td>KQYDREFLLDFQFMPA</td>\n",
       "      <td>CCCCHHHHHTTSCCCC</td>\n",
       "      <td>CCCCHHHHHCCCCCCC</td>\n",
       "      <td>16</td>\n",
       "    </tr>\n",
       "    <tr>\n",
       "      <th>...</th>\n",
       "      <td>...</td>\n",
       "      <td>...</td>\n",
       "      <td>...</td>\n",
       "      <td>...</td>\n",
       "      <td>...</td>\n",
       "      <td>...</td>\n",
       "    </tr>\n",
       "    <tr>\n",
       "      <th>15267</th>\n",
       "      <td>6UUJ</td>\n",
       "      <td>A</td>\n",
       "      <td>GAMVPEGLAAASAAVEALTARLAAAHASAAPVITAVVPPAADPVSL...</td>\n",
       "      <td>CCCCCSTTHHHHHHHHHHHHHHHHHHHHSHHHHHSCCCSSSSHHHH...</td>\n",
       "      <td>CCCCCCCCHHHHHHHHHHHHHHHHHHHHCHHHHHCCCCCCCCHHHH...</td>\n",
       "      <td>100</td>\n",
       "    </tr>\n",
       "    <tr>\n",
       "      <th>15268</th>\n",
       "      <td>6V7M</td>\n",
       "      <td>A</td>\n",
       "      <td>MKVLWAALLVTFLAGCQAKVEQAVETEPEPELRQQTEWQSGQRWEL...</td>\n",
       "      <td>CCCCCCCCCCCCCCCCCCCCCCCCCCCCCCCCCCCCCCCCCCHHHH...</td>\n",
       "      <td>CCCCCCCCCCCCCCCCCCCCCCCCCCCCCCCCCCCCCCCCCCHHHH...</td>\n",
       "      <td>100</td>\n",
       "    </tr>\n",
       "    <tr>\n",
       "      <th>15269</th>\n",
       "      <td>6VQX</td>\n",
       "      <td>A</td>\n",
       "      <td>MKVPAFFAANILTIEQIIEAINNDGSAMTSAPEIAGYYAWDAATDA...</td>\n",
       "      <td>CCCCSSTTSSCCCHHHHHHHHHTTSCTTSCHHHHHHHHHHHHHHHS...</td>\n",
       "      <td>CCCCCCCCCCCCCHHHHHHHHHCCCCCCCCHHHHHHHHHHHHHHHC...</td>\n",
       "      <td>100</td>\n",
       "    </tr>\n",
       "    <tr>\n",
       "      <th>15270</th>\n",
       "      <td>6XVF</td>\n",
       "      <td>F</td>\n",
       "      <td>RWLEGIRKWYYNAAGFNKLGLMRDDTIHENDDVKEAIRRLPENLYN...</td>\n",
       "      <td>CCTHHHHHHHHHHHCGGGGTCCGGGSBCCCHHHHHHHHTSCHHHHH...</td>\n",
       "      <td>CCCHHHHHHHHHHHCHHHHCCCHHHCECCCHHHHHHHHCCCHHHHH...</td>\n",
       "      <td>100</td>\n",
       "    </tr>\n",
       "    <tr>\n",
       "      <th>15271</th>\n",
       "      <td>6YIE</td>\n",
       "      <td>B</td>\n",
       "      <td>VAKTNSLRRRKLASFLKDFDREVEIRIKQIESDRQNLLKEVDNLYN...</td>\n",
       "      <td>CCCCCCHHHHHHHHHHHHHHHHHHHHHHHHHHHHHHHHHHHHHHHH...</td>\n",
       "      <td>CCCCCCHHHHHHHHHHHHHHHHHHHHHHHHHHHHHHHHHHHHHHHH...</td>\n",
       "      <td>100</td>\n",
       "    </tr>\n",
       "  </tbody>\n",
       "</table>\n",
       "<p>15272 rows × 6 columns</p>\n",
       "</div>"
      ],
      "text/plain": [
       "      pdb_id chain_code                                                seq  \\\n",
       "0       1BXL          B                                   GQVGRQLAIIGDDINR   \n",
       "1       1D9K          P                                   GNSHRGAIEWEGIESG   \n",
       "2       1DPU          B                                   RIQRNKAAALLRLAAR   \n",
       "3       1DXP          C                                   KGSVVIVGRIILSGRK   \n",
       "4       1EJH          E                                   KQYDREFLLDFQFMPA   \n",
       "...      ...        ...                                                ...   \n",
       "15267   6UUJ          A  GAMVPEGLAAASAAVEALTARLAAAHASAAPVITAVVPPAADPVSL...   \n",
       "15268   6V7M          A  MKVLWAALLVTFLAGCQAKVEQAVETEPEPELRQQTEWQSGQRWEL...   \n",
       "15269   6VQX          A  MKVPAFFAANILTIEQIIEAINNDGSAMTSAPEIAGYYAWDAATDA...   \n",
       "15270   6XVF          F  RWLEGIRKWYYNAAGFNKLGLMRDDTIHENDDVKEAIRRLPENLYN...   \n",
       "15271   6YIE          B  VAKTNSLRRRKLASFLKDFDREVEIRIKQIESDRQNLLKEVDNLYN...   \n",
       "\n",
       "                                                    sst8  \\\n",
       "0                                       CCTTHHHHHHHHHTCC   \n",
       "1                                       CCEECCCCCCCCCCCC   \n",
       "2                                       CCSSHHHHHHHHHHCC   \n",
       "3                                       CCCBEEEEEEEECCCC   \n",
       "4                                       CCCCHHHHHTTSCCCC   \n",
       "...                                                  ...   \n",
       "15267  CCCCCSTTHHHHHHHHHHHHHHHHHHHHSHHHHHSCCCSSSSHHHH...   \n",
       "15268  CCCCCCCCCCCCCCCCCCCCCCCCCCCCCCCCCCCCCCCCCCHHHH...   \n",
       "15269  CCCCSSTTSSCCCHHHHHHHHHTTSCTTSCHHHHHHHHHHHHHHHS...   \n",
       "15270  CCTHHHHHHHHHHHCGGGGTCCGGGSBCCCHHHHHHHHTSCHHHHH...   \n",
       "15271  CCCCCCHHHHHHHHHHHHHHHHHHHHHHHHHHHHHHHHHHHHHHHH...   \n",
       "\n",
       "                                                    sst3  len  \n",
       "0                                       CCCCHHHHHHHHHCCC   16  \n",
       "1                                       CCEECCCCCCCCCCCC   16  \n",
       "2                                       CCCCHHHHHHHHHHCC   16  \n",
       "3                                       CCCEEEEEEEEECCCC   16  \n",
       "4                                       CCCCHHHHHCCCCCCC   16  \n",
       "...                                                  ...  ...  \n",
       "15267  CCCCCCCCHHHHHHHHHHHHHHHHHHHHCHHHHHCCCCCCCCHHHH...  100  \n",
       "15268  CCCCCCCCCCCCCCCCCCCCCCCCCCCCCCCCCCCCCCCCCCHHHH...  100  \n",
       "15269  CCCCCCCCCCCCCHHHHHHHHHCCCCCCCCHHHHHHHHHHHHHHHC...  100  \n",
       "15270  CCCHHHHHHHHHHHCHHHHCCCHHHCECCCHHHHHHHHCCCHHHHH...  100  \n",
       "15271  CCCCCCHHHHHHHHHHHHHHHHHHHHHHHHHHHHHHHHHHHHHHHH...  100  \n",
       "\n",
       "[15272 rows x 6 columns]"
      ]
     },
     "execution_count": 2,
     "metadata": {},
     "output_type": "execute_result"
    }
   ],
   "source": [
    "# Create a variable for the path to the directory containing the dataset (and where to work)\n",
    "path = \"/kaggle/input/protein-sequences-16-100\"\n",
    "\n",
    "# Create a variable containing the full path of the dataset\n",
    "dataset = os.path.join(path, \"prot-seq-filtered.csv\")\n",
    "\n",
    "# Create a Pandas DataFrame of the dataset (which is a .csv file)\n",
    "df = pd.read_csv(dataset, delimiter = \",\")\n",
    "\n",
    "df"
   ]
  },
  {
   "cell_type": "markdown",
   "id": "819da931",
   "metadata": {
    "papermill": {
     "duration": 0.010812,
     "end_time": "2023-12-26T14:06:21.078162",
     "exception": false,
     "start_time": "2023-12-26T14:06:21.067350",
     "status": "completed"
    },
    "tags": []
   },
   "source": [
    "### Set Random Seed and $k$-mer Size\n",
    "\n",
    "We choose a seed for reproducibility and a sensible $k$-mer size."
   ]
  },
  {
   "cell_type": "code",
   "execution_count": 3,
   "id": "00fa8c4d",
   "metadata": {
    "execution": {
     "iopub.execute_input": "2023-12-26T14:06:21.102351Z",
     "iopub.status.busy": "2023-12-26T14:06:21.101764Z",
     "iopub.status.idle": "2023-12-26T14:06:21.109968Z",
     "shell.execute_reply": "2023-12-26T14:06:21.108166Z"
    },
    "papermill": {
     "duration": 0.024238,
     "end_time": "2023-12-26T14:06:21.112922",
     "exception": false,
     "start_time": "2023-12-26T14:06:21.088684",
     "status": "completed"
    },
    "tags": []
   },
   "outputs": [],
   "source": [
    "# k-mer size and seed choice\n",
    "\n",
    "kmer_size = 3\n",
    "randomer = 50\n",
    "\n",
    "# Random Seed\n",
    "random.seed(randomer)\n",
    "np.random.seed(randomer)"
   ]
  },
  {
   "cell_type": "markdown",
   "id": "9d70ce9a",
   "metadata": {
    "papermill": {
     "duration": 0.010361,
     "end_time": "2023-12-26T14:06:21.133924",
     "exception": false,
     "start_time": "2023-12-26T14:06:21.123563",
     "status": "completed"
    },
    "tags": []
   },
   "source": [
    "### Generate $k$-mers\n",
    "\n",
    "We convert our protein sequences in to $k$-mers, making the problem less computationally expensive. The choice of $k$ affects the performance of the model, with higher $k$ likely leading to less accurate models. This accuracy can vary based on much larger datasets, and with longer protein sequences.\n",
    "\n",
    "For example, the 3-mers for \"GQVGRQ\" are:\n",
    "\n",
    "GQV, QVG, VGR, GRQ"
   ]
  },
  {
   "cell_type": "code",
   "execution_count": 4,
   "id": "148a70e5",
   "metadata": {
    "execution": {
     "iopub.execute_input": "2023-12-26T14:06:21.160301Z",
     "iopub.status.busy": "2023-12-26T14:06:21.159426Z",
     "iopub.status.idle": "2023-12-26T14:06:21.555306Z",
     "shell.execute_reply": "2023-12-26T14:06:21.553890Z"
    },
    "papermill": {
     "duration": 0.414328,
     "end_time": "2023-12-26T14:06:21.559054",
     "exception": false,
     "start_time": "2023-12-26T14:06:21.144726",
     "status": "completed"
    },
    "tags": []
   },
   "outputs": [
    {
     "name": "stdout",
     "output_type": "stream",
     "text": [
      "Maximum Protein Length: 100\n"
     ]
    },
    {
     "data": {
      "text/html": [
       "<div>\n",
       "<style scoped>\n",
       "    .dataframe tbody tr th:only-of-type {\n",
       "        vertical-align: middle;\n",
       "    }\n",
       "\n",
       "    .dataframe tbody tr th {\n",
       "        vertical-align: top;\n",
       "    }\n",
       "\n",
       "    .dataframe thead th {\n",
       "        text-align: right;\n",
       "    }\n",
       "</style>\n",
       "<table border=\"1\" class=\"dataframe\">\n",
       "  <thead>\n",
       "    <tr style=\"text-align: right;\">\n",
       "      <th></th>\n",
       "      <th>pdb_id</th>\n",
       "      <th>chain_code</th>\n",
       "      <th>seq</th>\n",
       "      <th>sst8</th>\n",
       "      <th>sst3</th>\n",
       "      <th>len</th>\n",
       "      <th>kmers</th>\n",
       "    </tr>\n",
       "  </thead>\n",
       "  <tbody>\n",
       "    <tr>\n",
       "      <th>0</th>\n",
       "      <td>1BXL</td>\n",
       "      <td>B</td>\n",
       "      <td>GQVGRQLAIIGDDINR</td>\n",
       "      <td>CCTTHHHHHHHHHTCC</td>\n",
       "      <td>CCCCHHHHHHHHHCCC</td>\n",
       "      <td>16</td>\n",
       "      <td>[GQV, QVG, VGR, GRQ, RQL, QLA, LAI, AII, IIG, ...</td>\n",
       "    </tr>\n",
       "    <tr>\n",
       "      <th>1</th>\n",
       "      <td>1D9K</td>\n",
       "      <td>P</td>\n",
       "      <td>GNSHRGAIEWEGIESG</td>\n",
       "      <td>CCEECCCCCCCCCCCC</td>\n",
       "      <td>CCEECCCCCCCCCCCC</td>\n",
       "      <td>16</td>\n",
       "      <td>[GNS, NSH, SHR, HRG, RGA, GAI, AIE, IEW, EWE, ...</td>\n",
       "    </tr>\n",
       "    <tr>\n",
       "      <th>2</th>\n",
       "      <td>1DPU</td>\n",
       "      <td>B</td>\n",
       "      <td>RIQRNKAAALLRLAAR</td>\n",
       "      <td>CCSSHHHHHHHHHHCC</td>\n",
       "      <td>CCCCHHHHHHHHHHCC</td>\n",
       "      <td>16</td>\n",
       "      <td>[RIQ, IQR, QRN, RNK, NKA, KAA, AAA, AAL, ALL, ...</td>\n",
       "    </tr>\n",
       "    <tr>\n",
       "      <th>3</th>\n",
       "      <td>1DXP</td>\n",
       "      <td>C</td>\n",
       "      <td>KGSVVIVGRIILSGRK</td>\n",
       "      <td>CCCBEEEEEEEECCCC</td>\n",
       "      <td>CCCEEEEEEEEECCCC</td>\n",
       "      <td>16</td>\n",
       "      <td>[KGS, GSV, SVV, VVI, VIV, IVG, VGR, GRI, RII, ...</td>\n",
       "    </tr>\n",
       "    <tr>\n",
       "      <th>4</th>\n",
       "      <td>1EJH</td>\n",
       "      <td>E</td>\n",
       "      <td>KQYDREFLLDFQFMPA</td>\n",
       "      <td>CCCCHHHHHTTSCCCC</td>\n",
       "      <td>CCCCHHHHHCCCCCCC</td>\n",
       "      <td>16</td>\n",
       "      <td>[KQY, QYD, YDR, DRE, REF, EFL, FLL, LLD, LDF, ...</td>\n",
       "    </tr>\n",
       "  </tbody>\n",
       "</table>\n",
       "</div>"
      ],
      "text/plain": [
       "  pdb_id chain_code               seq              sst8              sst3  \\\n",
       "0   1BXL          B  GQVGRQLAIIGDDINR  CCTTHHHHHHHHHTCC  CCCCHHHHHHHHHCCC   \n",
       "1   1D9K          P  GNSHRGAIEWEGIESG  CCEECCCCCCCCCCCC  CCEECCCCCCCCCCCC   \n",
       "2   1DPU          B  RIQRNKAAALLRLAAR  CCSSHHHHHHHHHHCC  CCCCHHHHHHHHHHCC   \n",
       "3   1DXP          C  KGSVVIVGRIILSGRK  CCCBEEEEEEEECCCC  CCCEEEEEEEEECCCC   \n",
       "4   1EJH          E  KQYDREFLLDFQFMPA  CCCCHHHHHTTSCCCC  CCCCHHHHHCCCCCCC   \n",
       "\n",
       "   len                                              kmers  \n",
       "0   16  [GQV, QVG, VGR, GRQ, RQL, QLA, LAI, AII, IIG, ...  \n",
       "1   16  [GNS, NSH, SHR, HRG, RGA, GAI, AIE, IEW, EWE, ...  \n",
       "2   16  [RIQ, IQR, QRN, RNK, NKA, KAA, AAA, AAL, ALL, ...  \n",
       "3   16  [KGS, GSV, SVV, VVI, VIV, IVG, VGR, GRI, RII, ...  \n",
       "4   16  [KQY, QYD, YDR, DRE, REF, EFL, FLL, LLD, LDF, ...  "
      ]
     },
     "execution_count": 4,
     "metadata": {},
     "output_type": "execute_result"
    }
   ],
   "source": [
    "# Define k-mer function (n-gram)\n",
    "def kmers(seq, k = kmer_size):\n",
    "    return ([seq[i:i + k] for i in range(len(seq) - k + 1)])\n",
    "\n",
    "# Apply the k-mer function to the amino acid sequences\n",
    "df[\"kmers\"] = df[\"seq\"].apply(kmers)\n",
    "\n",
    "# Find the maximum length of the sequences (we know from previously processing our dataset that it is 100)\n",
    "maxlen = max(df[\"len\"])\n",
    "print(\"Maximum Protein Length:\", maxlen)\n",
    "\n",
    "df.head()"
   ]
  },
  {
   "cell_type": "markdown",
   "id": "04b5c656",
   "metadata": {
    "papermill": {
     "duration": 0.011207,
     "end_time": "2023-12-26T14:06:21.582404",
     "exception": false,
     "start_time": "2023-12-26T14:06:21.571197",
     "status": "completed"
    },
    "tags": []
   },
   "source": [
    "### Pre-processing and Padding\n",
    "\n",
    "We use the Tokenizer class to transform our protein sequences and secondary structures into sequences of integers, where each integer is an index of a token in a dictionary. A dictionary is made for our 3-mers, and another dictionary is made for our secondary structures. Padding is performed to make the length of each sequence equal."
   ]
  },
  {
   "cell_type": "code",
   "execution_count": 5,
   "id": "653b2411",
   "metadata": {
    "execution": {
     "iopub.execute_input": "2023-12-26T14:06:21.608597Z",
     "iopub.status.busy": "2023-12-26T14:06:21.607174Z",
     "iopub.status.idle": "2023-12-26T14:06:41.615360Z",
     "shell.execute_reply": "2023-12-26T14:06:41.613546Z"
    },
    "papermill": {
     "duration": 20.025017,
     "end_time": "2023-12-26T14:06:41.618542",
     "exception": false,
     "start_time": "2023-12-26T14:06:21.593525",
     "status": "completed"
    },
    "tags": []
   },
   "outputs": [
    {
     "name": "stdout",
     "output_type": "stream",
     "text": [
      "CPU times: user 13.3 s, sys: 1.72 s, total: 15.1 s\n",
      "Wall time: 20 s\n"
     ]
    },
    {
     "data": {
      "text/plain": [
       "((15272, 100), (15272, 100))"
      ]
     },
     "execution_count": 5,
     "metadata": {},
     "output_type": "execute_result"
    }
   ],
   "source": [
    "%%time\n",
    "\n",
    "# We will use functions from Keras to pre-process our data to be used in the model\n",
    "from tensorflow.keras.preprocessing import sequence\n",
    "from tensorflow.keras.preprocessing.text import Tokenizer\n",
    "\n",
    "# Create Tokenizer class for protein sequences, without making them lowercase\n",
    "tok_x = Tokenizer(lower = False)\n",
    "# Fit Tokenizer on protein sequences (k-mers)\n",
    "tok_x.fit_on_texts(df[\"kmers\"].values)\n",
    "# Convert protein sequences into sequence of integers and pad where necessary\n",
    "X = tok_x.texts_to_sequences(df[\"kmers\"].values)\n",
    "X = sequence.pad_sequences(X, maxlen = maxlen, padding = \"post\")\n",
    "\n",
    "# Create Tokenizer class for secondary sequences, and treat every character (element) as a token\n",
    "tok_y = Tokenizer(char_level = True)\n",
    "# Fit Tokenizer on secondary structures\n",
    "tok_y.fit_on_texts(df[\"sst3\"].values)\n",
    "# Convert secondary structures into sequence of integers and pad where necessary\n",
    "y = tok_y.texts_to_sequences(df[\"sst3\"].values)\n",
    "y = sequence.pad_sequences(y, maxlen = maxlen, padding = \"post\")\n",
    "\n",
    "X.shape, y.shape"
   ]
  },
  {
   "cell_type": "markdown",
   "id": "b4ee8dca",
   "metadata": {
    "papermill": {
     "duration": 0.010734,
     "end_time": "2023-12-26T14:06:41.640841",
     "exception": false,
     "start_time": "2023-12-26T14:06:41.630107",
     "status": "completed"
    },
    "tags": []
   },
   "source": [
    "### Training, Validation and Test Split\n",
    "\n",
    "We split our dataset into training, validation and test sets, where the training set is used to train the model. The validation set is used to choose a sensible model after it has been trained. The test set is used to test the performance of our final candidate model."
   ]
  },
  {
   "cell_type": "code",
   "execution_count": 6,
   "id": "0fb2e707",
   "metadata": {
    "execution": {
     "iopub.execute_input": "2023-12-26T14:06:41.666673Z",
     "iopub.status.busy": "2023-12-26T14:06:41.664960Z",
     "iopub.status.idle": "2023-12-26T14:06:42.944476Z",
     "shell.execute_reply": "2023-12-26T14:06:42.942692Z"
    },
    "papermill": {
     "duration": 1.296218,
     "end_time": "2023-12-26T14:06:42.948203",
     "exception": false,
     "start_time": "2023-12-26T14:06:41.651985",
     "status": "completed"
    },
    "tags": []
   },
   "outputs": [
    {
     "data": {
      "text/plain": [
       "((11454, 100),\n",
       " (11454, 100),\n",
       " (1272, 100),\n",
       " (1272, 100),\n",
       " (2546, 100),\n",
       " (2546, 100))"
      ]
     },
     "execution_count": 6,
     "metadata": {},
     "output_type": "execute_result"
    }
   ],
   "source": [
    "from sklearn.model_selection import train_test_split\n",
    "\n",
    "# Split the data into training, validation and test sets\n",
    "X_train, X_temp, y_train, y_temp = train_test_split(X, y, train_size = 3/4, test_size = 1/4, random_state = randomer)\n",
    "\n",
    "X_val, X_test, y_val, y_test = train_test_split(X_temp, y_temp, train_size = 1/3, test_size = 2/3, random_state = randomer)\n",
    "\n",
    "X_train.shape, y_train.shape, X_val.shape, y_val.shape, X_test.shape, y_test.shape"
   ]
  },
  {
   "cell_type": "code",
   "execution_count": 7,
   "id": "e910042b",
   "metadata": {
    "execution": {
     "iopub.execute_input": "2023-12-26T14:06:42.976183Z",
     "iopub.status.busy": "2023-12-26T14:06:42.975555Z",
     "iopub.status.idle": "2023-12-26T14:06:42.987184Z",
     "shell.execute_reply": "2023-12-26T14:06:42.985620Z"
    },
    "papermill": {
     "duration": 0.029645,
     "end_time": "2023-12-26T14:06:42.990315",
     "exception": false,
     "start_time": "2023-12-26T14:06:42.960670",
     "status": "completed"
    },
    "tags": []
   },
   "outputs": [
    {
     "data": {
      "text/plain": [
       "(array([3272, 2093, 4483,  695,  203, 1554, 2110, 1956, 2856, 3513, 2841,\n",
       "        2369, 1917, 3529, 1159,  110, 1527,  943, 3428, 4868, 4080, 6729,\n",
       "        6249, 6991, 5684, 3603, 2648, 2493, 1682,  621, 1677, 1171, 2116,\n",
       "         692, 1320, 3613, 4117, 4087, 1683, 4427, 2159, 2269, 3387, 2341,\n",
       "        1270,  121,  365,  161, 2364, 2950, 4291, 5756, 4993, 4479, 3168,\n",
       "        3306, 4084, 5154,    0,    0,    0,    0,    0,    0,    0,    0,\n",
       "           0,    0,    0,    0,    0,    0,    0,    0,    0,    0,    0,\n",
       "           0,    0,    0,    0,    0,    0,    0,    0,    0,    0,    0,\n",
       "           0,    0,    0,    0,    0,    0,    0,    0,    0,    0,    0,\n",
       "           0], dtype=int32),\n",
       " array([1, 3, 3, 3, 1, 1, 1, 1, 1, 1, 3, 3, 3, 1, 1, 1, 1, 1, 1, 3, 3, 3,\n",
       "        3, 3, 3, 3, 1, 1, 3, 3, 3, 3, 3, 3, 3, 3, 3, 3, 3, 1, 1, 1, 1, 1,\n",
       "        1, 1, 1, 1, 3, 3, 3, 3, 3, 3, 1, 1, 1, 1, 1, 1, 0, 0, 0, 0, 0, 0,\n",
       "        0, 0, 0, 0, 0, 0, 0, 0, 0, 0, 0, 0, 0, 0, 0, 0, 0, 0, 0, 0, 0, 0,\n",
       "        0, 0, 0, 0, 0, 0, 0, 0, 0, 0, 0, 0], dtype=int32))"
      ]
     },
     "execution_count": 7,
     "metadata": {},
     "output_type": "execute_result"
    }
   ],
   "source": [
    "X_train[0], y_train[0]"
   ]
  },
  {
   "cell_type": "markdown",
   "id": "c9821eb2",
   "metadata": {
    "papermill": {
     "duration": 0.012047,
     "end_time": "2023-12-26T14:06:43.015315",
     "exception": false,
     "start_time": "2023-12-26T14:06:43.003268",
     "status": "completed"
    },
    "tags": []
   },
   "source": [
    "### Oversampling Method\n",
    "\n",
    "In \"Oversampling 1\", we extract protein sequences where class 3 (E) is the majority class in the corresponding secondary structure. This way, we aren't increasing class 1 (C) at a faster rate, which is the majority class in the overall dataset (see 'eda-data-processing.ipynb' in the repository). There are 24 of these based on our threshold, and we append these to X_train and y_train (with variables now called nx_ar and ny_ar respectively) 350 times.\n",
    "\n",
    "In \"Oversampling 2\", we extract protein sequences where class 2 (H) is the majority class in the corresponding secondary structure. There are 42 of these based on our threshold, and we append these 110 times.\n",
    "\n",
    "In \"Oversampling 3\", we extract protein sequences where class 0 (the padding) is sufficiently high. We do this so that class 0 is not heavily less represented in comparison to the other classes. There are 677 of these based on our threshold, and we append these 3 times.\n",
    "\n",
    "We shuffle the resulting dataset as appropriate."
   ]
  },
  {
   "cell_type": "code",
   "execution_count": 8,
   "id": "97dec166",
   "metadata": {
    "execution": {
     "iopub.execute_input": "2023-12-26T14:06:43.045478Z",
     "iopub.status.busy": "2023-12-26T14:06:43.043697Z",
     "iopub.status.idle": "2023-12-26T14:06:43.051315Z",
     "shell.execute_reply": "2023-12-26T14:06:43.049640Z"
    },
    "papermill": {
     "duration": 0.02675,
     "end_time": "2023-12-26T14:06:43.054660",
     "exception": false,
     "start_time": "2023-12-26T14:06:43.027910",
     "status": "completed"
    },
    "tags": []
   },
   "outputs": [],
   "source": [
    "# Duplicate training set\n",
    "nx_ar = X_train\n",
    "ny_ar = y_train"
   ]
  },
  {
   "cell_type": "code",
   "execution_count": 9,
   "id": "04c1f934",
   "metadata": {
    "execution": {
     "iopub.execute_input": "2023-12-26T14:06:43.083791Z",
     "iopub.status.busy": "2023-12-26T14:06:43.082745Z",
     "iopub.status.idle": "2023-12-26T14:07:38.550806Z",
     "shell.execute_reply": "2023-12-26T14:07:38.549413Z"
    },
    "papermill": {
     "duration": 55.498917,
     "end_time": "2023-12-26T14:07:38.566157",
     "exception": false,
     "start_time": "2023-12-26T14:06:43.067240",
     "status": "completed"
    },
    "tags": []
   },
   "outputs": [
    {
     "name": "stdout",
     "output_type": "stream",
     "text": [
      "24\n",
      "(19854, 100) (19854, 100)\n",
      "CPU times: user 36 s, sys: 19.4 s, total: 55.4 s\n",
      "Wall time: 55.5 s\n"
     ]
    }
   ],
   "source": [
    "%%time\n",
    "\n",
    "# Oversampling 1\n",
    "\n",
    "x_o1 = []\n",
    "y_o1 = []\n",
    "\n",
    "for i, y in enumerate(y_train):\n",
    "    if (np.sum(y == 3) / len(y)) >= 0.6:\n",
    "        x_o1.append(X_train[i])\n",
    "        y_o1.append(y)\n",
    "        \n",
    "print(len(x_o1))\n",
    "\n",
    "for i in range(0, 350):\n",
    "    for i, x in enumerate(x_o1):\n",
    "        nx_ar = np.vstack((nx_ar, x))\n",
    "        ny_ar = np.vstack((ny_ar, y_o1[i]))\n",
    "\n",
    "print(nx_ar.shape, ny_ar.shape)"
   ]
  },
  {
   "cell_type": "code",
   "execution_count": 10,
   "id": "848a50a1",
   "metadata": {
    "execution": {
     "iopub.execute_input": "2023-12-26T14:07:38.593601Z",
     "iopub.status.busy": "2023-12-26T14:07:38.592988Z",
     "iopub.status.idle": "2023-12-26T14:08:25.512085Z",
     "shell.execute_reply": "2023-12-26T14:08:25.510308Z"
    },
    "papermill": {
     "duration": 46.949565,
     "end_time": "2023-12-26T14:08:25.527888",
     "exception": false,
     "start_time": "2023-12-26T14:07:38.578323",
     "status": "completed"
    },
    "tags": []
   },
   "outputs": [
    {
     "name": "stdout",
     "output_type": "stream",
     "text": [
      "42\n",
      "(24474, 100) (24474, 100)\n",
      "CPU times: user 24.1 s, sys: 22.7 s, total: 46.9 s\n",
      "Wall time: 46.9 s\n"
     ]
    }
   ],
   "source": [
    "%%time\n",
    "\n",
    "# Oversampling 2\n",
    "\n",
    "x_o2 = []\n",
    "y_o2 = []\n",
    "\n",
    "for i, y in enumerate(y_train):\n",
    "    if (np.sum(y == 2) / len(y)) >= 0.8:\n",
    "        x_o2.append(X_train[i])\n",
    "        y_o2.append(y)\n",
    "\n",
    "print(len(x_o2))\n",
    "\n",
    "for i in range(0, 110):\n",
    "    for i, x in enumerate(x_o2):\n",
    "        nx_ar = np.vstack((nx_ar, x))\n",
    "        ny_ar = np.vstack((ny_ar, y_o2[i]))\n",
    "\n",
    "print(nx_ar.shape, ny_ar.shape)"
   ]
  },
  {
   "cell_type": "code",
   "execution_count": 11,
   "id": "d40f574a",
   "metadata": {
    "execution": {
     "iopub.execute_input": "2023-12-26T14:08:25.555951Z",
     "iopub.status.busy": "2023-12-26T14:08:25.555441Z",
     "iopub.status.idle": "2023-12-26T14:08:49.566643Z",
     "shell.execute_reply": "2023-12-26T14:08:49.564880Z"
    },
    "papermill": {
     "duration": 24.029847,
     "end_time": "2023-12-26T14:08:49.570175",
     "exception": false,
     "start_time": "2023-12-26T14:08:25.540328",
     "status": "completed"
    },
    "tags": []
   },
   "outputs": [
    {
     "name": "stdout",
     "output_type": "stream",
     "text": [
      "677\n",
      "(26505, 100) (26505, 100)\n",
      "CPU times: user 12.6 s, sys: 11.3 s, total: 24 s\n",
      "Wall time: 24 s\n"
     ]
    }
   ],
   "source": [
    "%%time\n",
    "\n",
    "# Oversampling 3\n",
    "\n",
    "x_o3 = []\n",
    "y_o3 = []\n",
    "\n",
    "for i, y in enumerate(y_train):\n",
    "    if (np.sum(y == 0) / len(y)) >= 0.8:\n",
    "        x_o3.append(X_train[i])\n",
    "        y_o3.append(y)\n",
    "\n",
    "print(len(x_o3))\n",
    "\n",
    "for i in range(0, 3):\n",
    "    for i, x in enumerate(x_o3):\n",
    "        nx_ar = np.vstack((nx_ar, x))\n",
    "        ny_ar = np.vstack((ny_ar, y_o3[i]))\n",
    "\n",
    "print(nx_ar.shape, ny_ar.shape)"
   ]
  },
  {
   "cell_type": "code",
   "execution_count": 12,
   "id": "11398888",
   "metadata": {
    "execution": {
     "iopub.execute_input": "2023-12-26T14:08:49.600047Z",
     "iopub.status.busy": "2023-12-26T14:08:49.599102Z",
     "iopub.status.idle": "2023-12-26T14:08:49.626984Z",
     "shell.execute_reply": "2023-12-26T14:08:49.625531Z"
    },
    "papermill": {
     "duration": 0.046549,
     "end_time": "2023-12-26T14:08:49.630363",
     "exception": false,
     "start_time": "2023-12-26T14:08:49.583814",
     "status": "completed"
    },
    "tags": []
   },
   "outputs": [
    {
     "data": {
      "text/plain": [
       "(array([[ 937, 2726, 3010, ...,    0,    0,    0],\n",
       "        [5611, 1463,  625, ...,    0,    0,    0],\n",
       "        [3720, 2259, 1591, ...,    0,    0,    0],\n",
       "        ...,\n",
       "        [ 731,    3, 1281, ...,    0,    0,    0],\n",
       "        [1021, 2009, 4556, ...,    0,    0,    0],\n",
       "        [ 817, 1738, 1553, ...,    0,    0,    0]], dtype=int32),\n",
       " array([[1, 1, 1, ..., 0, 0, 0],\n",
       "        [1, 3, 3, ..., 0, 0, 0],\n",
       "        [1, 1, 1, ..., 0, 0, 0],\n",
       "        ...,\n",
       "        [1, 1, 1, ..., 0, 0, 0],\n",
       "        [1, 1, 1, ..., 0, 0, 0],\n",
       "        [1, 1, 1, ..., 0, 0, 0]], dtype=int32))"
      ]
     },
     "execution_count": 12,
     "metadata": {},
     "output_type": "execute_result"
    }
   ],
   "source": [
    "# Repeat seed (if needed)\n",
    "np.random.seed(randomer)\n",
    "\n",
    "# Generate random indices (we want to shuffle our training set)\n",
    "indices = np.random.permutation(len(nx_ar))\n",
    "\n",
    "# Shuffle both arrays using the same indices\n",
    "X_train_new = nx_ar[indices]\n",
    "y_train_new = ny_ar[indices]\n",
    "\n",
    "X_train_new, y_train_new"
   ]
  },
  {
   "cell_type": "code",
   "execution_count": 13,
   "id": "da66798f",
   "metadata": {
    "execution": {
     "iopub.execute_input": "2023-12-26T14:08:49.658973Z",
     "iopub.status.busy": "2023-12-26T14:08:49.658505Z",
     "iopub.status.idle": "2023-12-26T14:08:55.373581Z",
     "shell.execute_reply": "2023-12-26T14:08:55.371887Z"
    },
    "papermill": {
     "duration": 5.733171,
     "end_time": "2023-12-26T14:08:55.377102",
     "exception": false,
     "start_time": "2023-12-26T14:08:49.643931",
     "status": "completed"
    },
    "tags": []
   },
   "outputs": [
    {
     "name": "stdout",
     "output_type": "stream",
     "text": [
      "Without Oversampling:\n",
      "Number in Class 0 : 408388 , 35.65461847389558 %\n",
      "Number in Class 1 : 366060 , 31.959140911471973 %\n",
      "Number in Class 2 : 239124 , 20.876898899947616 %\n",
      "Number in Class 3 : 131828 , 11.509341714684826 %\n",
      "\n",
      "With Oversampling:\n",
      "Number in Class 0 : 649924 , 24.520807394831163 %\n",
      "Number in Class 1 : 705695 , 26.624976419543483 %\n",
      "Number in Class 2 : 645468 , 24.35268817204301 %\n",
      "Number in Class 3 : 649413 , 24.501528013582345 %\n"
     ]
    }
   ],
   "source": [
    "from sklearn.metrics import classification_report\n",
    "\n",
    "# Simple way to find out how many instances there are of each class\n",
    "report1 = classification_report(y_train.flatten(), y_train.flatten(), output_dict = True)\n",
    "report2 = classification_report(y_train_new.flatten(), y_train_new.flatten(), output_dict = True)\n",
    "\n",
    "print(\"Without Oversampling:\")\n",
    "for i in [\"0\",\"1\",\"2\",\"3\"]:\n",
    "    print(\"Number in Class\", i, \":\", report1[i][\"support\"], \",\", report1[i][\"support\"] * 100 / report1[\"weighted avg\"][\"support\"], \"%\")\n",
    "    \n",
    "print(\"\\nWith Oversampling:\")\n",
    "for i in [\"0\",\"1\",\"2\",\"3\"]:\n",
    "    print(\"Number in Class\", i, \":\", report2[i][\"support\"], \",\", report2[i][\"support\"] * 100 / report2[\"weighted avg\"][\"support\"], \"%\")"
   ]
  },
  {
   "cell_type": "code",
   "execution_count": 14,
   "id": "c8184553",
   "metadata": {
    "execution": {
     "iopub.execute_input": "2023-12-26T14:08:55.407234Z",
     "iopub.status.busy": "2023-12-26T14:08:55.406728Z",
     "iopub.status.idle": "2023-12-26T14:08:55.416935Z",
     "shell.execute_reply": "2023-12-26T14:08:55.415099Z"
    },
    "papermill": {
     "duration": 0.028708,
     "end_time": "2023-12-26T14:08:55.419703",
     "exception": false,
     "start_time": "2023-12-26T14:08:55.390995",
     "status": "completed"
    },
    "tags": []
   },
   "outputs": [],
   "source": [
    "from collections import defaultdict\n",
    "\n",
    "# Function to visualise distribution of SST-3/SST-8 (taken from EDA workbook, adapted to arrays)\n",
    "def sst_visualise(array, ss_types, labels, ss_colours, title):\n",
    "    ss_counts = defaultdict(lambda: 0)\n",
    "\n",
    "    for row in array:\n",
    "        for element in row:\n",
    "            ss_counts[element] += 1\n",
    "\n",
    "    plt.bar(range(len(ss_types)), height = [ss_counts[ss] for ss in ss_types], tick_label = labels, edgecolor = \"black\", width = 0.75, zorder = 3, color = ss_colours)\n",
    "    plt.title(title)\n",
    "    plt.xlabel(\"Element\")\n",
    "    plt.ylabel(\"Frequency\")\n",
    "    plt.show()"
   ]
  },
  {
   "cell_type": "code",
   "execution_count": 15,
   "id": "2cdf5e60",
   "metadata": {
    "execution": {
     "iopub.execute_input": "2023-12-26T14:08:55.449392Z",
     "iopub.status.busy": "2023-12-26T14:08:55.448843Z",
     "iopub.status.idle": "2023-12-26T14:08:57.598670Z",
     "shell.execute_reply": "2023-12-26T14:08:57.596198Z"
    },
    "papermill": {
     "duration": 2.168602,
     "end_time": "2023-12-26T14:08:57.601906",
     "exception": false,
     "start_time": "2023-12-26T14:08:55.433304",
     "status": "completed"
    },
    "tags": []
   },
   "outputs": [
    {
     "data": {
      "image/png": "[encoded data removed]",
      "text/plain": [
       "<Figure size 640x480 with 1 Axes>"
      ]
     },
     "metadata": {},
     "output_type": "display_data"
    },
    {
     "data": {
      "image/png": "[encoded data removed]",
      "text/plain": [
       "<Figure size 640x480 with 1 Axes>"
      ]
     },
     "metadata": {},
     "output_type": "display_data"
    }
   ],
   "source": [
    "# Define elements for SST-3 and SST-8, and custom colours\n",
    "ss_types = list(set(np.ravel(y_train)))\n",
    "labels = [\"Padding\", \"C\", \"H\", \"E\"]\n",
    "ss_colours = [\"grey\", \"purple\", \"orange\", \"black\"]\n",
    "\n",
    "# Plot for training set distribution before oversampling\n",
    "sst_visualise(y_train, ss_types, labels, ss_colours, \"Secondary Structure Distribution (Training; Without Oversampling)\")\n",
    "\n",
    "# Plot for training set distribution after oversampling\n",
    "sst_visualise(y_train_new, ss_types, labels, ss_colours, \"Secondary Structure Distribution (Training; With Oversampling)\")"
   ]
  },
  {
   "cell_type": "markdown",
   "id": "1198182d",
   "metadata": {
    "papermill": {
     "duration": 0.014655,
     "end_time": "2023-12-26T14:08:57.632424",
     "exception": false,
     "start_time": "2023-12-26T14:08:57.617769",
     "status": "completed"
    },
    "tags": []
   },
   "source": [
    "### Import Classifier and Define Q3 Accuracy Metric\n",
    "\n",
    "We are interested in using random forests for multi-output classification, so we import the relevant functions from scikit-learn. Q3 accuracy is an important metric for assessing the accuracy of our models, as it excludes the padding class in its calculations (it is otherwise equivalent to 'accuracy_score' from scikit-learn)."
   ]
  },
  {
   "cell_type": "code",
   "execution_count": 16,
   "id": "c9d61ef7",
   "metadata": {
    "execution": {
     "iopub.execute_input": "2023-12-26T14:08:57.665611Z",
     "iopub.status.busy": "2023-12-26T14:08:57.665047Z",
     "iopub.status.idle": "2023-12-26T14:08:58.042930Z",
     "shell.execute_reply": "2023-12-26T14:08:58.041463Z"
    },
    "papermill": {
     "duration": 0.398945,
     "end_time": "2023-12-26T14:08:58.046507",
     "exception": false,
     "start_time": "2023-12-26T14:08:57.647562",
     "status": "completed"
    },
    "tags": []
   },
   "outputs": [],
   "source": [
    "# Import MultiOutputClassifier and RandomForestClassifier\n",
    "from sklearn.multioutput import MultiOutputClassifier\n",
    "from sklearn.ensemble import RandomForestClassifier\n",
    "\n",
    "# Create Q3 function using NumPy (accuracy of those other than zero, which is the padding)\n",
    "def q3_acc_numpy(y_true, y_pred):\n",
    "    mask = y_true > 0\n",
    "    q3 = np.equal(np.extract(mask, y_true), np.extract(mask, y_pred)).astype(float)\n",
    "    return np.sum(q3) / q3.shape[0]"
   ]
  },
  {
   "cell_type": "markdown",
   "id": "e36ca98d",
   "metadata": {
    "papermill": {
     "duration": 0.014,
     "end_time": "2023-12-26T14:08:58.075281",
     "exception": false,
     "start_time": "2023-12-26T14:08:58.061281",
     "status": "completed"
    },
    "tags": []
   },
   "source": [
    "### Investigate Suitable Number of Trees\n",
    "\n",
    "We want to maximise the Q3 accuracy. It is difficult to test large numbers of trees, whilst trying to minimise the computational expense. A sensible range for the number of trees is chosen as [1, 60].\n",
    "\n",
    "We test the performance of the Gini criterion here, with the Entropy criterion verified in another notebook found in the Github repository."
   ]
  },
  {
   "cell_type": "markdown",
   "id": "24e0a275",
   "metadata": {
    "papermill": {
     "duration": 0.013881,
     "end_time": "2023-12-26T14:08:58.103800",
     "exception": false,
     "start_time": "2023-12-26T14:08:58.089919",
     "status": "completed"
    },
    "tags": []
   },
   "source": [
    "#### With Oversampling"
   ]
  },
  {
   "cell_type": "code",
   "execution_count": 17,
   "id": "0adbd4ac",
   "metadata": {
    "execution": {
     "iopub.execute_input": "2023-12-26T14:08:58.241535Z",
     "iopub.status.busy": "2023-12-26T14:08:58.241012Z",
     "iopub.status.idle": "2023-12-26T20:39:45.976694Z",
     "shell.execute_reply": "2023-12-26T20:39:45.975290Z"
    },
    "papermill": {
     "duration": 23447.758493,
     "end_time": "2023-12-26T20:39:45.981011",
     "exception": false,
     "start_time": "2023-12-26T14:08:58.222518",
     "status": "completed"
    },
    "tags": []
   },
   "outputs": [
    {
     "name": "stdout",
     "output_type": "stream",
     "text": [
      "[0.5239143264643683, 0.5577509467368318, 0.5734520238036689, 0.5806939458023902, 0.5968991294939261, 0.5993335956327153, 0.6038459646879457, 0.6101411498549156, 0.6136207150936901, 0.6162396104854178, 0.6205675502877096, 0.6227069296217971, 0.6239733438253086, 0.6260512467417498, 0.6284365317464221, 0.629518516696995, 0.6313382186593223, 0.6326046328628339, 0.632309546058132, 0.6342276102886932, 0.6347686027639797, 0.6364530566074854, 0.6376088132592338, 0.6377440613780554, 0.6390473614321546, 0.6400924605321399, 0.6408055869768357, 0.6408055869768357, 0.6418260955097624, 0.6418506860768209, 0.6425023361038705, 0.6434982540697388, 0.6442728569320808, 0.6456253381202971, 0.6461048541779374, 0.6466581419367531, 0.6470884768602764, 0.6471007721438057, 0.6468179806226332, 0.6471376579943934, 0.6470392957261595, 0.6471622485614519, 0.6479614419908523, 0.6488958835390745, 0.6482196429449663, 0.6488835882555452, 0.6485147297496681, 0.6488467024049575, 0.648613092017902, 0.6487852259873113, 0.649498352432007, 0.6494737618649487, 0.6492770373284807, 0.6488467024049575, 0.6501500024590567, 0.6496090099837702, 0.6504819751143461, 0.6504819751143461, 0.6513303496778635, 0.6518836374366793]\n"
     ]
    },
    {
     "data": {
      "image/png": "[encoded data removed]",
      "text/plain": [
       "<Figure size 640x480 with 1 Axes>"
      ]
     },
     "metadata": {},
     "output_type": "display_data"
    },
    {
     "name": "stdout",
     "output_type": "stream",
     "text": [
      "CPU times: user 6h 29min 53s, sys: 17.8 s, total: 6h 30min 11s\n",
      "Wall time: 6h 30min 47s\n"
     ]
    }
   ],
   "source": [
    "%%time\n",
    "\n",
    "# With Oversampling\n",
    "\n",
    "criteria = [\"gini\"]\n",
    "\n",
    "# Loop over the two criteria\n",
    "for criterion_ in criteria:\n",
    "    accuracy_data = []\n",
    "    nums = []\n",
    "    \n",
    "    # Loop over every number of trees\n",
    "    for i in range(1, 61):\n",
    "        # Define model\n",
    "        rf_model = MultiOutputClassifier(RandomForestClassifier(n_estimators = i, criterion = criterion_, random_state = randomer))\n",
    "        # Fit training set to model\n",
    "        rf_model.fit(X_train_new, y_train_new)\n",
    "        # Use model to predict the validation set classes (elements)\n",
    "        y_pred = rf_model.predict(X_val)\n",
    "        # Calculate Q3 accuracy of prediction and append to 'accuracy_data'\n",
    "        accuracy = q3_acc_numpy(y_val.flatten(), y_pred.flatten())\n",
    "        accuracy_data.append(accuracy)\n",
    "        nums.append(i)\n",
    "    \n",
    "    print(accuracy_data)\n",
    "    \n",
    "    plt.plot(nums, accuracy_data, label = criterion_)\n",
    "    \n",
    "plt.title(\"Accuracy Based on Number of Trees (With Oversampling)\")\n",
    "plt.xlabel(\"Number of Trees (n_estimators)\")\n",
    "plt.ylabel(\"Q3 Accuracy\")\n",
    "plt.legend()\n",
    "plt.savefig(\"oversamp_rf.pdf\")\n",
    "plt.show()"
   ]
  },
  {
   "cell_type": "markdown",
   "id": "ba17a725",
   "metadata": {
    "papermill": {
     "duration": 0.015032,
     "end_time": "2023-12-26T20:39:46.011324",
     "exception": false,
     "start_time": "2023-12-26T20:39:45.996292",
     "status": "completed"
    },
    "tags": []
   },
   "source": [
    "### Set Hyperparameters"
   ]
  },
  {
   "cell_type": "code",
   "execution_count": 18,
   "id": "6b0ac886",
   "metadata": {
    "execution": {
     "iopub.execute_input": "2023-12-26T20:39:46.048404Z",
     "iopub.status.busy": "2023-12-26T20:39:46.046900Z",
     "iopub.status.idle": "2023-12-26T20:39:46.053736Z",
     "shell.execute_reply": "2023-12-26T20:39:46.052268Z"
    },
    "papermill": {
     "duration": 0.026472,
     "end_time": "2023-12-26T20:39:46.056029",
     "exception": false,
     "start_time": "2023-12-26T20:39:46.029557",
     "status": "completed"
    },
    "tags": []
   },
   "outputs": [],
   "source": [
    "# Number of trees, criterion to measure split quality\n",
    "\n",
    "num_estimators = 60\n",
    "crit_ = \"gini\""
   ]
  },
  {
   "cell_type": "markdown",
   "id": "c76b3334",
   "metadata": {
    "papermill": {
     "duration": 0.015064,
     "end_time": "2023-12-26T20:39:46.086844",
     "exception": false,
     "start_time": "2023-12-26T20:39:46.071780",
     "status": "completed"
    },
    "tags": []
   },
   "source": [
    "### $k$-Fold Cross-Validation (Oversampled Data)\n",
    "\n",
    "We perform $k$-fold cross-validation on our oversampled data to determine if the accuracy is approximately equal for different subsets of the data."
   ]
  },
  {
   "cell_type": "code",
   "execution_count": 19,
   "id": "5efb7eec",
   "metadata": {
    "execution": {
     "iopub.execute_input": "2023-12-26T20:39:46.120002Z",
     "iopub.status.busy": "2023-12-26T20:39:46.119548Z",
     "iopub.status.idle": "2023-12-26T21:28:03.356054Z",
     "shell.execute_reply": "2023-12-26T21:28:03.354422Z"
    },
    "papermill": {
     "duration": 2897.274023,
     "end_time": "2023-12-26T21:28:03.376209",
     "exception": false,
     "start_time": "2023-12-26T20:39:46.102186",
     "status": "completed"
    },
    "tags": []
   },
   "outputs": [
    {
     "name": "stdout",
     "output_type": "stream",
     "text": [
      "Fold #1, Training Size: 21204, Validation Size: 5301\n",
      "Q3 Accuracy: 0.8716\n",
      "Fold #2, Training Size: 21204, Validation Size: 5301\n",
      "Q3 Accuracy: 0.8725\n",
      "Fold #3, Training Size: 21204, Validation Size: 5301\n",
      "Q3 Accuracy: 0.8748\n",
      "Fold #4, Training Size: 21204, Validation Size: 5301\n",
      "Q3 Accuracy: 0.8719\n",
      "Fold #5, Training Size: 21204, Validation Size: 5301\n",
      "Q3 Accuracy: 0.8718\n",
      "CPU times: user 48min 13s, sys: 2.43 s, total: 48min 15s\n",
      "Wall time: 48min 17s\n"
     ]
    }
   ],
   "source": [
    "%%time\n",
    "\n",
    "# k-Fold Cross-Validation\n",
    "\n",
    "from sklearn.model_selection import KFold\n",
    "\n",
    "# Define model based on hyperparameters\n",
    "\n",
    "rf_model = MultiOutputClassifier(RandomForestClassifier(n_estimators = num_estimators, criterion = crit_, random_state = randomer))\n",
    "\n",
    "# Define 5-fold class\n",
    "\n",
    "kf = KFold(n_splits = 5, shuffle = True, random_state = randomer)\n",
    "fold = 1\n",
    "\n",
    "# Start 5-fold CV, using oversampled data\n",
    "\n",
    "for train_i, validate_i in kf.split(X_train_new, y_train_new):\n",
    "    # Fit training subset to model\n",
    "    rf_model.fit(X_train_new[train_i], y_train_new[train_i])\n",
    "    # Define validation subset\n",
    "    y_tester = y_train_new[validate_i]\n",
    "    # Use model to predict validation subset\n",
    "    y_preder = rf_model.predict(X_train_new[validate_i])\n",
    "    # Output fold number and relevant statistics, including accuracy\n",
    "    print(f\"Fold #{fold}, Training Size: {len(X_train_new[train_i])}, Validation Size: {len(X_train_new[validate_i])}\")\n",
    "    print(f\"Q3 Accuracy: {round(q3_acc_numpy(y_tester.flatten(), y_preder.flatten()), 4)}\")\n",
    "    # Move to next fold\n",
    "    fold += 1"
   ]
  },
  {
   "cell_type": "markdown",
   "id": "7252a155",
   "metadata": {
    "papermill": {
     "duration": 0.016611,
     "end_time": "2023-12-26T21:28:03.409729",
     "exception": false,
     "start_time": "2023-12-26T21:28:03.393118",
     "status": "completed"
    },
    "tags": []
   },
   "source": [
    "### Results of Chosen Model (With Oversampling)\n",
    "\n",
    "We train our final chosen model and test it on our test set. We also compare the results between training on the oversampled data against training on the original data."
   ]
  },
  {
   "cell_type": "code",
   "execution_count": 20,
   "id": "dca8389b",
   "metadata": {
    "execution": {
     "iopub.execute_input": "2023-12-26T21:28:03.446204Z",
     "iopub.status.busy": "2023-12-26T21:28:03.445641Z",
     "iopub.status.idle": "2023-12-26T21:40:27.425088Z",
     "shell.execute_reply": "2023-12-26T21:40:27.423714Z"
    },
    "papermill": {
     "duration": 744.018262,
     "end_time": "2023-12-26T21:40:27.445401",
     "exception": false,
     "start_time": "2023-12-26T21:28:03.427139",
     "status": "completed"
    },
    "tags": []
   },
   "outputs": [
    {
     "name": "stdout",
     "output_type": "stream",
     "text": [
      "CPU times: user 12min 23s, sys: 611 ms, total: 12min 23s\n",
      "Wall time: 12min 23s\n"
     ]
    }
   ],
   "source": [
    "%%time\n",
    "\n",
    "# We determine that the following is a suitable model based on the above (with oversampling), using hyperparameters\n",
    "\n",
    "# Oversampled Data Model\n",
    "\n",
    "rf_model2 = MultiOutputClassifier(RandomForestClassifier(n_estimators = num_estimators, criterion = crit_, random_state = randomer))\n",
    "rf_model2.fit(X_train_new, y_train_new)\n",
    "y_pred2 = rf_model2.predict(X_test)"
   ]
  },
  {
   "cell_type": "code",
   "execution_count": 21,
   "id": "bdd0bbd0",
   "metadata": {
    "execution": {
     "iopub.execute_input": "2023-12-26T21:40:27.482433Z",
     "iopub.status.busy": "2023-12-26T21:40:27.481042Z",
     "iopub.status.idle": "2023-12-26T21:40:28.361952Z",
     "shell.execute_reply": "2023-12-26T21:40:28.360407Z"
    },
    "papermill": {
     "duration": 0.902179,
     "end_time": "2023-12-26T21:40:28.364588",
     "exception": false,
     "start_time": "2023-12-26T21:40:27.462409",
     "status": "completed"
    },
    "tags": []
   },
   "outputs": [
    {
     "name": "stdout",
     "output_type": "stream",
     "text": [
      "===== With Oversampling =====\n",
      "\n",
      "Default Accuracy: 0.7734406912804399\n",
      "Q3 Accuracy: 0.6471142434142104\n",
      "\n",
      "               precision    recall  f1-score   support\n",
      "\n",
      "     Padding   0.999770  1.000000  0.999885     91142\n",
      "           C   0.632055  0.827065  0.716528     80377\n",
      "           H   0.632241  0.556674  0.592056     53940\n",
      "           E   0.861070  0.318177  0.464657     29141\n",
      "\n",
      "    accuracy                       0.773441    254600\n",
      "   macro avg   0.781284  0.675479  0.693282    254600\n",
      "weighted avg   0.789942  0.773441  0.762765    254600\n",
      "\n"
     ]
    },
    {
     "data": {
      "image/png": "[encoded data removed]",
      "text/plain": [
       "<Figure size 640x480 with 2 Axes>"
      ]
     },
     "metadata": {},
     "output_type": "display_data"
    }
   ],
   "source": [
    "# Class labels as a dictionary, {0: \"Padding\", 1: \"C\", 2: \"H\", 3: \"E\"}\n",
    "\n",
    "from sklearn.metrics import accuracy_score, confusion_matrix, ConfusionMatrixDisplay\n",
    "\n",
    "print(\"===== With Oversampling =====\\n\")\n",
    "\n",
    "# Output useful metrics\n",
    "\n",
    "print(f\"Default Accuracy: {accuracy_score(y_test.flatten(), y_pred2.flatten())}\")\n",
    "print(f\"Q3 Accuracy: {q3_acc_numpy(y_test.flatten(), y_pred2.flatten())}\")\n",
    "print(\"\\n\", classification_report(y_test.flatten(), y_pred2.flatten(), target_names = [\"Padding\", \"C\", \"H\", \"E\"], digits = 6))\n",
    "\n",
    "# Create and display confusion matrix\n",
    "\n",
    "cm2 = confusion_matrix(y_test.flatten(), y_pred2.flatten())\n",
    "disp2 = ConfusionMatrixDisplay(confusion_matrix = cm2, display_labels = [\"Padding\", \"C\", \"H\", \"E\"])\n",
    "disp2.plot()\n",
    "disp2.figure_.savefig(\"disp2.pdf\")\n",
    "plt.show()"
   ]
  },
  {
   "cell_type": "code",
   "execution_count": null,
   "id": "445675ba",
   "metadata": {
    "papermill": {
     "duration": 0.017221,
     "end_time": "2023-12-26T21:40:28.398892",
     "exception": false,
     "start_time": "2023-12-26T21:40:28.381671",
     "status": "completed"
    },
    "tags": []
   },
   "outputs": [],
   "source": []
  }
 ],
 "metadata": {
  "kaggle": {
   "accelerator": "none",
   "dataSources": [
    {
     "datasetId": 4220194,
     "sourceId": 7278765,
     "sourceType": "datasetVersion"
    },
    {
     "datasetId": 4213466,
     "sourceId": 7268634,
     "sourceType": "datasetVersion"
    }
   ],
   "dockerImageVersionId": 30626,
   "isGpuEnabled": false,
   "isInternetEnabled": true,
   "language": "python",
   "sourceType": "notebook"
  },
  "kernelspec": {
   "display_name": "Python 3 (ipykernel)",
   "language": "python",
   "name": "python3"
  },
  "language_info": {
   "codemirror_mode": {
    "name": "ipython",
    "version": 3
   },
   "file_extension": ".py",
   "mimetype": "text/x-python",
   "name": "python",
   "nbconvert_exporter": "python",
   "pygments_lexer": "ipython3",
   "version": "3.10.13"
  },
  "papermill": {
   "default_parameters": {},
   "duration": 27258.091606,
   "end_time": "2023-12-26T21:40:31.963056",
   "environment_variables": {},
   "exception": null,
   "input_path": "__notebook__.ipynb",
   "output_path": "__notebook__.ipynb",
   "parameters": {},
   "start_time": "2023-12-26T14:06:13.871450",
   "version": "2.4.0"
  }
 },
 "nbformat": 4,
 "nbformat_minor": 5
}

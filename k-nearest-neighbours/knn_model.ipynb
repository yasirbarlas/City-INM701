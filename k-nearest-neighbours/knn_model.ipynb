{
 "cells": [
  {
   "cell_type": "markdown",
   "id": "5404b260",
   "metadata": {},
   "source": [
    "# INM701: $k$-Nearest Neighbours\n",
    "\n",
    "We use scikit-learn to train and test a $k$-nearest neighbours model on a dataset of proteins and their secondary structures.\n",
    "\n",
    "The work presented here is part of the coursework of the INM701 module at City, University of London. The Github repository can be found [here](https://github.com/yasirbarlas/City-INM701)."
   ]
  },
  {
   "cell_type": "markdown",
   "id": "03b1ef3d",
   "metadata": {},
   "source": [
    "### Import Libraries"
   ]
  },
  {
   "cell_type": "code",
   "execution_count": 1,
   "id": "2fb3a530",
   "metadata": {
    "execution": {
     "iopub.execute_input": "2023-12-24T12:12:05.522494Z",
     "iopub.status.busy": "2023-12-24T12:12:05.522141Z",
     "iopub.status.idle": "2023-12-24T12:12:05.854355Z",
     "shell.execute_reply": "2023-12-24T12:12:05.853052Z",
     "shell.execute_reply.started": "2023-12-24T12:12:05.522440Z"
    }
   },
   "outputs": [],
   "source": [
    "# Import Relevant Libraries\n",
    "import os\n",
    "import numpy as np\n",
    "import pandas as pd\n",
    "import random\n",
    "import matplotlib.pyplot as plt\n",
    "\n",
    "# Ignore warnings (making the work easier to read)\n",
    "import warnings\n",
    "warnings.filterwarnings(\"ignore\")"
   ]
  },
  {
   "cell_type": "markdown",
   "id": "3320a681",
   "metadata": {},
   "source": [
    "### Import Dataset\n",
    "\n",
    "Refer to the 'eda-data-processing.ipynb' workbook for more detail on how this dataset was created."
   ]
  },
  {
   "cell_type": "code",
   "execution_count": 2,
   "id": "fec2f8e4",
   "metadata": {
    "execution": {
     "iopub.execute_input": "2023-12-24T12:12:05.856967Z",
     "iopub.status.busy": "2023-12-24T12:12:05.856542Z",
     "iopub.status.idle": "2023-12-24T12:12:05.986993Z",
     "shell.execute_reply": "2023-12-24T12:12:05.986053Z",
     "shell.execute_reply.started": "2023-12-24T12:12:05.856937Z"
    }
   },
   "outputs": [
    {
     "data": {
      "text/html": [
       "<div>\n",
       "<style scoped>\n",
       "    .dataframe tbody tr th:only-of-type {\n",
       "        vertical-align: middle;\n",
       "    }\n",
       "\n",
       "    .dataframe tbody tr th {\n",
       "        vertical-align: top;\n",
       "    }\n",
       "\n",
       "    .dataframe thead th {\n",
       "        text-align: right;\n",
       "    }\n",
       "</style>\n",
       "<table border=\"1\" class=\"dataframe\">\n",
       "  <thead>\n",
       "    <tr style=\"text-align: right;\">\n",
       "      <th></th>\n",
       "      <th>pdb_id</th>\n",
       "      <th>chain_code</th>\n",
       "      <th>seq</th>\n",
       "      <th>sst8</th>\n",
       "      <th>sst3</th>\n",
       "      <th>len</th>\n",
       "    </tr>\n",
       "  </thead>\n",
       "  <tbody>\n",
       "    <tr>\n",
       "      <th>0</th>\n",
       "      <td>1BXL</td>\n",
       "      <td>B</td>\n",
       "      <td>GQVGRQLAIIGDDINR</td>\n",
       "      <td>CCTTHHHHHHHHHTCC</td>\n",
       "      <td>CCCCHHHHHHHHHCCC</td>\n",
       "      <td>16</td>\n",
       "    </tr>\n",
       "    <tr>\n",
       "      <th>1</th>\n",
       "      <td>1D9K</td>\n",
       "      <td>P</td>\n",
       "      <td>GNSHRGAIEWEGIESG</td>\n",
       "      <td>CCEECCCCCCCCCCCC</td>\n",
       "      <td>CCEECCCCCCCCCCCC</td>\n",
       "      <td>16</td>\n",
       "    </tr>\n",
       "    <tr>\n",
       "      <th>2</th>\n",
       "      <td>1DPU</td>\n",
       "      <td>B</td>\n",
       "      <td>RIQRNKAAALLRLAAR</td>\n",
       "      <td>CCSSHHHHHHHHHHCC</td>\n",
       "      <td>CCCCHHHHHHHHHHCC</td>\n",
       "      <td>16</td>\n",
       "    </tr>\n",
       "    <tr>\n",
       "      <th>3</th>\n",
       "      <td>1DXP</td>\n",
       "      <td>C</td>\n",
       "      <td>KGSVVIVGRIILSGRK</td>\n",
       "      <td>CCCBEEEEEEEECCCC</td>\n",
       "      <td>CCCEEEEEEEEECCCC</td>\n",
       "      <td>16</td>\n",
       "    </tr>\n",
       "    <tr>\n",
       "      <th>4</th>\n",
       "      <td>1EJH</td>\n",
       "      <td>E</td>\n",
       "      <td>KQYDREFLLDFQFMPA</td>\n",
       "      <td>CCCCHHHHHTTSCCCC</td>\n",
       "      <td>CCCCHHHHHCCCCCCC</td>\n",
       "      <td>16</td>\n",
       "    </tr>\n",
       "    <tr>\n",
       "      <th>...</th>\n",
       "      <td>...</td>\n",
       "      <td>...</td>\n",
       "      <td>...</td>\n",
       "      <td>...</td>\n",
       "      <td>...</td>\n",
       "      <td>...</td>\n",
       "    </tr>\n",
       "    <tr>\n",
       "      <th>15267</th>\n",
       "      <td>6UUJ</td>\n",
       "      <td>A</td>\n",
       "      <td>GAMVPEGLAAASAAVEALTARLAAAHASAAPVITAVVPPAADPVSL...</td>\n",
       "      <td>CCCCCSTTHHHHHHHHHHHHHHHHHHHHSHHHHHSCCCSSSSHHHH...</td>\n",
       "      <td>CCCCCCCCHHHHHHHHHHHHHHHHHHHHCHHHHHCCCCCCCCHHHH...</td>\n",
       "      <td>100</td>\n",
       "    </tr>\n",
       "    <tr>\n",
       "      <th>15268</th>\n",
       "      <td>6V7M</td>\n",
       "      <td>A</td>\n",
       "      <td>MKVLWAALLVTFLAGCQAKVEQAVETEPEPELRQQTEWQSGQRWEL...</td>\n",
       "      <td>CCCCCCCCCCCCCCCCCCCCCCCCCCCCCCCCCCCCCCCCCCHHHH...</td>\n",
       "      <td>CCCCCCCCCCCCCCCCCCCCCCCCCCCCCCCCCCCCCCCCCCHHHH...</td>\n",
       "      <td>100</td>\n",
       "    </tr>\n",
       "    <tr>\n",
       "      <th>15269</th>\n",
       "      <td>6VQX</td>\n",
       "      <td>A</td>\n",
       "      <td>MKVPAFFAANILTIEQIIEAINNDGSAMTSAPEIAGYYAWDAATDA...</td>\n",
       "      <td>CCCCSSTTSSCCCHHHHHHHHHTTSCTTSCHHHHHHHHHHHHHHHS...</td>\n",
       "      <td>CCCCCCCCCCCCCHHHHHHHHHCCCCCCCCHHHHHHHHHHHHHHHC...</td>\n",
       "      <td>100</td>\n",
       "    </tr>\n",
       "    <tr>\n",
       "      <th>15270</th>\n",
       "      <td>6XVF</td>\n",
       "      <td>F</td>\n",
       "      <td>RWLEGIRKWYYNAAGFNKLGLMRDDTIHENDDVKEAIRRLPENLYN...</td>\n",
       "      <td>CCTHHHHHHHHHHHCGGGGTCCGGGSBCCCHHHHHHHHTSCHHHHH...</td>\n",
       "      <td>CCCHHHHHHHHHHHCHHHHCCCHHHCECCCHHHHHHHHCCCHHHHH...</td>\n",
       "      <td>100</td>\n",
       "    </tr>\n",
       "    <tr>\n",
       "      <th>15271</th>\n",
       "      <td>6YIE</td>\n",
       "      <td>B</td>\n",
       "      <td>VAKTNSLRRRKLASFLKDFDREVEIRIKQIESDRQNLLKEVDNLYN...</td>\n",
       "      <td>CCCCCCHHHHHHHHHHHHHHHHHHHHHHHHHHHHHHHHHHHHHHHH...</td>\n",
       "      <td>CCCCCCHHHHHHHHHHHHHHHHHHHHHHHHHHHHHHHHHHHHHHHH...</td>\n",
       "      <td>100</td>\n",
       "    </tr>\n",
       "  </tbody>\n",
       "</table>\n",
       "<p>15272 rows × 6 columns</p>\n",
       "</div>"
      ],
      "text/plain": [
       "      pdb_id chain_code                                                seq  \\\n",
       "0       1BXL          B                                   GQVGRQLAIIGDDINR   \n",
       "1       1D9K          P                                   GNSHRGAIEWEGIESG   \n",
       "2       1DPU          B                                   RIQRNKAAALLRLAAR   \n",
       "3       1DXP          C                                   KGSVVIVGRIILSGRK   \n",
       "4       1EJH          E                                   KQYDREFLLDFQFMPA   \n",
       "...      ...        ...                                                ...   \n",
       "15267   6UUJ          A  GAMVPEGLAAASAAVEALTARLAAAHASAAPVITAVVPPAADPVSL...   \n",
       "15268   6V7M          A  MKVLWAALLVTFLAGCQAKVEQAVETEPEPELRQQTEWQSGQRWEL...   \n",
       "15269   6VQX          A  MKVPAFFAANILTIEQIIEAINNDGSAMTSAPEIAGYYAWDAATDA...   \n",
       "15270   6XVF          F  RWLEGIRKWYYNAAGFNKLGLMRDDTIHENDDVKEAIRRLPENLYN...   \n",
       "15271   6YIE          B  VAKTNSLRRRKLASFLKDFDREVEIRIKQIESDRQNLLKEVDNLYN...   \n",
       "\n",
       "                                                    sst8  \\\n",
       "0                                       CCTTHHHHHHHHHTCC   \n",
       "1                                       CCEECCCCCCCCCCCC   \n",
       "2                                       CCSSHHHHHHHHHHCC   \n",
       "3                                       CCCBEEEEEEEECCCC   \n",
       "4                                       CCCCHHHHHTTSCCCC   \n",
       "...                                                  ...   \n",
       "15267  CCCCCSTTHHHHHHHHHHHHHHHHHHHHSHHHHHSCCCSSSSHHHH...   \n",
       "15268  CCCCCCCCCCCCCCCCCCCCCCCCCCCCCCCCCCCCCCCCCCHHHH...   \n",
       "15269  CCCCSSTTSSCCCHHHHHHHHHTTSCTTSCHHHHHHHHHHHHHHHS...   \n",
       "15270  CCTHHHHHHHHHHHCGGGGTCCGGGSBCCCHHHHHHHHTSCHHHHH...   \n",
       "15271  CCCCCCHHHHHHHHHHHHHHHHHHHHHHHHHHHHHHHHHHHHHHHH...   \n",
       "\n",
       "                                                    sst3  len  \n",
       "0                                       CCCCHHHHHHHHHCCC   16  \n",
       "1                                       CCEECCCCCCCCCCCC   16  \n",
       "2                                       CCCCHHHHHHHHHHCC   16  \n",
       "3                                       CCCEEEEEEEEECCCC   16  \n",
       "4                                       CCCCHHHHHCCCCCCC   16  \n",
       "...                                                  ...  ...  \n",
       "15267  CCCCCCCCHHHHHHHHHHHHHHHHHHHHCHHHHHCCCCCCCCHHHH...  100  \n",
       "15268  CCCCCCCCCCCCCCCCCCCCCCCCCCCCCCCCCCCCCCCCCCHHHH...  100  \n",
       "15269  CCCCCCCCCCCCCHHHHHHHHHCCCCCCCCHHHHHHHHHHHHHHHC...  100  \n",
       "15270  CCCHHHHHHHHHHHCHHHHCCCHHHCECCCHHHHHHHHCCCHHHHH...  100  \n",
       "15271  CCCCCCHHHHHHHHHHHHHHHHHHHHHHHHHHHHHHHHHHHHHHHH...  100  \n",
       "\n",
       "[15272 rows x 6 columns]"
      ]
     },
     "execution_count": 2,
     "metadata": {},
     "output_type": "execute_result"
    }
   ],
   "source": [
    "# Create a variable for the path to the directory containing the dataset (and where to work)\n",
    "path = \"/kaggle/input/protein-sequences-16-100\"\n",
    "\n",
    "# Create a variable containing the full path of the dataset\n",
    "dataset = os.path.join(path, \"prot-seq-filtered.csv\")\n",
    "\n",
    "# Create a Pandas DataFrame of the dataset (which is a .csv file)\n",
    "df = pd.read_csv(dataset, delimiter = \",\")\n",
    "\n",
    "df"
   ]
  },
  {
   "cell_type": "markdown",
   "id": "bbee5906",
   "metadata": {},
   "source": [
    "### Set Random Seed and $k$-mer Size\n",
    "\n",
    "We choose a seed for reproducibility and a sensible $k$-mer size."
   ]
  },
  {
   "cell_type": "code",
   "execution_count": 3,
   "id": "b63a1cef",
   "metadata": {
    "execution": {
     "iopub.execute_input": "2023-12-24T12:12:05.988712Z",
     "iopub.status.busy": "2023-12-24T12:12:05.988308Z",
     "iopub.status.idle": "2023-12-24T12:12:05.992970Z",
     "shell.execute_reply": "2023-12-24T12:12:05.992317Z",
     "shell.execute_reply.started": "2023-12-24T12:12:05.988679Z"
    }
   },
   "outputs": [],
   "source": [
    "# k-mer size and seed choice\n",
    "\n",
    "kmer_size = 3\n",
    "randomer = 50\n",
    "\n",
    "# Random Seed\n",
    "random.seed(randomer)\n",
    "np.random.seed(randomer)"
   ]
  },
  {
   "cell_type": "markdown",
   "id": "8a98384c",
   "metadata": {},
   "source": [
    "### Generate $k$-mers\n",
    "\n",
    "We convert our protein sequences in to $k$-mers, making the problem less computationally expensive. The choice of $k$ affects the performance of the model, with higher $k$ likely leading to less accurate models. This accuracy can vary based on much larger datasets, and with longer protein sequences.\n",
    "\n",
    "For example, the 3-mers for \"GQVGRQ\" are:\n",
    "\n",
    "GQV, QVG, VGR, GRQ"
   ]
  },
  {
   "cell_type": "code",
   "execution_count": 4,
   "id": "618d6b5b",
   "metadata": {
    "execution": {
     "iopub.execute_input": "2023-12-24T12:12:05.995197Z",
     "iopub.status.busy": "2023-12-24T12:12:05.994704Z",
     "iopub.status.idle": "2023-12-24T12:12:06.219363Z",
     "shell.execute_reply": "2023-12-24T12:12:06.218706Z",
     "shell.execute_reply.started": "2023-12-24T12:12:05.995165Z"
    }
   },
   "outputs": [
    {
     "name": "stdout",
     "output_type": "stream",
     "text": [
      "Maximum Protein Length: 100\n"
     ]
    },
    {
     "data": {
      "text/html": [
       "<div>\n",
       "<style scoped>\n",
       "    .dataframe tbody tr th:only-of-type {\n",
       "        vertical-align: middle;\n",
       "    }\n",
       "\n",
       "    .dataframe tbody tr th {\n",
       "        vertical-align: top;\n",
       "    }\n",
       "\n",
       "    .dataframe thead th {\n",
       "        text-align: right;\n",
       "    }\n",
       "</style>\n",
       "<table border=\"1\" class=\"dataframe\">\n",
       "  <thead>\n",
       "    <tr style=\"text-align: right;\">\n",
       "      <th></th>\n",
       "      <th>pdb_id</th>\n",
       "      <th>chain_code</th>\n",
       "      <th>seq</th>\n",
       "      <th>sst8</th>\n",
       "      <th>sst3</th>\n",
       "      <th>len</th>\n",
       "      <th>kmers</th>\n",
       "    </tr>\n",
       "  </thead>\n",
       "  <tbody>\n",
       "    <tr>\n",
       "      <th>0</th>\n",
       "      <td>1BXL</td>\n",
       "      <td>B</td>\n",
       "      <td>GQVGRQLAIIGDDINR</td>\n",
       "      <td>CCTTHHHHHHHHHTCC</td>\n",
       "      <td>CCCCHHHHHHHHHCCC</td>\n",
       "      <td>16</td>\n",
       "      <td>[GQV, QVG, VGR, GRQ, RQL, QLA, LAI, AII, IIG, ...</td>\n",
       "    </tr>\n",
       "    <tr>\n",
       "      <th>1</th>\n",
       "      <td>1D9K</td>\n",
       "      <td>P</td>\n",
       "      <td>GNSHRGAIEWEGIESG</td>\n",
       "      <td>CCEECCCCCCCCCCCC</td>\n",
       "      <td>CCEECCCCCCCCCCCC</td>\n",
       "      <td>16</td>\n",
       "      <td>[GNS, NSH, SHR, HRG, RGA, GAI, AIE, IEW, EWE, ...</td>\n",
       "    </tr>\n",
       "    <tr>\n",
       "      <th>2</th>\n",
       "      <td>1DPU</td>\n",
       "      <td>B</td>\n",
       "      <td>RIQRNKAAALLRLAAR</td>\n",
       "      <td>CCSSHHHHHHHHHHCC</td>\n",
       "      <td>CCCCHHHHHHHHHHCC</td>\n",
       "      <td>16</td>\n",
       "      <td>[RIQ, IQR, QRN, RNK, NKA, KAA, AAA, AAL, ALL, ...</td>\n",
       "    </tr>\n",
       "    <tr>\n",
       "      <th>3</th>\n",
       "      <td>1DXP</td>\n",
       "      <td>C</td>\n",
       "      <td>KGSVVIVGRIILSGRK</td>\n",
       "      <td>CCCBEEEEEEEECCCC</td>\n",
       "      <td>CCCEEEEEEEEECCCC</td>\n",
       "      <td>16</td>\n",
       "      <td>[KGS, GSV, SVV, VVI, VIV, IVG, VGR, GRI, RII, ...</td>\n",
       "    </tr>\n",
       "    <tr>\n",
       "      <th>4</th>\n",
       "      <td>1EJH</td>\n",
       "      <td>E</td>\n",
       "      <td>KQYDREFLLDFQFMPA</td>\n",
       "      <td>CCCCHHHHHTTSCCCC</td>\n",
       "      <td>CCCCHHHHHCCCCCCC</td>\n",
       "      <td>16</td>\n",
       "      <td>[KQY, QYD, YDR, DRE, REF, EFL, FLL, LLD, LDF, ...</td>\n",
       "    </tr>\n",
       "  </tbody>\n",
       "</table>\n",
       "</div>"
      ],
      "text/plain": [
       "  pdb_id chain_code               seq              sst8              sst3  \\\n",
       "0   1BXL          B  GQVGRQLAIIGDDINR  CCTTHHHHHHHHHTCC  CCCCHHHHHHHHHCCC   \n",
       "1   1D9K          P  GNSHRGAIEWEGIESG  CCEECCCCCCCCCCCC  CCEECCCCCCCCCCCC   \n",
       "2   1DPU          B  RIQRNKAAALLRLAAR  CCSSHHHHHHHHHHCC  CCCCHHHHHHHHHHCC   \n",
       "3   1DXP          C  KGSVVIVGRIILSGRK  CCCBEEEEEEEECCCC  CCCEEEEEEEEECCCC   \n",
       "4   1EJH          E  KQYDREFLLDFQFMPA  CCCCHHHHHTTSCCCC  CCCCHHHHHCCCCCCC   \n",
       "\n",
       "   len                                              kmers  \n",
       "0   16  [GQV, QVG, VGR, GRQ, RQL, QLA, LAI, AII, IIG, ...  \n",
       "1   16  [GNS, NSH, SHR, HRG, RGA, GAI, AIE, IEW, EWE, ...  \n",
       "2   16  [RIQ, IQR, QRN, RNK, NKA, KAA, AAA, AAL, ALL, ...  \n",
       "3   16  [KGS, GSV, SVV, VVI, VIV, IVG, VGR, GRI, RII, ...  \n",
       "4   16  [KQY, QYD, YDR, DRE, REF, EFL, FLL, LLD, LDF, ...  "
      ]
     },
     "execution_count": 4,
     "metadata": {},
     "output_type": "execute_result"
    }
   ],
   "source": [
    "# Define k-mer function (n-gram)\n",
    "def kmers(seq, k = kmer_size):\n",
    "    return ([seq[i:i + k] for i in range(len(seq) - k + 1)])\n",
    "\n",
    "# Apply the k-mer function to the amino acid sequences\n",
    "df[\"kmers\"] = df[\"seq\"].apply(kmers)\n",
    "\n",
    "# Find the maximum length of the sequences (we know from previously processing our dataset that it is 100)\n",
    "maxlen = max(df[\"len\"])\n",
    "print(\"Maximum Protein Length:\", maxlen)\n",
    "\n",
    "df.head()"
   ]
  },
  {
   "cell_type": "markdown",
   "id": "a2e6dcd3",
   "metadata": {},
   "source": [
    "### Pre-processing and Padding\n",
    "\n",
    "We use the Tokenizer class to transform our protein sequences and secondary structures into sequences of integers, where each integer is an index of a token in a dictionary. A dictionary is made for our 3-mers, and another dictionary is made for our secondary structures. Padding is performed to make the length of each sequence equal."
   ]
  },
  {
   "cell_type": "code",
   "execution_count": 5,
   "id": "e4242957",
   "metadata": {
    "execution": {
     "iopub.execute_input": "2023-12-24T12:12:06.220988Z",
     "iopub.status.busy": "2023-12-24T12:12:06.220434Z",
     "iopub.status.idle": "2023-12-24T12:12:19.929586Z",
     "shell.execute_reply": "2023-12-24T12:12:19.928536Z",
     "shell.execute_reply.started": "2023-12-24T12:12:06.220964Z"
    }
   },
   "outputs": [
    {
     "name": "stdout",
     "output_type": "stream",
     "text": [
      "CPU times: user 8.51 s, sys: 1.37 s, total: 9.88 s\n",
      "Wall time: 13.7 s\n"
     ]
    },
    {
     "data": {
      "text/plain": [
       "((15272, 100), (15272, 100))"
      ]
     },
     "execution_count": 5,
     "metadata": {},
     "output_type": "execute_result"
    }
   ],
   "source": [
    "%%time\n",
    "\n",
    "# We will use functions from Keras to pre-process our data to be used in the model\n",
    "from tensorflow.keras.preprocessing import sequence\n",
    "from tensorflow.keras.preprocessing.text import Tokenizer\n",
    "\n",
    "# Create Tokenizer class for protein sequences, without making them lowercase\n",
    "tok_x = Tokenizer(lower = False)\n",
    "# Fit Tokenizer on protein sequences (k-mers)\n",
    "tok_x.fit_on_texts(df[\"kmers\"].values)\n",
    "# Convert protein sequences into sequence of integers and pad where necessary\n",
    "X = tok_x.texts_to_sequences(df[\"kmers\"].values)\n",
    "X = sequence.pad_sequences(X, maxlen = maxlen, padding = \"post\")\n",
    "\n",
    "# Create Tokenizer class for secondary sequences, and treat every character (element) as a token\n",
    "tok_y = Tokenizer(char_level = True)\n",
    "# Fit Tokenizer on secondary structures\n",
    "tok_y.fit_on_texts(df[\"sst3\"].values)\n",
    "# Convert secondary structures into sequence of integers and pad where necessary\n",
    "y = tok_y.texts_to_sequences(df[\"sst3\"].values)\n",
    "y = sequence.pad_sequences(y, maxlen = maxlen, padding = \"post\")\n",
    "\n",
    "X.shape, y.shape"
   ]
  },
  {
   "cell_type": "markdown",
   "id": "bb67eb31",
   "metadata": {},
   "source": [
    "### Training, Validation and Test Split\n",
    "\n",
    "We split our dataset into training, validation and test sets, where the training set is used to train the model. The validation set is used to choose a sensible model after it has been trained. The test set is used to test the performance of our final candidate model."
   ]
  },
  {
   "cell_type": "code",
   "execution_count": 6,
   "id": "1669de28",
   "metadata": {
    "execution": {
     "iopub.execute_input": "2023-12-24T12:12:19.931727Z",
     "iopub.status.busy": "2023-12-24T12:12:19.930925Z",
     "iopub.status.idle": "2023-12-24T12:12:20.321642Z",
     "shell.execute_reply": "2023-12-24T12:12:20.320667Z",
     "shell.execute_reply.started": "2023-12-24T12:12:19.931689Z"
    }
   },
   "outputs": [
    {
     "data": {
      "text/plain": [
       "((11454, 100),\n",
       " (11454, 100),\n",
       " (1272, 100),\n",
       " (1272, 100),\n",
       " (2546, 100),\n",
       " (2546, 100))"
      ]
     },
     "execution_count": 6,
     "metadata": {},
     "output_type": "execute_result"
    }
   ],
   "source": [
    "from sklearn.model_selection import train_test_split\n",
    "\n",
    "# Split the data into training, validation and test sets\n",
    "X_train, X_temp, y_train, y_temp = train_test_split(X, y, train_size = 3/4, test_size = 1/4, random_state = randomer)\n",
    "\n",
    "X_val, X_test, y_val, y_test = train_test_split(X_temp, y_temp, train_size = 1/3, test_size = 2/3, random_state = randomer)\n",
    "\n",
    "X_train.shape, y_train.shape, X_val.shape, y_val.shape, X_test.shape, y_test.shape"
   ]
  },
  {
   "cell_type": "code",
   "execution_count": 7,
   "id": "a9a67ffd",
   "metadata": {
    "execution": {
     "iopub.execute_input": "2023-12-24T12:12:20.323248Z",
     "iopub.status.busy": "2023-12-24T12:12:20.322930Z",
     "iopub.status.idle": "2023-12-24T12:12:20.330383Z",
     "shell.execute_reply": "2023-12-24T12:12:20.329127Z",
     "shell.execute_reply.started": "2023-12-24T12:12:20.323220Z"
    }
   },
   "outputs": [
    {
     "data": {
      "text/plain": [
       "(array([3272, 2093, 4483,  695,  203, 1554, 2110, 1956, 2856, 3513, 2841,\n",
       "        2369, 1917, 3529, 1159,  110, 1527,  943, 3428, 4868, 4080, 6729,\n",
       "        6249, 6991, 5684, 3603, 2648, 2493, 1682,  621, 1677, 1171, 2116,\n",
       "         692, 1320, 3613, 4117, 4087, 1683, 4427, 2159, 2269, 3387, 2341,\n",
       "        1270,  121,  365,  161, 2364, 2950, 4291, 5756, 4993, 4479, 3168,\n",
       "        3306, 4084, 5154,    0,    0,    0,    0,    0,    0,    0,    0,\n",
       "           0,    0,    0,    0,    0,    0,    0,    0,    0,    0,    0,\n",
       "           0,    0,    0,    0,    0,    0,    0,    0,    0,    0,    0,\n",
       "           0,    0,    0,    0,    0,    0,    0,    0,    0,    0,    0,\n",
       "           0], dtype=int32),\n",
       " array([1, 3, 3, 3, 1, 1, 1, 1, 1, 1, 3, 3, 3, 1, 1, 1, 1, 1, 1, 3, 3, 3,\n",
       "        3, 3, 3, 3, 1, 1, 3, 3, 3, 3, 3, 3, 3, 3, 3, 3, 3, 1, 1, 1, 1, 1,\n",
       "        1, 1, 1, 1, 3, 3, 3, 3, 3, 3, 1, 1, 1, 1, 1, 1, 0, 0, 0, 0, 0, 0,\n",
       "        0, 0, 0, 0, 0, 0, 0, 0, 0, 0, 0, 0, 0, 0, 0, 0, 0, 0, 0, 0, 0, 0,\n",
       "        0, 0, 0, 0, 0, 0, 0, 0, 0, 0, 0, 0], dtype=int32))"
      ]
     },
     "execution_count": 7,
     "metadata": {},
     "output_type": "execute_result"
    }
   ],
   "source": [
    "X_train[0], y_train[0]"
   ]
  },
  {
   "cell_type": "markdown",
   "id": "9fd4f00a",
   "metadata": {},
   "source": [
    "### Oversampling Method\n",
    "\n",
    "In \"Oversampling 1\", we extract protein sequences where class 3 (E) is the majority class in the corresponding secondary structure. This way, we aren't increasing class 1 (C) at a faster rate, which is the majority class in the overall dataset (see 'eda-data-processing.ipynb' in the repository). There are 24 of these based on our threshold, and we append these to X_train and y_train (with variables now called nx_ar and ny_ar respectively) 350 times.\n",
    "\n",
    "In \"Oversampling 2\", we extract protein sequences where class 2 (H) is the majority class in the corresponding secondary structure. There are 42 of these based on our threshold, and we append these 110 times.\n",
    "\n",
    "In \"Oversampling 3\", we extract protein sequences where class 0 (the padding) is sufficiently high. We do this so that class 0 is not heavily less represented in comparison to the other classes. There are 677 of these based on our threshold, and we append these 3 times.\n",
    "\n",
    "We shuffle the resulting dataset as appropriate."
   ]
  },
  {
   "cell_type": "code",
   "execution_count": 8,
   "id": "d2aca1fe",
   "metadata": {
    "execution": {
     "iopub.execute_input": "2023-12-24T12:12:20.331785Z",
     "iopub.status.busy": "2023-12-24T12:12:20.331573Z",
     "iopub.status.idle": "2023-12-24T12:12:20.341129Z",
     "shell.execute_reply": "2023-12-24T12:12:20.339774Z",
     "shell.execute_reply.started": "2023-12-24T12:12:20.331765Z"
    }
   },
   "outputs": [],
   "source": [
    "# Duplicate training set\n",
    "nx_ar = X_train\n",
    "ny_ar = y_train"
   ]
  },
  {
   "cell_type": "code",
   "execution_count": 9,
   "id": "de9f575c",
   "metadata": {
    "execution": {
     "iopub.execute_input": "2023-12-24T12:12:20.342692Z",
     "iopub.status.busy": "2023-12-24T12:12:20.342462Z",
     "iopub.status.idle": "2023-12-24T12:12:31.131571Z",
     "shell.execute_reply": "2023-12-24T12:12:31.130319Z",
     "shell.execute_reply.started": "2023-12-24T12:12:20.342672Z"
    }
   },
   "outputs": [
    {
     "name": "stdout",
     "output_type": "stream",
     "text": [
      "24\n",
      "(19854, 100) (19854, 100)\n",
      "CPU times: user 5.86 s, sys: 4.91 s, total: 10.8 s\n",
      "Wall time: 10.8 s\n"
     ]
    }
   ],
   "source": [
    "%%time\n",
    "\n",
    "# Oversampling 1\n",
    "\n",
    "x_o1 = []\n",
    "y_o1 = []\n",
    "\n",
    "for i, y in enumerate(y_train):\n",
    "    if (np.sum(y == 3) / len(y)) >= 0.6:\n",
    "        x_o1.append(X_train[i])\n",
    "        y_o1.append(y)\n",
    "        \n",
    "print(len(x_o1))\n",
    "\n",
    "for i in range(0, 350):\n",
    "    for i, x in enumerate(x_o1):\n",
    "        nx_ar = np.vstack((nx_ar, x))\n",
    "        ny_ar = np.vstack((ny_ar, y_o1[i]))\n",
    "\n",
    "print(nx_ar.shape, ny_ar.shape)"
   ]
  },
  {
   "cell_type": "code",
   "execution_count": 10,
   "id": "0410a82d",
   "metadata": {
    "execution": {
     "iopub.execute_input": "2023-12-24T12:12:31.136428Z",
     "iopub.status.busy": "2023-12-24T12:12:31.136172Z",
     "iopub.status.idle": "2023-12-24T12:12:42.497778Z",
     "shell.execute_reply": "2023-12-24T12:12:42.496719Z",
     "shell.execute_reply.started": "2023-12-24T12:12:31.136407Z"
    },
    "scrolled": true
   },
   "outputs": [
    {
     "name": "stdout",
     "output_type": "stream",
     "text": [
      "42\n",
      "(24474, 100) (24474, 100)\n",
      "CPU times: user 5.52 s, sys: 5.83 s, total: 11.4 s\n",
      "Wall time: 11.4 s\n"
     ]
    }
   ],
   "source": [
    "%%time\n",
    "\n",
    "# Oversampling 2\n",
    "\n",
    "x_o2 = []\n",
    "y_o2 = []\n",
    "\n",
    "for i, y in enumerate(y_train):\n",
    "    if (np.sum(y == 2) / len(y)) >= 0.8:\n",
    "        x_o2.append(X_train[i])\n",
    "        y_o2.append(y)\n",
    "\n",
    "print(len(x_o2))\n",
    "\n",
    "for i in range(0, 110):\n",
    "    for i, x in enumerate(x_o2):\n",
    "        nx_ar = np.vstack((nx_ar, x))\n",
    "        ny_ar = np.vstack((ny_ar, y_o2[i]))\n",
    "\n",
    "print(nx_ar.shape, ny_ar.shape)"
   ]
  },
  {
   "cell_type": "code",
   "execution_count": 11,
   "id": "4463845c",
   "metadata": {
    "execution": {
     "iopub.execute_input": "2023-12-24T12:12:42.499251Z",
     "iopub.status.busy": "2023-12-24T12:12:42.498928Z",
     "iopub.status.idle": "2023-12-24T12:12:48.082324Z",
     "shell.execute_reply": "2023-12-24T12:12:48.081014Z",
     "shell.execute_reply.started": "2023-12-24T12:12:42.499223Z"
    }
   },
   "outputs": [
    {
     "name": "stdout",
     "output_type": "stream",
     "text": [
      "677\n",
      "(26505, 100) (26505, 100)\n",
      "CPU times: user 2.73 s, sys: 2.84 s, total: 5.58 s\n",
      "Wall time: 5.58 s\n"
     ]
    }
   ],
   "source": [
    "%%time\n",
    "\n",
    "# Oversampling 3\n",
    "\n",
    "x_o3 = []\n",
    "y_o3 = []\n",
    "\n",
    "for i, y in enumerate(y_train):\n",
    "    if (np.sum(y == 0) / len(y)) >= 0.8:\n",
    "        x_o3.append(X_train[i])\n",
    "        y_o3.append(y)\n",
    "\n",
    "print(len(x_o3))\n",
    "\n",
    "for i in range(0, 3):\n",
    "    for i, x in enumerate(x_o3):\n",
    "        nx_ar = np.vstack((nx_ar, x))\n",
    "        ny_ar = np.vstack((ny_ar, y_o3[i]))\n",
    "\n",
    "print(nx_ar.shape, ny_ar.shape)"
   ]
  },
  {
   "cell_type": "code",
   "execution_count": 12,
   "id": "120904e9",
   "metadata": {
    "execution": {
     "iopub.execute_input": "2023-12-24T12:12:48.084180Z",
     "iopub.status.busy": "2023-12-24T12:12:48.083808Z",
     "iopub.status.idle": "2023-12-24T12:12:48.102894Z",
     "shell.execute_reply": "2023-12-24T12:12:48.101758Z",
     "shell.execute_reply.started": "2023-12-24T12:12:48.084145Z"
    }
   },
   "outputs": [
    {
     "data": {
      "text/plain": [
       "(array([[ 937, 2726, 3010, ...,    0,    0,    0],\n",
       "        [5611, 1463,  625, ...,    0,    0,    0],\n",
       "        [3720, 2259, 1591, ...,    0,    0,    0],\n",
       "        ...,\n",
       "        [ 731,    3, 1281, ...,    0,    0,    0],\n",
       "        [1021, 2009, 4556, ...,    0,    0,    0],\n",
       "        [ 817, 1738, 1553, ...,    0,    0,    0]], dtype=int32),\n",
       " array([[1, 1, 1, ..., 0, 0, 0],\n",
       "        [1, 3, 3, ..., 0, 0, 0],\n",
       "        [1, 1, 1, ..., 0, 0, 0],\n",
       "        ...,\n",
       "        [1, 1, 1, ..., 0, 0, 0],\n",
       "        [1, 1, 1, ..., 0, 0, 0],\n",
       "        [1, 1, 1, ..., 0, 0, 0]], dtype=int32))"
      ]
     },
     "execution_count": 12,
     "metadata": {},
     "output_type": "execute_result"
    }
   ],
   "source": [
    "# Repeat seed (if needed)\n",
    "np.random.seed(randomer)\n",
    "\n",
    "# Generate random indices (we want to shuffle our training set)\n",
    "indices = np.random.permutation(len(nx_ar))\n",
    "\n",
    "# Shuffle both arrays using the same indices\n",
    "X_train_new = nx_ar[indices]\n",
    "y_train_new = ny_ar[indices]\n",
    "\n",
    "X_train_new, y_train_new"
   ]
  },
  {
   "cell_type": "code",
   "execution_count": 13,
   "id": "6db88755",
   "metadata": {
    "execution": {
     "iopub.execute_input": "2023-12-24T12:12:48.104269Z",
     "iopub.status.busy": "2023-12-24T12:12:48.103964Z",
     "iopub.status.idle": "2023-12-24T12:12:51.371224Z",
     "shell.execute_reply": "2023-12-24T12:12:51.370370Z",
     "shell.execute_reply.started": "2023-12-24T12:12:48.104238Z"
    }
   },
   "outputs": [
    {
     "name": "stdout",
     "output_type": "stream",
     "text": [
      "Without Oversampling:\n",
      "Number in Class 0 : 408388 , 35.65461847389558 %\n",
      "Number in Class 1 : 366060 , 31.959140911471973 %\n",
      "Number in Class 2 : 239124 , 20.876898899947616 %\n",
      "Number in Class 3 : 131828 , 11.509341714684826 %\n",
      "\n",
      "With Oversampling:\n",
      "Number in Class 0 : 649924 , 24.520807394831163 %\n",
      "Number in Class 1 : 705695 , 26.624976419543483 %\n",
      "Number in Class 2 : 645468 , 24.35268817204301 %\n",
      "Number in Class 3 : 649413 , 24.501528013582345 %\n"
     ]
    }
   ],
   "source": [
    "from sklearn.metrics import classification_report\n",
    "\n",
    "# Simple way to find out how many instances there are of each class\n",
    "report1 = classification_report(y_train.flatten(), y_train.flatten(), output_dict = True)\n",
    "report2 = classification_report(y_train_new.flatten(), y_train_new.flatten(), output_dict = True)\n",
    "\n",
    "print(\"Without Oversampling:\")\n",
    "for i in [\"0\",\"1\",\"2\",\"3\"]:\n",
    "    print(\"Number in Class\", i, \":\", report1[i][\"support\"], \",\", report1[i][\"support\"] * 100 / report1[\"weighted avg\"][\"support\"], \"%\")\n",
    "    \n",
    "print(\"\\nWith Oversampling:\")\n",
    "for i in [\"0\",\"1\",\"2\",\"3\"]:\n",
    "    print(\"Number in Class\", i, \":\", report2[i][\"support\"], \",\", report2[i][\"support\"] * 100 / report2[\"weighted avg\"][\"support\"], \"%\")"
   ]
  },
  {
   "cell_type": "code",
   "execution_count": 14,
   "id": "ac938c71",
   "metadata": {
    "execution": {
     "iopub.execute_input": "2023-12-24T12:12:51.372820Z",
     "iopub.status.busy": "2023-12-24T12:12:51.372347Z",
     "iopub.status.idle": "2023-12-24T12:12:51.379817Z",
     "shell.execute_reply": "2023-12-24T12:12:51.378699Z",
     "shell.execute_reply.started": "2023-12-24T12:12:51.372792Z"
    }
   },
   "outputs": [],
   "source": [
    "from collections import defaultdict\n",
    "\n",
    "# Function to visualise distribution of SST-3/SST-8 (taken from EDA workbook, adapted to arrays)\n",
    "def sst_visualise(array, ss_types, labels, ss_colours, title):\n",
    "    ss_counts = defaultdict(lambda: 0)\n",
    "\n",
    "    for row in array:\n",
    "        for element in row:\n",
    "            ss_counts[element] += 1\n",
    "\n",
    "    plt.bar(range(len(ss_types)), height = [ss_counts[ss] for ss in ss_types], tick_label = labels, edgecolor = \"black\", width = 0.75, zorder = 3, color = ss_colours)\n",
    "    plt.title(title)\n",
    "    plt.xlabel(\"Element\")\n",
    "    plt.ylabel(\"Frequency\")\n",
    "    plt.show()"
   ]
  },
  {
   "cell_type": "code",
   "execution_count": 15,
   "id": "0d8ca159",
   "metadata": {
    "execution": {
     "iopub.execute_input": "2023-12-24T12:12:51.382077Z",
     "iopub.status.busy": "2023-12-24T12:12:51.381243Z",
     "iopub.status.idle": "2023-12-24T12:12:52.489753Z",
     "shell.execute_reply": "2023-12-24T12:12:52.488137Z",
     "shell.execute_reply.started": "2023-12-24T12:12:51.382048Z"
    }
   },
   "outputs": [
    {
     "data": {
      "image/png": "[encoded data removed]",
      "text/plain": [
       "<Figure size 640x480 with 1 Axes>"
      ]
     },
     "metadata": {},
     "output_type": "display_data"
    },
    {
     "data": {
      "image/png": "[encoded data removed]",
      "text/plain": [
       "<Figure size 640x480 with 1 Axes>"
      ]
     },
     "metadata": {},
     "output_type": "display_data"
    }
   ],
   "source": [
    "# Define elements for SST-3 and SST-8, and custom colours\n",
    "ss_types = list(set(np.ravel(y_train)))\n",
    "labels = [\"Padding\", \"C\", \"H\", \"E\"]\n",
    "ss_colours = [\"grey\", \"purple\", \"orange\", \"black\"]\n",
    "\n",
    "# Plot for training set distribution before oversampling\n",
    "sst_visualise(y_train, ss_types, labels, ss_colours, \"Secondary Structure Distribution (Training; Without Oversampling)\")\n",
    "\n",
    "# Plot for training set distribution after oversampling\n",
    "sst_visualise(y_train_new, ss_types, labels, ss_colours, \"Secondary Structure Distribution (Training; With Oversampling)\")"
   ]
  },
  {
   "cell_type": "markdown",
   "id": "2dba90b2",
   "metadata": {},
   "source": [
    "### Import Classifier and Define Q3 Accuracy Metric\n",
    "\n",
    "We are interested in using $k$-nearest neighbours for multi-output classification, so we import the relevant functions from scikit-learn. Q3 accuracy is an important metric for assessing the accuracy of our models, as it excludes the padding class in its calculations (it is otherwise equivalent to 'accuracy_score' from scikit-learn)."
   ]
  },
  {
   "cell_type": "code",
   "execution_count": 16,
   "id": "d6cba523",
   "metadata": {
    "execution": {
     "iopub.execute_input": "2023-12-24T12:12:52.491284Z",
     "iopub.status.busy": "2023-12-24T12:12:52.490981Z",
     "iopub.status.idle": "2023-12-24T12:12:52.658894Z",
     "shell.execute_reply": "2023-12-24T12:12:52.657526Z",
     "shell.execute_reply.started": "2023-12-24T12:12:52.491257Z"
    }
   },
   "outputs": [],
   "source": [
    "# Import MultiOutputClassifier and KNeighborsClassifier\n",
    "from sklearn.multioutput import MultiOutputClassifier\n",
    "from sklearn.neighbors import KNeighborsClassifier\n",
    "\n",
    "# Create Q3 function using NumPy (accuracy of those other than zero, which is the padding)\n",
    "def q3_acc_numpy(y_true, y_pred):\n",
    "    mask = y_true > 0\n",
    "    q3 = np.equal(np.extract(mask, y_true), np.extract(mask, y_pred)).astype(float)\n",
    "    return np.sum(q3) / q3.shape[0]"
   ]
  },
  {
   "cell_type": "markdown",
   "id": "38c97413",
   "metadata": {},
   "source": [
    "### Investigate Suitable Number of Neighbours\n",
    "\n",
    "We want to maximise the Q3 accuracy and ensure that our number of neighbours $k$ is not too high and not too low. An odd number of neighbours is typically chosen to ensure that there are no ties between classes. Our range of neighbours to test is [1, 10].\n",
    "\n",
    "The Euclidean and Manhattan distances are used to determine which provides better results. We assign weights to points based on the inverse of their distance, prioritising closer neighbours with greater influence over those farther away."
   ]
  },
  {
   "cell_type": "markdown",
   "id": "d23ec55f",
   "metadata": {},
   "source": [
    "#### Without Oversampling"
   ]
  },
  {
   "cell_type": "code",
   "execution_count": 17,
   "id": "6b1dc571",
   "metadata": {
    "execution": {
     "iopub.execute_input": "2023-12-24T12:12:52.660770Z",
     "iopub.status.busy": "2023-12-24T12:12:52.660383Z",
     "iopub.status.idle": "2023-12-24T12:32:06.647610Z",
     "shell.execute_reply": "2023-12-24T12:32:06.646341Z",
     "shell.execute_reply.started": "2023-12-24T12:12:52.660741Z"
    }
   },
   "outputs": [
    {
     "name": "stdout",
     "output_type": "stream",
     "text": [
      "[0.5958786209609993, 0.5958786209609993, 0.587394875325825, 0.5939974425810259, 0.5908252594304825, 0.5911572320857719, 0.5865465007623076, 0.5867678158658338, 0.5837185855505828, 0.5841735110411647]\n",
      "[0.6041164609255889, 0.6039812128067673, 0.6019647863079722, 0.6052353317267496, 0.604891063787931, 0.6015344513844489, 0.5988171937244873, 0.5974278266856834, 0.5947474548763094, 0.5938007180445581]\n"
     ]
    },
    {
     "data": {
      "image/png": "[encoded data removed]",
      "text/plain": [
       "<Figure size 640x480 with 1 Axes>"
      ]
     },
     "metadata": {},
     "output_type": "display_data"
    },
    {
     "name": "stdout",
     "output_type": "stream",
     "text": [
      "CPU times: user 21min 17s, sys: 6min, total: 27min 17s\n",
      "Wall time: 19min 13s\n"
     ]
    }
   ],
   "source": [
    "%%time\n",
    "\n",
    "# Without Oversampling\n",
    "\n",
    "metrics = [\"euclidean\", \"manhattan\"]\n",
    "\n",
    "# Loop over the two metrics\n",
    "for metric_ in metrics:\n",
    "    accuracy_data = []\n",
    "    nums = []\n",
    "    \n",
    "    # Loop over every number of neighbours\n",
    "    for i in range(1, 11):\n",
    "        # Define model\n",
    "        knn_model = MultiOutputClassifier(KNeighborsClassifier(n_neighbors = i, metric = metric_, weights = \"distance\"))\n",
    "        # Fit training set to model\n",
    "        knn_model.fit(X_train, y_train)\n",
    "        # Use model to predict the validation set classes (elements)\n",
    "        y_pred = knn_model.predict(X_val)\n",
    "        # Calculate Q3 accuracy of prediction and append to 'accuracy_data'\n",
    "        accuracy = q3_acc_numpy(y_val.flatten(), y_pred.flatten())\n",
    "        accuracy_data.append(accuracy)\n",
    "        nums.append(i)\n",
    "\n",
    "    print(accuracy_data)\n",
    "\n",
    "    plt.plot(nums, accuracy_data, label = metric_)\n",
    "    \n",
    "plt.title(\"Accuracy Based on Number of Neighbours (Without Oversamping)\")\n",
    "plt.xlabel(\"Number of Neighbours (n_neighbors)\")\n",
    "plt.ylabel(\"Q3 Accuracy\")\n",
    "plt.legend()\n",
    "plt.savefig(\"no_oversamp_knn.pdf\")\n",
    "plt.show()"
   ]
  },
  {
   "cell_type": "markdown",
   "id": "c1bb030f",
   "metadata": {},
   "source": [
    "#### With Oversampling"
   ]
  },
  {
   "cell_type": "code",
   "execution_count": 18,
   "id": "1da3480e",
   "metadata": {
    "execution": {
     "iopub.execute_input": "2023-12-24T12:32:06.649742Z",
     "iopub.status.busy": "2023-12-24T12:32:06.648848Z",
     "iopub.status.idle": "2023-12-24T13:23:56.635226Z",
     "shell.execute_reply": "2023-12-24T13:23:56.634203Z",
     "shell.execute_reply.started": "2023-12-24T12:32:06.649709Z"
    }
   },
   "outputs": [
    {
     "name": "stdout",
     "output_type": "stream",
     "text": [
      "[0.5958786209609993, 0.5958786209609993, 0.5860300988540795, 0.5921162642010525, 0.5875670092952343, 0.5879235725175822, 0.5827226675847145, 0.5837185855505828, 0.5814193675306153, 0.5824521713470713]\n",
      "[0.6039812128067673, 0.6039812128067673, 0.6002311513303497, 0.602985294840899, 0.6018418334726798, 0.5976983229233266, 0.5945261397727831, 0.593849899178675, 0.5922146264692864, 0.5904686962081346]\n"
     ]
    },
    {
     "data": {
      "image/png": "[encoded data removed]",
      "text/plain": [
       "<Figure size 640x480 with 1 Axes>"
      ]
     },
     "metadata": {},
     "output_type": "display_data"
    },
    {
     "name": "stdout",
     "output_type": "stream",
     "text": [
      "CPU times: user 55min 26s, sys: 7min 23s, total: 1h 2min 49s\n",
      "Wall time: 51min 49s\n"
     ]
    }
   ],
   "source": [
    "%%time\n",
    "\n",
    "# With Oversampling\n",
    "\n",
    "metrics = [\"euclidean\", \"manhattan\"]\n",
    "\n",
    "# Loop over the two metrics\n",
    "for metric_ in metrics:\n",
    "    accuracy_data = []\n",
    "    nums = []\n",
    "    \n",
    "    # Loop over every number of neighbours\n",
    "    for i in range(1, 11):\n",
    "        # Define model\n",
    "        knn_model = MultiOutputClassifier(KNeighborsClassifier(n_neighbors = i, metric = metric_, weights = \"distance\"))\n",
    "        # Fit training set to model\n",
    "        knn_model.fit(X_train_new, y_train_new)\n",
    "        # Use model to predict the validation set classes (elements)\n",
    "        y_pred = knn_model.predict(X_val)\n",
    "        # Calculate Q3 accuracy of prediction and append to 'accuracy_data'\n",
    "        accuracy = q3_acc_numpy(y_val.flatten(), y_pred.flatten())\n",
    "        accuracy_data.append(accuracy)\n",
    "        nums.append(i)\n",
    "\n",
    "    print(accuracy_data)\n",
    "\n",
    "    plt.plot(nums, accuracy_data, label = metric_)\n",
    "    \n",
    "plt.title(\"Accuracy Based on Number of Neighbours (With Oversamping)\")\n",
    "plt.xlabel(\"Number of Neighbours (n_neighbors)\")\n",
    "plt.ylabel(\"Q3 Accuracy\")\n",
    "plt.legend()\n",
    "plt.savefig(\"oversamp_knn.pdf\")  \n",
    "plt.show()"
   ]
  },
  {
   "cell_type": "markdown",
   "id": "efa7ec47",
   "metadata": {},
   "source": [
    "### Set Hyperparameters"
   ]
  },
  {
   "cell_type": "code",
   "execution_count": 19,
   "id": "ba3a0afd",
   "metadata": {
    "execution": {
     "iopub.execute_input": "2023-12-24T13:23:56.637059Z",
     "iopub.status.busy": "2023-12-24T13:23:56.636567Z",
     "iopub.status.idle": "2023-12-24T13:23:56.639881Z",
     "shell.execute_reply": "2023-12-24T13:23:56.639318Z",
     "shell.execute_reply.started": "2023-12-24T13:23:56.637036Z"
    }
   },
   "outputs": [],
   "source": [
    "# Number of neighbours, distance metric and weight choice\n",
    "\n",
    "num_neighbours = 5\n",
    "d_metric = \"manhattan\"\n",
    "weight_c = \"distance\""
   ]
  },
  {
   "cell_type": "markdown",
   "id": "23679ddf",
   "metadata": {},
   "source": [
    "### $k$-Fold Cross-Validation (Oversampled Data)\n",
    "\n",
    "We perform $k$-fold cross-validation on our oversampled data to determine if the accuracy is approximately equal for different subsets of the data."
   ]
  },
  {
   "cell_type": "code",
   "execution_count": 20,
   "id": "e67eb6a5",
   "metadata": {
    "execution": {
     "iopub.execute_input": "2023-12-24T13:23:56.641569Z",
     "iopub.status.busy": "2023-12-24T13:23:56.640634Z",
     "iopub.status.idle": "2023-12-24T14:30:13.529194Z",
     "shell.execute_reply": "2023-12-24T14:30:13.528012Z",
     "shell.execute_reply.started": "2023-12-24T13:23:56.641547Z"
    }
   },
   "outputs": [
    {
     "name": "stdout",
     "output_type": "stream",
     "text": [
      "Fold #1, Training Size: 21204, Validation Size: 5301\n",
      "Q3 Accuracy: 0.8508\n",
      "Fold #2, Training Size: 21204, Validation Size: 5301\n",
      "Q3 Accuracy: 0.8514\n",
      "Fold #3, Training Size: 21204, Validation Size: 5301\n",
      "Q3 Accuracy: 0.8569\n",
      "Fold #4, Training Size: 21204, Validation Size: 5301\n",
      "Q3 Accuracy: 0.8485\n",
      "Fold #5, Training Size: 21204, Validation Size: 5301\n",
      "Q3 Accuracy: 0.8492\n",
      "CPU times: user 1h 4min 57s, sys: 1min 17s, total: 1h 6min 15s\n",
      "Wall time: 1h 6min 16s\n"
     ]
    }
   ],
   "source": [
    "%%time\n",
    "\n",
    "# k-Fold Cross-Validation\n",
    "\n",
    "from sklearn.model_selection import KFold\n",
    "\n",
    "# Define model based on hyperparameters\n",
    "\n",
    "knn_model = MultiOutputClassifier(KNeighborsClassifier(n_neighbors = num_neighbours, metric = d_metric, weights = weight_c))\n",
    "\n",
    "# Define 5-fold class\n",
    "\n",
    "kf = KFold(n_splits = 5, shuffle = True, random_state = randomer)\n",
    "fold = 1\n",
    "\n",
    "# Start 5-fold CV, using oversampled data\n",
    "\n",
    "for train_i, validate_i in kf.split(X_train_new, y_train_new):\n",
    "    # Fit training subset to model\n",
    "    knn_model.fit(X_train_new[train_i], y_train_new[train_i])\n",
    "    # Define validation subset\n",
    "    y_tester = y_train_new[validate_i]\n",
    "    # Use model to predict validation subset\n",
    "    y_preder = knn_model.predict(X_train_new[validate_i])\n",
    "    # Output fold number and relevant statistics, including accuracy\n",
    "    print(f\"Fold #{fold}, Training Size: {len(X_train_new[train_i])}, Validation Size: {len(X_train_new[validate_i])}\")\n",
    "    print(f\"Q3 Accuracy: {round(q3_acc_numpy(y_tester.flatten(), y_preder.flatten()), 4)}\")\n",
    "    # Move to next fold\n",
    "    fold += 1"
   ]
  },
  {
   "cell_type": "markdown",
   "id": "61f46210",
   "metadata": {},
   "source": [
    "### Results of Chosen Model (With Oversampling vs Without Oversampling)\n",
    "\n",
    "We train our final chosen model and test it on our test set. We also compare the results between training on the oversampled data against training on the original data."
   ]
  },
  {
   "cell_type": "code",
   "execution_count": 21,
   "id": "5aa6a865",
   "metadata": {
    "execution": {
     "iopub.execute_input": "2023-12-24T14:30:13.530564Z",
     "iopub.status.busy": "2023-12-24T14:30:13.530320Z",
     "iopub.status.idle": "2023-12-24T14:42:01.841643Z",
     "shell.execute_reply": "2023-12-24T14:42:01.840120Z",
     "shell.execute_reply.started": "2023-12-24T14:30:13.530544Z"
    }
   },
   "outputs": [
    {
     "name": "stdout",
     "output_type": "stream",
     "text": [
      "CPU times: user 11min 34s, sys: 13.3 s, total: 11min 48s\n",
      "Wall time: 11min 48s\n"
     ]
    }
   ],
   "source": [
    "%%time\n",
    "\n",
    "# We determine that the following is a suitable model based on the above (with and without oversampling), using hyperparameters\n",
    "\n",
    "# Original Data Model\n",
    "\n",
    "knn_model1 = MultiOutputClassifier(KNeighborsClassifier(n_neighbors = num_neighbours, metric = d_metric, weights = weight_c))\n",
    "knn_model1.fit(X_train, y_train)\n",
    "y_pred1 = knn_model1.predict(X_test)\n",
    "\n",
    "# Oversampled Data Model\n",
    "\n",
    "knn_model2 = MultiOutputClassifier(KNeighborsClassifier(n_neighbors = num_neighbours, metric = d_metric, weights = weight_c))\n",
    "knn_model2.fit(X_train_new, y_train_new)\n",
    "y_pred2 = knn_model2.predict(X_test)"
   ]
  },
  {
   "cell_type": "code",
   "execution_count": 22,
   "id": "8f9420d9",
   "metadata": {
    "execution": {
     "iopub.execute_input": "2023-12-24T14:42:01.843306Z",
     "iopub.status.busy": "2023-12-24T14:42:01.842937Z",
     "iopub.status.idle": "2023-12-24T14:42:02.357585Z",
     "shell.execute_reply": "2023-12-24T14:42:02.356676Z",
     "shell.execute_reply.started": "2023-12-24T14:42:01.843273Z"
    }
   },
   "outputs": [
    {
     "name": "stdout",
     "output_type": "stream",
     "text": [
      "===== Without Oversampling =====\n",
      "\n",
      "Default Accuracy: 0.7376630007855459\n",
      "Q3 Accuracy: 0.5965569137026026\n",
      "\n",
      "               precision    recall  f1-score   support\n",
      "\n",
      "     Padding   0.891004  0.990729  0.938224     91142\n",
      "           C   0.664035  0.668637  0.666328     80377\n",
      "           H   0.618014  0.552076  0.583187     53940\n",
      "           E   0.579584  0.480080  0.525160     29141\n",
      "\n",
      "    accuracy                       0.737663    254600\n",
      "   macro avg   0.688159  0.672880  0.678225    254600\n",
      "weighted avg   0.725869  0.737663  0.729889    254600\n",
      "\n"
     ]
    },
    {
     "data": {
      "image/png": "[encoded data removed]",
      "text/plain": [
       "<Figure size 640x480 with 2 Axes>"
      ]
     },
     "metadata": {},
     "output_type": "display_data"
    }
   ],
   "source": [
    "# Class labels as a dictionary, {0: \"Padding\", 1: \"C\", 2: \"H\", 3: \"E\"}\n",
    "\n",
    "from sklearn.metrics import accuracy_score, confusion_matrix, ConfusionMatrixDisplay\n",
    "\n",
    "print(\"===== Without Oversampling =====\\n\")\n",
    "\n",
    "# Output useful metrics\n",
    "\n",
    "print(f\"Default Accuracy: {accuracy_score(y_test.flatten(), y_pred1.flatten())}\")\n",
    "print(f\"Q3 Accuracy: {q3_acc_numpy(y_test.flatten(), y_pred1.flatten())}\")\n",
    "print(\"\\n\", classification_report(y_test.flatten(), y_pred1.flatten(), target_names = [\"Padding\", \"C\", \"H\", \"E\"], digits = 6))\n",
    "\n",
    "# Create and display confusion matrix\n",
    "\n",
    "cm1 = confusion_matrix(y_test.flatten(), y_pred1.flatten())\n",
    "disp1 = ConfusionMatrixDisplay(confusion_matrix = cm1, display_labels = [\"Padding\", \"C\", \"H\", \"E\"])\n",
    "disp1.plot()\n",
    "disp1.figure_.savefig(\"disp1.pdf\")\n",
    "plt.show()"
   ]
  },
  {
   "cell_type": "code",
   "execution_count": 23,
   "id": "efc9a879",
   "metadata": {
    "execution": {
     "iopub.execute_input": "2023-12-24T14:42:02.358895Z",
     "iopub.status.busy": "2023-12-24T14:42:02.358634Z",
     "iopub.status.idle": "2023-12-24T14:42:02.867024Z",
     "shell.execute_reply": "2023-12-24T14:42:02.865750Z",
     "shell.execute_reply.started": "2023-12-24T14:42:02.358871Z"
    }
   },
   "outputs": [
    {
     "name": "stdout",
     "output_type": "stream",
     "text": [
      "===== With Oversampling =====\n",
      "\n",
      "Default Accuracy: 0.7354673998428908\n",
      "Q3 Accuracy: 0.593259430557085\n",
      "\n",
      "               precision    recall  f1-score   support\n",
      "\n",
      "     Padding   0.887906  0.990509  0.936406     91142\n",
      "           C   0.664405  0.661545  0.662972     80377\n",
      "           H   0.613240  0.552836  0.581474     53940\n",
      "           E   0.576067  0.479736  0.523507     29141\n",
      "\n",
      "    accuracy                       0.735467    254600\n",
      "   macro avg   0.685405  0.671157  0.676090    254600\n",
      "weighted avg   0.723463  0.735467  0.727627    254600\n",
      "\n"
     ]
    },
    {
     "data": {
      "image/png": "[encoded data removed]",
      "text/plain": [
       "<Figure size 640x480 with 2 Axes>"
      ]
     },
     "metadata": {},
     "output_type": "display_data"
    }
   ],
   "source": [
    "# Class labels as a dictionary, {0: \"Padding\", 1: \"C\", 2: \"H\", 3: \"E\"}\n",
    "\n",
    "print(\"===== With Oversampling =====\\n\")\n",
    "\n",
    "# Output useful metrics\n",
    "\n",
    "print(f\"Default Accuracy: {accuracy_score(y_test.flatten(), y_pred2.flatten())}\")\n",
    "print(f\"Q3 Accuracy: {q3_acc_numpy(y_test.flatten(), y_pred2.flatten())}\")\n",
    "print(\"\\n\", classification_report(y_test.flatten(), y_pred2.flatten(), target_names = [\"Padding\", \"C\", \"H\", \"E\"], digits = 6))\n",
    "\n",
    "# Create and display confusion matrix\n",
    "\n",
    "cm2 = confusion_matrix(y_test.flatten(), y_pred2.flatten())\n",
    "disp2 = ConfusionMatrixDisplay(confusion_matrix = cm2, display_labels = [\"Padding\", \"C\", \"H\", \"E\"])\n",
    "disp2.plot()\n",
    "disp2.figure_.savefig(\"disp2.pdf\")\n",
    "plt.show()"
   ]
  },
  {
   "cell_type": "code",
   "execution_count": null,
   "id": "7dab5e82",
   "metadata": {},
   "outputs": [],
   "source": []
  }
 ],
 "metadata": {
  "kaggle": {
   "accelerator": "none",
   "dataSources": [
    {
     "datasetId": 4213466,
     "sourceId": 7268634,
     "sourceType": "datasetVersion"
    }
   ],
   "dockerImageVersionId": 30626,
   "isGpuEnabled": false,
   "isInternetEnabled": true,
   "language": "python",
   "sourceType": "notebook"
  },
  "kernelspec": {
   "display_name": "Python 3 (ipykernel)",
   "language": "python",
   "name": "python3"
  },
  "language_info": {
   "codemirror_mode": {
    "name": "ipython",
    "version": 3
   },
   "file_extension": ".py",
   "mimetype": "text/x-python",
   "name": "python",
   "nbconvert_exporter": "python",
   "pygments_lexer": "ipython3",
   "version": "3.10.13"
  }
 },
 "nbformat": 4,
 "nbformat_minor": 5
}
